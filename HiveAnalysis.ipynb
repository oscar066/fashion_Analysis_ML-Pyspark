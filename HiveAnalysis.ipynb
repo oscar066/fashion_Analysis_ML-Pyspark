{
 "cells": [
  {
   "cell_type": "code",
   "execution_count": 1,
   "metadata": {},
   "outputs": [],
   "source": [
    "from pyhive import hive\n",
    "import pandas as pd\n",
    "import numpy as np\n",
    "import matplotlib.pyplot as plt\n",
    "import seaborn as sns"
   ]
  },
  {
   "cell_type": "code",
   "execution_count": null,
   "metadata": {},
   "outputs": [],
   "source": [
    "# create a connection to the hive server\n",
    "conn = hive.Connection(host='localhost', port=10000, username='hive', database='fashion_db', auth='NOSASL')\n",
    "\n",
    "# create a cursor\n",
    "cursor = conn.cursor()"
   ]
  },
  {
   "cell_type": "code",
   "execution_count": null,
   "metadata": {},
   "outputs": [],
   "source": [
    "# create a database\n",
    "cursor.execute('CREATE DATABASE IF NOT EXISTS fashion_db')"
   ]
  },
  {
   "cell_type": "code",
   "execution_count": null,
   "metadata": {},
   "outputs": [],
   "source": [
    "# create a table in the database\n",
    "cursor.execute('CREATE TABLE IF NOT EXISTS fashion_db.fashion (brand string, product_name string, price float, rating float, review_count int, product_url string, image_url string, product_id string) ROW FORMAT DELIMITED FIELDS TERMINATED BY \",\" LINES TERMINATED BY \"\" STORED AS TEXTFILE')\n",
    "\n",
    "# create a table in the database\n",
    "cursor.execute('CREATE TABLE IF NOT EXISTS fashion_db.brand (brand_name string, brand_url string, brand_id string) ROW FORMAT DELIMITED FIELDS TERMINATED BY \",\" LINES TERMINATED BY \"\" STORED AS TEXTFILE')\n",
    "\n",
    "# load the data into the tables\n",
    "cursor.execute('LOAD DATA LOCAL INPATH \"/content/fashiondataset.csv\" INTO TABLE fashion_db.fashion')\n",
    "cursor.execute('LOAD DATA LOCAL INPATH \"/content/fashion_brand_details.xlsx\" INTO TABLE fashion_db.brand')"
   ]
  },
  {
   "cell_type": "code",
   "execution_count": null,
   "metadata": {},
   "outputs": [],
   "source": [
    "# check if the tables are created in the database\n",
    "cursor.execute('SHOW TABLES')\n",
    "cursor.fetchall()"
   ]
  },
  {
   "cell_type": "code",
   "execution_count": null,
   "metadata": {},
   "outputs": [],
   "source": [
    "# select from the fashion table\n",
    "cursor.execute('SELECT * FROM fashion_db.fashion LIMIT 5')\n",
    "cursor.fetchall()\n",
    "\n",
    "# select from the brand table\n",
    "cursor.execute('SELECT * FROM fashion_db.brand LIMIT 5')\n",
    "cursor.fetchall()"
   ]
  },
  {
   "cell_type": "code",
   "execution_count": null,
   "metadata": {},
   "outputs": [],
   "source": [
    "# select data from both tables and create a main dataframe to be used for analysis\n",
    "cursor.execute('SELECT * FROM fashion_db.fashion INNER JOIN fashion_db.brand ON fashion_db.fashion.brand = fashion_db.brand.brand_name')\n",
    "main_df = pd.DataFrame(cursor.fetchall())"
   ]
  },
  {
   "cell_type": "code",
   "execution_count": null,
   "metadata": {},
   "outputs": [],
   "source": [
    "# close the connection\n",
    "conn.close()"
   ]
  },
  {
   "attachments": {},
   "cell_type": "markdown",
   "metadata": {},
   "source": [
    "### Data Analysis with Apache Hive"
   ]
  },
  {
   "cell_type": "code",
   "execution_count": null,
   "metadata": {},
   "outputs": [],
   "source": [
    "# create a pandas dataframe from the main dataframe\n",
    "main_df_hive = main_df.toPandas()\n",
    "\n",
    "# display the first 5 rows of the pandas dataframe\n",
    "main_df_hive.head()"
   ]
  },
  {
   "cell_type": "code",
   "execution_count": null,
   "metadata": {},
   "outputs": [],
   "source": [
    "import matplotlib.pyplot as plt\n",
    "import seaborn as sns\n",
    "sns.set(style=\"darkgrid\")"
   ]
  },
  {
   "cell_type": "code",
   "execution_count": null,
   "metadata": {},
   "outputs": [],
   "source": [
    "# What is the most popular brand?\n",
    "plt.figure(figsize=(10,8))\n",
    "sns.countplot(x='brand', data=main_df_hive, order=main_df_hive['brand'].value_counts().index[:10],palette='viridis',orient='h')\n",
    "\n",
    "plt.title('The most popular brand',fontsize=20)\n",
    "plt.xlabel('Brand',fontsize=15)\n",
    "plt.ylabel('frequency',fontsize=15)\n",
    "plt.xticks(rotation=90,fontsize=12)\n",
    "plt.yticks(fontsize=12)\n",
    "plt.show()"
   ]
  },
  {
   "cell_type": "code",
   "execution_count": null,
   "metadata": {},
   "outputs": [],
   "source": [
    "sorted_df = main_df_hive.sort_values(by='price', ascending=False)"
   ]
  },
  {
   "cell_type": "code",
   "execution_count": null,
   "metadata": {},
   "outputs": [],
   "source": [
    "# what are the most expensive brands?\n",
    "plt.figure(figsize=(10,8))\n",
    "sns.barplot(x=main_df_hive['brand'], y=sorted_df['price'] , data=main_df_hive ,order=main_df_hive['brand'].value_counts().index[:10],palette='viridis')\n",
    "plt.title(\"The Most Expensive brands\",fontsize=20)\n",
    "plt.xlabel(\"Brands\",fontsize=15)\n",
    "plt.ylabel(\"Prices\",fontsize=15)\n",
    "plt.xticks(rotation=85,fontsize=12)\n",
    "plt.yticks(fontsize=12)\n",
    "plt.show()"
   ]
  },
  {
   "cell_type": "code",
   "execution_count": null,
   "metadata": {},
   "outputs": [],
   "source": []
  }
 ],
 "metadata": {
  "kernelspec": {
   "display_name": "data",
   "language": "python",
   "name": "python3"
  },
  "language_info": {
   "codemirror_mode": {
    "name": "ipython",
    "version": 3
   },
   "file_extension": ".py",
   "mimetype": "text/x-python",
   "name": "python",
   "nbconvert_exporter": "python",
   "pygments_lexer": "ipython3",
   "version": "3.9.7 (default, Sep 16 2021, 08:50:36) \n[Clang 10.0.0 ]"
  },
  "orig_nbformat": 4,
  "vscode": {
   "interpreter": {
    "hash": "4b5221f7fd568601ffb692ded55cc6a8f9f720c6422993e13b3964f3c2d5ea0a"
   }
  }
 },
 "nbformat": 4,
 "nbformat_minor": 2
}
