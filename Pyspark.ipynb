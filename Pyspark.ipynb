{
 "cells": [
  {
   "attachments": {},
   "cell_type": "markdown",
   "metadata": {},
   "source": [
    "# Fashion Analysis using PySpark"
   ]
  },
  {
   "cell_type": "code",
   "execution_count": 1,
   "metadata": {},
   "outputs": [],
   "source": [
    "import pyspark\n",
    "import findspark"
   ]
  },
  {
   "cell_type": "code",
   "execution_count": 2,
   "metadata": {},
   "outputs": [
    {
     "name": "stderr",
     "output_type": "stream",
     "text": [
      "WARNING: An illegal reflective access operation has occurred\n",
      "WARNING: Illegal reflective access by org.apache.spark.unsafe.Platform (file:/Users/oscar/opt/anaconda3/envs/spark-env/lib/python3.9/site-packages/pyspark/jars/spark-unsafe_2.12-3.0.0.jar) to constructor java.nio.DirectByteBuffer(long,int)\n",
      "WARNING: Please consider reporting this to the maintainers of org.apache.spark.unsafe.Platform\n",
      "WARNING: Use --illegal-access=warn to enable warnings of further illegal reflective access operations\n",
      "WARNING: All illegal access operations will be denied in a future release\n",
      "23/01/05 14:23:49 WARN NativeCodeLoader: Unable to load native-hadoop library for your platform... using builtin-java classes where applicable\n",
      "Using Spark's default log4j profile: org/apache/spark/log4j-defaults.properties\n",
      "Setting default log level to \"WARN\".\n",
      "To adjust logging level use sc.setLogLevel(newLevel). For SparkR, use setLogLevel(newLevel).\n",
      "                                                                                \r"
     ]
    }
   ],
   "source": [
    "import pyspark\n",
    "from pyspark.sql import SparkSession\n",
    "\n",
    "# create a spark session\n",
    "spark = SparkSession.builder.appName('fashion').getOrCreate()\n",
    "\n",
    "# create a dataframe from the csv file\n",
    "fashion_df = spark.read.csv('fashiondataset.csv', inferSchema=True, header=True)\n"
   ]
  },
  {
   "cell_type": "code",
   "execution_count": 3,
   "metadata": {},
   "outputs": [
    {
     "name": "stderr",
     "output_type": "stream",
     "text": [
      "/Users/oscar/opt/anaconda3/envs/spark-env/lib/python3.9/site-packages/pyspark/sql/pandas/conversion.py:327: FutureWarning: iteritems is deprecated and will be removed in a future version. Use .items instead.\n",
      "  for column, series in pdf.iteritems():\n"
     ]
    }
   ],
   "source": [
    "import pandas as pd\n",
    "\n",
    "# Read the Excel file into a Pandas DataFrame\n",
    "pandas_df = pd.read_excel('fashion_brand_details.xlsx')\n",
    "\n",
    "# Convert the Pandas DataFrame into a Spark DataFrame\n",
    "brand_df = spark.createDataFrame(pandas_df)"
   ]
  },
  {
   "cell_type": "code",
   "execution_count": 4,
   "metadata": {},
   "outputs": [
    {
     "name": "stdout",
     "output_type": "stream",
     "text": [
      "root\n",
      " |-- p_id: string (nullable = true)\n",
      " |-- name: string (nullable = true)\n",
      " |-- price: string (nullable = true)\n",
      " |-- colour: string (nullable = true)\n",
      " |-- brand: string (nullable = true)\n",
      " |-- ratingCount: string (nullable = true)\n",
      " |-- avg_rating: string (nullable = true)\n",
      " |-- description: string (nullable = true)\n",
      " |-- p_attributes: string (nullable = true)\n",
      "\n"
     ]
    }
   ],
   "source": [
    "# diplays the schema\n",
    "fashion_df.printSchema()"
   ]
  },
  {
   "cell_type": "code",
   "execution_count": 5,
   "metadata": {},
   "outputs": [
    {
     "name": "stdout",
     "output_type": "stream",
     "text": [
      "+--------+--------------------+-----+-------+--------------+-----------+-----------+--------------------+--------------------+\n",
      "|    p_id|                name|price| colour|         brand|ratingCount| avg_rating|         description|        p_attributes|\n",
      "+--------+--------------------+-----+-------+--------------+-----------+-----------+--------------------+--------------------+\n",
      "| 1518329|Dupatta Bazaar Wh...|  899|  White|Dupatta Bazaar|       1321|4.548826646|White embroidered...|{'Occasion': 'Dai...|\n",
      "| 5829334|Roadster Women Mu...| 1199|Mustard|      Roadster|       5462|4.313255218|\"Mustard yellow s...|{'Body Shape ID':...|\n",
      "|10340119|Inddus Peach-Colo...| 5799|  Peach|        Inddus|        145|4.068965517|Peach-Coloured an...|{'Bottom Fabric':...|\n",
      "|10856380|SASSAFRAS Women B...| 1499|  Black|     SASSAFRAS|       9124|4.147523016|\"Black solid wove...|{'Add-Ons': 'NA',...|\n",
      "|12384822|Kotty Women Black...| 1999|  Black|         Kotty|      12260|4.078466558|\"Black dark wash ...|{'Add-Ons': 'NA',...|\n",
      "|12742100|KASSUALLY Women B...| 2199|  Black|     KASSUALLY|       6297|4.349213911|Black printed bas...|{'Body or Garment...|\n",
      "|13842966|Sassafras Brown &...| 1499|  Brown|     SASSAFRAS|       7358|4.395351998|<ul><li>Brown and...|{'Body Shape ID':...|\n",
      "|14021452|Sera Women Multic...| 1494|  Multi|          Sera|        750|      4.288|Brown and blue pr...|{'Body or Garment...|\n",
      "|14063026|Tokyo Talkies Wom...|  699|  Black| Tokyo Talkies|       1856|4.530711207|\"Black solid mid-...|{'Body or Garment...|\n",
      "|14324806|Anouk Stylish Bla...| 4699|  Black|         Anouk|         84| 3.80952381|Stay fashionable ...|{'Blouse Closure'...|\n",
      "+--------+--------------------+-----+-------+--------------+-----------+-----------+--------------------+--------------------+\n",
      "only showing top 10 rows\n",
      "\n"
     ]
    }
   ],
   "source": [
    "# display the fashion table\n",
    "fashion_df.show(10)"
   ]
  },
  {
   "cell_type": "code",
   "execution_count": 6,
   "metadata": {},
   "outputs": [
    {
     "name": "stderr",
     "output_type": "stream",
     "text": [
      "[Stage 3:>                                                          (0 + 1) / 1]\r"
     ]
    },
    {
     "name": "stdout",
     "output_type": "stream",
     "text": [
      "+--------+---------------+\n",
      "|brand_id|     brand_name|\n",
      "+--------+---------------+\n",
      "|       1|            513|\n",
      "|       2|           109F|\n",
      "|       3|      20Dresses|\n",
      "|       4|    250 Designs|\n",
      "|       5|           3Pin|\n",
      "|       6|  6Y Collective|\n",
      "|       7|98 Degree North|\n",
      "|       8|     9Teenagain|\n",
      "|       9| A Little Fable|\n",
      "|      10|       A.T.U.N.|\n",
      "+--------+---------------+\n",
      "only showing top 10 rows\n",
      "\n"
     ]
    },
    {
     "name": "stderr",
     "output_type": "stream",
     "text": [
      "                                                                                \r"
     ]
    }
   ],
   "source": [
    "# display the first 10 rows of the brand \n",
    "brand_df.show(10)"
   ]
  },
  {
   "cell_type": "code",
   "execution_count": 8,
   "metadata": {},
   "outputs": [
    {
     "data": {
      "text/plain": [
       "DataFrame[]"
      ]
     },
     "execution_count": 8,
     "metadata": {},
     "output_type": "execute_result"
    }
   ],
   "source": [
    "spark.sql(\"DROP DATABASE IF EXISTS fashion_db CASCADE\")"
   ]
  },
  {
   "cell_type": "code",
   "execution_count": 9,
   "metadata": {},
   "outputs": [
    {
     "data": {
      "text/plain": [
       "DataFrame[]"
      ]
     },
     "execution_count": 9,
     "metadata": {},
     "output_type": "execute_result"
    }
   ],
   "source": [
    "# create a database\n",
    "spark.sql('CREATE DATABASE IF NOT EXISTS fashion_db')"
   ]
  },
  {
   "cell_type": "code",
   "execution_count": 10,
   "metadata": {},
   "outputs": [
    {
     "name": "stdout",
     "output_type": "stream",
     "text": [
      "+----------+\n",
      "| namespace|\n",
      "+----------+\n",
      "|   default|\n",
      "|fashion_db|\n",
      "+----------+\n",
      "\n"
     ]
    }
   ],
   "source": [
    "spark.sql('SHOW DATABASES').show()"
   ]
  },
  {
   "cell_type": "code",
   "execution_count": 11,
   "metadata": {},
   "outputs": [
    {
     "data": {
      "text/plain": [
       "DataFrame[]"
      ]
     },
     "execution_count": 11,
     "metadata": {},
     "output_type": "execute_result"
    }
   ],
   "source": [
    "spark.sql('USE fashion_db')"
   ]
  },
  {
   "cell_type": "code",
   "execution_count": 12,
   "metadata": {},
   "outputs": [
    {
     "name": "stdout",
     "output_type": "stream",
     "text": [
      "+--------+---------+-----------+\n",
      "|database|tableName|isTemporary|\n",
      "+--------+---------+-----------+\n",
      "+--------+---------+-----------+\n",
      "\n"
     ]
    }
   ],
   "source": [
    "spark.sql('SHOW TABLES').show()"
   ]
  },
  {
   "cell_type": "code",
   "execution_count": 13,
   "metadata": {},
   "outputs": [
    {
     "name": "stderr",
     "output_type": "stream",
     "text": [
      "                                                                                \r"
     ]
    }
   ],
   "source": [
    "fashion_df.write.saveAsTable('fashion_db.fashion_table')"
   ]
  },
  {
   "cell_type": "code",
   "execution_count": 14,
   "metadata": {},
   "outputs": [],
   "source": [
    "brand_df.write.saveAsTable('fashion_db.brand_table')"
   ]
  },
  {
   "cell_type": "code",
   "execution_count": 15,
   "metadata": {},
   "outputs": [
    {
     "name": "stdout",
     "output_type": "stream",
     "text": [
      "++\n",
      "||\n",
      "++\n",
      "++\n",
      "\n"
     ]
    }
   ],
   "source": [
    "# check if the tables are created in the database\n",
    "spark.sql('USE fashion_db').show()"
   ]
  },
  {
   "cell_type": "code",
   "execution_count": 16,
   "metadata": {},
   "outputs": [
    {
     "name": "stdout",
     "output_type": "stream",
     "text": [
      "+----------+-------------+-----------+\n",
      "|  database|    tableName|isTemporary|\n",
      "+----------+-------------+-----------+\n",
      "|fashion_db|  brand_table|      false|\n",
      "|fashion_db|fashion_table|      false|\n",
      "+----------+-------------+-----------+\n",
      "\n"
     ]
    }
   ],
   "source": [
    "# check if the tables are created in the database\n",
    "spark.sql('SHOW TABLES').show()"
   ]
  },
  {
   "cell_type": "code",
   "execution_count": 17,
   "metadata": {},
   "outputs": [
    {
     "name": "stdout",
     "output_type": "stream",
     "text": [
      "+--------+--------------------+-----+-------+--------------+-----------+-----------+--------------------+--------------------+\n",
      "|    p_id|                name|price| colour|         brand|ratingCount| avg_rating|         description|        p_attributes|\n",
      "+--------+--------------------+-----+-------+--------------+-----------+-----------+--------------------+--------------------+\n",
      "| 1518329|Dupatta Bazaar Wh...|  899|  White|Dupatta Bazaar|       1321|4.548826646|White embroidered...|{'Occasion': 'Dai...|\n",
      "| 5829334|Roadster Women Mu...| 1199|Mustard|      Roadster|       5462|4.313255218|\"Mustard yellow s...|{'Body Shape ID':...|\n",
      "|10340119|Inddus Peach-Colo...| 5799|  Peach|        Inddus|        145|4.068965517|Peach-Coloured an...|{'Bottom Fabric':...|\n",
      "|10856380|SASSAFRAS Women B...| 1499|  Black|     SASSAFRAS|       9124|4.147523016|\"Black solid wove...|{'Add-Ons': 'NA',...|\n",
      "|12384822|Kotty Women Black...| 1999|  Black|         Kotty|      12260|4.078466558|\"Black dark wash ...|{'Add-Ons': 'NA',...|\n",
      "+--------+--------------------+-----+-------+--------------+-----------+-----------+--------------------+--------------------+\n",
      "\n"
     ]
    }
   ],
   "source": [
    "# select from the fashion table\n",
    "spark.sql('SELECT * FROM fashion_db.fashion_table LIMIT 5').show()"
   ]
  },
  {
   "cell_type": "code",
   "execution_count": 18,
   "metadata": {},
   "outputs": [
    {
     "name": "stdout",
     "output_type": "stream",
     "text": [
      "+--------+-----------+\n",
      "|brand_id| brand_name|\n",
      "+--------+-----------+\n",
      "|       1|        513|\n",
      "|       2|       109F|\n",
      "|       3|  20Dresses|\n",
      "|       4|250 Designs|\n",
      "|       5|       3Pin|\n",
      "+--------+-----------+\n",
      "\n"
     ]
    }
   ],
   "source": [
    "# select from the brand table\n",
    "spark.sql('SELECT * FROM fashion_db.brand_table LIMIT 5').show()"
   ]
  },
  {
   "cell_type": "code",
   "execution_count": 19,
   "metadata": {},
   "outputs": [],
   "source": [
    "# select data from both tables and create a main dataframe to be used for analysis\n",
    "main_df = spark.sql('SELECT * FROM fashion_db.fashion_table INNER JOIN fashion_db.brand_table ON fashion_db.fashion_table.brand = fashion_db.brand_table.brand_name')"
   ]
  },
  {
   "cell_type": "code",
   "execution_count": 20,
   "metadata": {},
   "outputs": [
    {
     "name": "stdout",
     "output_type": "stream",
     "text": [
      "+--------+--------------------+-----+-------+--------------+-----------+-----------+--------------------+--------------------+--------+--------------+\n",
      "|    p_id|                name|price| colour|         brand|ratingCount| avg_rating|         description|        p_attributes|brand_id|    brand_name|\n",
      "+--------+--------------------+-----+-------+--------------+-----------+-----------+--------------------+--------------------+--------+--------------+\n",
      "| 1518329|Dupatta Bazaar Wh...|  899|  White|Dupatta Bazaar|       1321|4.548826646|White embroidered...|{'Occasion': 'Dai...|     242|Dupatta Bazaar|\n",
      "| 5829334|Roadster Women Mu...| 1199|Mustard|      Roadster|       5462|4.313255218|\"Mustard yellow s...|{'Body Shape ID':...|     750|      Roadster|\n",
      "|10340119|Inddus Peach-Colo...| 5799|  Peach|        Inddus|        145|4.068965517|Peach-Coloured an...|{'Bottom Fabric':...|     389|        Inddus|\n",
      "|12384822|Kotty Women Black...| 1999|  Black|         Kotty|      12260|4.078466558|\"Black dark wash ...|{'Add-Ons': 'NA',...|     482|         Kotty|\n",
      "|14021452|Sera Women Multic...| 1494|  Multi|          Sera|        750|      4.288|Brown and blue pr...|{'Body or Garment...|     793|          Sera|\n",
      "|14063026|Tokyo Talkies Wom...|  699|  Black| Tokyo Talkies|       1856|4.530711207|\"Black solid mid-...|{'Body or Garment...|     903| Tokyo Talkies|\n",
      "|14324806|Anouk Stylish Bla...| 4699|  Black|         Anouk|         84| 3.80952381|Stay fashionable ...|{'Blouse Closure'...|      75|         Anouk|\n",
      "|14955068|Roadster Women El...| 2599|  Mauve|      Roadster|        752| 4.21143617|Add a hint of dra...|{'Add-Ons': 'NA',...|     750|      Roadster|\n",
      "|16827132|Tokyo Talkies Wom...| 1399| Maroon| Tokyo Talkies|        125|      3.912|<p>Maroon solid r...|{'Body Shape ID':...|     903| Tokyo Talkies|\n",
      "|17048614|Khushal K Women B...| 5099|  Black|     Khushal K|       4522|4.418398939|Black printed Kur...|{'Add-Ons': 'NA',...|     467|     Khushal K|\n",
      "+--------+--------------------+-----+-------+--------------+-----------+-----------+--------------------+--------------------+--------+--------------+\n",
      "only showing top 10 rows\n",
      "\n"
     ]
    }
   ],
   "source": [
    "# display the main dataframe\n",
    "main_df.show(10)"
   ]
  },
  {
   "attachments": {},
   "cell_type": "markdown",
   "metadata": {},
   "source": [
    "### Data Analysis with Pyspark"
   ]
  },
  {
   "cell_type": "code",
   "execution_count": 21,
   "metadata": {},
   "outputs": [
    {
     "name": "stderr",
     "output_type": "stream",
     "text": [
      "                                                                                \r"
     ]
    },
    {
     "data": {
      "text/html": [
       "<div>\n",
       "<style scoped>\n",
       "    .dataframe tbody tr th:only-of-type {\n",
       "        vertical-align: middle;\n",
       "    }\n",
       "\n",
       "    .dataframe tbody tr th {\n",
       "        vertical-align: top;\n",
       "    }\n",
       "\n",
       "    .dataframe thead th {\n",
       "        text-align: right;\n",
       "    }\n",
       "</style>\n",
       "<table border=\"1\" class=\"dataframe\">\n",
       "  <thead>\n",
       "    <tr style=\"text-align: right;\">\n",
       "      <th></th>\n",
       "      <th>p_id</th>\n",
       "      <th>name</th>\n",
       "      <th>price</th>\n",
       "      <th>colour</th>\n",
       "      <th>brand</th>\n",
       "      <th>ratingCount</th>\n",
       "      <th>avg_rating</th>\n",
       "      <th>description</th>\n",
       "      <th>p_attributes</th>\n",
       "      <th>brand_id</th>\n",
       "      <th>brand_name</th>\n",
       "    </tr>\n",
       "  </thead>\n",
       "  <tbody>\n",
       "    <tr>\n",
       "      <th>0</th>\n",
       "      <td>1518329</td>\n",
       "      <td>Dupatta Bazaar White Embroidered Chiffon Dupatta</td>\n",
       "      <td>899</td>\n",
       "      <td>White</td>\n",
       "      <td>Dupatta Bazaar</td>\n",
       "      <td>1321</td>\n",
       "      <td>4.548826646</td>\n",
       "      <td>White embroidered&amp;nbsp;dupattaChiffon&lt;br&gt;Hand-...</td>\n",
       "      <td>{'Occasion': 'Daily', 'Pattern': 'Embroidered'...</td>\n",
       "      <td>242</td>\n",
       "      <td>Dupatta Bazaar</td>\n",
       "    </tr>\n",
       "    <tr>\n",
       "      <th>1</th>\n",
       "      <td>5829334</td>\n",
       "      <td>Roadster Women Mustard Yellow Solid Hooded Swe...</td>\n",
       "      <td>1199</td>\n",
       "      <td>Mustard</td>\n",
       "      <td>Roadster</td>\n",
       "      <td>5462</td>\n",
       "      <td>4.313255218</td>\n",
       "      <td>\"Mustard yellow solid sweatshirt, has a hood, ...</td>\n",
       "      <td>{'Body Shape ID': '443,424,324', 'Body or Garm...</td>\n",
       "      <td>750</td>\n",
       "      <td>Roadster</td>\n",
       "    </tr>\n",
       "    <tr>\n",
       "      <th>2</th>\n",
       "      <td>10340119</td>\n",
       "      <td>Inddus Peach-Coloured &amp; Beige Unstitched Dress...</td>\n",
       "      <td>5799</td>\n",
       "      <td>Peach</td>\n",
       "      <td>Inddus</td>\n",
       "      <td>145</td>\n",
       "      <td>4.068965517</td>\n",
       "      <td>Peach-Coloured and beige woven design unstitch...</td>\n",
       "      <td>{'Bottom Fabric': 'Cotton Blend', 'Bottom Patt...</td>\n",
       "      <td>389</td>\n",
       "      <td>Inddus</td>\n",
       "    </tr>\n",
       "    <tr>\n",
       "      <th>3</th>\n",
       "      <td>12384822</td>\n",
       "      <td>Kotty Women Black Wide Leg High-Rise Clean Loo...</td>\n",
       "      <td>1999</td>\n",
       "      <td>Black</td>\n",
       "      <td>Kotty</td>\n",
       "      <td>12260</td>\n",
       "      <td>4.078466558</td>\n",
       "      <td>\"Black dark wash 4-pocket high-rise jeans, cle...</td>\n",
       "      <td>{'Add-Ons': 'NA', 'Brand Fit Name': 'NA', 'Clo...</td>\n",
       "      <td>482</td>\n",
       "      <td>Kotty</td>\n",
       "    </tr>\n",
       "    <tr>\n",
       "      <th>4</th>\n",
       "      <td>14021452</td>\n",
       "      <td>Sera Women Multicoloured  Printed Tie-Up Shrug</td>\n",
       "      <td>1494</td>\n",
       "      <td>Multi</td>\n",
       "      <td>Sera</td>\n",
       "      <td>750</td>\n",
       "      <td>4.288</td>\n",
       "      <td>Brown and blue printed tie-up longline shrug, ...</td>\n",
       "      <td>{'Body or Garment Size': 'To-Fit Denotes Body ...</td>\n",
       "      <td>793</td>\n",
       "      <td>Sera</td>\n",
       "    </tr>\n",
       "  </tbody>\n",
       "</table>\n",
       "</div>"
      ],
      "text/plain": [
       "       p_id                                               name price   colour  \\\n",
       "0   1518329   Dupatta Bazaar White Embroidered Chiffon Dupatta   899    White   \n",
       "1   5829334  Roadster Women Mustard Yellow Solid Hooded Swe...  1199  Mustard   \n",
       "2  10340119  Inddus Peach-Coloured & Beige Unstitched Dress...  5799    Peach   \n",
       "3  12384822  Kotty Women Black Wide Leg High-Rise Clean Loo...  1999    Black   \n",
       "4  14021452     Sera Women Multicoloured  Printed Tie-Up Shrug  1494    Multi   \n",
       "\n",
       "            brand ratingCount   avg_rating  \\\n",
       "0  Dupatta Bazaar        1321  4.548826646   \n",
       "1        Roadster        5462  4.313255218   \n",
       "2          Inddus         145  4.068965517   \n",
       "3           Kotty       12260  4.078466558   \n",
       "4            Sera         750        4.288   \n",
       "\n",
       "                                         description  \\\n",
       "0  White embroidered&nbsp;dupattaChiffon<br>Hand-...   \n",
       "1  \"Mustard yellow solid sweatshirt, has a hood, ...   \n",
       "2  Peach-Coloured and beige woven design unstitch...   \n",
       "3  \"Black dark wash 4-pocket high-rise jeans, cle...   \n",
       "4  Brown and blue printed tie-up longline shrug, ...   \n",
       "\n",
       "                                        p_attributes  brand_id      brand_name  \n",
       "0  {'Occasion': 'Daily', 'Pattern': 'Embroidered'...       242  Dupatta Bazaar  \n",
       "1  {'Body Shape ID': '443,424,324', 'Body or Garm...       750        Roadster  \n",
       "2  {'Bottom Fabric': 'Cotton Blend', 'Bottom Patt...       389          Inddus  \n",
       "3  {'Add-Ons': 'NA', 'Brand Fit Name': 'NA', 'Clo...       482           Kotty  \n",
       "4  {'Body or Garment Size': 'To-Fit Denotes Body ...       793            Sera  "
      ]
     },
     "execution_count": 21,
     "metadata": {},
     "output_type": "execute_result"
    }
   ],
   "source": [
    "# create a pandas dataframe from the main dataframe\n",
    "main_df_pd = main_df.toPandas()\n",
    "\n",
    "# display the first 5 rows of the pandas dataframe\n",
    "main_df_pd.head()"
   ]
  },
  {
   "cell_type": "code",
   "execution_count": 22,
   "metadata": {},
   "outputs": [],
   "source": [
    "import matplotlib.pyplot as plt\n",
    "import seaborn as sns\n",
    "sns.set(style=\"darkgrid\")"
   ]
  },
  {
   "cell_type": "code",
   "execution_count": 23,
   "metadata": {},
   "outputs": [
    {
     "data": {
      "image/png": "[encoded data removed]",
      "text/plain": [
       "<Figure size 1000x800 with 1 Axes>"
      ]
     },
     "metadata": {},
     "output_type": "display_data"
    }
   ],
   "source": [
    "# What is the most popular brand?\n",
    "plt.figure(figsize=(10,8))\n",
    "sns.countplot(x='brand', data=main_df_pd, order=main_df_pd['brand'].value_counts().index[:10],palette='viridis',orient='h')\n",
    "\n",
    "plt.title('The most popular brand',fontsize=20)\n",
    "plt.xlabel('Brand',fontsize=15)\n",
    "plt.ylabel('frequency',fontsize=15)\n",
    "plt.xticks(rotation=90,fontsize=12)\n",
    "plt.yticks(fontsize=12)\n",
    "plt.show()"
   ]
  },
  {
   "attachments": {},
   "cell_type": "markdown",
   "metadata": {},
   "source": [
    "The most popular brands is Roadster"
   ]
  },
  {
   "cell_type": "code",
   "execution_count": 25,
   "metadata": {},
   "outputs": [],
   "source": [
    "# typecast the columns to the correct data type\n",
    "main_df_pd['price'] = main_df_pd['price'].astype('float')"
   ]
  },
  {
   "cell_type": "code",
   "execution_count": 31,
   "metadata": {},
   "outputs": [],
   "source": [
    "sorted_df = main_df_pd.sort_values(by='price', ascending=False)"
   ]
  },
  {
   "cell_type": "code",
   "execution_count": 33,
   "metadata": {},
   "outputs": [
    {
     "data": {
      "image/png": "[encoded data removed]",
      "text/plain": [
       "<Figure size 1000x800 with 1 Axes>"
      ]
     },
     "metadata": {},
     "output_type": "display_data"
    }
   ],
   "source": [
    "# what are the most expensive brands?\n",
    "plt.figure(figsize=(10,8))\n",
    "sns.barplot(x=main_df_pd['brand'], y=sorted_df['price'] , data=main_df_pd ,order=main_df_pd['brand'].value_counts().index[:10],palette='viridis')\n",
    "plt.title(\"The Most Expensive brands\",fontsize=20)\n",
    "plt.xlabel(\"Brands\",fontsize=15)\n",
    "plt.ylabel(\"Prices\",fontsize=15)\n",
    "plt.xticks(rotation=85,fontsize=12)\n",
    "plt.yticks(fontsize=12)\n",
    "plt.show()"
   ]
  },
  {
   "attachments": {},
   "cell_type": "markdown",
   "metadata": {},
   "source": [
    "The most expensive brand is Readiprint Fashions"
   ]
  },
  {
   "cell_type": "code",
   "execution_count": 34,
   "metadata": {},
   "outputs": [],
   "source": [
    "# close the connection\n",
    "spark.stop()"
   ]
  },
  {
   "attachments": {},
   "cell_type": "markdown",
   "metadata": {},
   "source": [
    "### Machine Learning with Pyspark"
   ]
  },
  {
   "cell_type": "code",
   "execution_count": null,
   "metadata": {},
   "outputs": [],
   "source": [
    "# machine learning\n"
   ]
  }
 ],
 "metadata": {
  "kernelspec": {
   "display_name": "spark-env",
   "language": "python",
   "name": "python3"
  },
  "language_info": {
   "codemirror_mode": {
    "name": "ipython",
    "version": 3
   },
   "file_extension": ".py",
   "mimetype": "text/x-python",
   "name": "python",
   "nbconvert_exporter": "python",
   "pygments_lexer": "ipython3",
   "version": "3.9.15 (main, Nov 24 2022, 08:29:02) \n[Clang 14.0.6 ]"
  },
  "orig_nbformat": 4,
  "vscode": {
   "interpreter": {
    "hash": "0c1dd7513c97897f9351888fc5d8dbb3bae3486f619abd16008d1b8fea1363bc"
   }
  }
 },
 "nbformat": 4,
 "nbformat_minor": 2
}
