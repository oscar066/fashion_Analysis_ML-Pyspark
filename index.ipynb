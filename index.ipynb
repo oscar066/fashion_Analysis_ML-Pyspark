{
 "cells": [
  {
   "attachments": {},
   "cell_type": "markdown",
   "metadata": {},
   "source": [
    "# Fashion Analysis "
   ]
  },
  {
   "cell_type": "code",
   "execution_count": 1,
   "metadata": {},
   "outputs": [],
   "source": [
    "import pandas as pd\n",
    "import numpy as np\n",
    "import matplotlib.pyplot as  plt\n",
    "import seaborn as sns\n",
    "%matplotlib inline\n",
    "\n",
    "import warnings\n",
    "warnings.filterwarnings('ignore')"
   ]
  },
  {
   "cell_type": "code",
   "execution_count": 2,
   "metadata": {},
   "outputs": [
    {
     "data": {
      "text/html": [
       "<div>\n",
       "<style scoped>\n",
       "    .dataframe tbody tr th:only-of-type {\n",
       "        vertical-align: middle;\n",
       "    }\n",
       "\n",
       "    .dataframe tbody tr th {\n",
       "        vertical-align: top;\n",
       "    }\n",
       "\n",
       "    .dataframe thead th {\n",
       "        text-align: right;\n",
       "    }\n",
       "</style>\n",
       "<table border=\"1\" class=\"dataframe\">\n",
       "  <thead>\n",
       "    <tr style=\"text-align: right;\">\n",
       "      <th></th>\n",
       "      <th>p_id</th>\n",
       "      <th>name</th>\n",
       "      <th>price</th>\n",
       "      <th>colour</th>\n",
       "      <th>brand</th>\n",
       "      <th>ratingCount</th>\n",
       "      <th>avg_rating</th>\n",
       "      <th>description</th>\n",
       "      <th>p_attributes</th>\n",
       "    </tr>\n",
       "  </thead>\n",
       "  <tbody>\n",
       "    <tr>\n",
       "      <th>0</th>\n",
       "      <td>1518329.0</td>\n",
       "      <td>Dupatta Bazaar White Embroidered Chiffon Dupatta</td>\n",
       "      <td>899.0</td>\n",
       "      <td>White</td>\n",
       "      <td>Dupatta Bazaar</td>\n",
       "      <td>1321.0</td>\n",
       "      <td>4.548827</td>\n",
       "      <td>White embroidered&amp;nbsp;dupattaChiffon&lt;br&gt;Hand-...</td>\n",
       "      <td>{'Occasion': 'Daily', 'Pattern': 'Embroidered'...</td>\n",
       "    </tr>\n",
       "    <tr>\n",
       "      <th>1</th>\n",
       "      <td>5829334.0</td>\n",
       "      <td>Roadster Women Mustard Yellow Solid Hooded Swe...</td>\n",
       "      <td>1199.0</td>\n",
       "      <td>Mustard</td>\n",
       "      <td>Roadster</td>\n",
       "      <td>5462.0</td>\n",
       "      <td>4.313255</td>\n",
       "      <td>Mustard yellow solid sweatshirt, has a hood, t...</td>\n",
       "      <td>{'Body Shape ID': '443,424,324', 'Body or Garm...</td>\n",
       "    </tr>\n",
       "    <tr>\n",
       "      <th>2</th>\n",
       "      <td>10340119.0</td>\n",
       "      <td>Inddus Peach-Coloured &amp; Beige Unstitched Dress...</td>\n",
       "      <td>5799.0</td>\n",
       "      <td>Peach</td>\n",
       "      <td>Inddus</td>\n",
       "      <td>145.0</td>\n",
       "      <td>4.068966</td>\n",
       "      <td>Peach-Coloured and beige woven design unstitch...</td>\n",
       "      <td>{'Bottom Fabric': 'Cotton Blend', 'Bottom Patt...</td>\n",
       "    </tr>\n",
       "    <tr>\n",
       "      <th>3</th>\n",
       "      <td>10856380.0</td>\n",
       "      <td>SASSAFRAS Women Black Parallel Trousers</td>\n",
       "      <td>1499.0</td>\n",
       "      <td>Black</td>\n",
       "      <td>SASSAFRAS</td>\n",
       "      <td>9124.0</td>\n",
       "      <td>4.147523</td>\n",
       "      <td>Black solid woven high-rise parallel trousers,...</td>\n",
       "      <td>{'Add-Ons': 'NA', 'Body Shape ID': '424', 'Bod...</td>\n",
       "    </tr>\n",
       "    <tr>\n",
       "      <th>4</th>\n",
       "      <td>12384822.0</td>\n",
       "      <td>Kotty Women Black Wide Leg High-Rise Clean Loo...</td>\n",
       "      <td>1999.0</td>\n",
       "      <td>Black</td>\n",
       "      <td>Kotty</td>\n",
       "      <td>12260.0</td>\n",
       "      <td>4.078467</td>\n",
       "      <td>Black dark wash 4-pocket high-rise jeans, clea...</td>\n",
       "      <td>{'Add-Ons': 'NA', 'Brand Fit Name': 'NA', 'Clo...</td>\n",
       "    </tr>\n",
       "  </tbody>\n",
       "</table>\n",
       "</div>"
      ],
      "text/plain": [
       "         p_id                                               name   price  \\\n",
       "0   1518329.0   Dupatta Bazaar White Embroidered Chiffon Dupatta   899.0   \n",
       "1   5829334.0  Roadster Women Mustard Yellow Solid Hooded Swe...  1199.0   \n",
       "2  10340119.0  Inddus Peach-Coloured & Beige Unstitched Dress...  5799.0   \n",
       "3  10856380.0            SASSAFRAS Women Black Parallel Trousers  1499.0   \n",
       "4  12384822.0  Kotty Women Black Wide Leg High-Rise Clean Loo...  1999.0   \n",
       "\n",
       "    colour           brand  ratingCount  avg_rating  \\\n",
       "0    White  Dupatta Bazaar       1321.0    4.548827   \n",
       "1  Mustard        Roadster       5462.0    4.313255   \n",
       "2    Peach          Inddus        145.0    4.068966   \n",
       "3    Black       SASSAFRAS       9124.0    4.147523   \n",
       "4    Black           Kotty      12260.0    4.078467   \n",
       "\n",
       "                                         description  \\\n",
       "0  White embroidered&nbsp;dupattaChiffon<br>Hand-...   \n",
       "1  Mustard yellow solid sweatshirt, has a hood, t...   \n",
       "2  Peach-Coloured and beige woven design unstitch...   \n",
       "3  Black solid woven high-rise parallel trousers,...   \n",
       "4  Black dark wash 4-pocket high-rise jeans, clea...   \n",
       "\n",
       "                                        p_attributes  \n",
       "0  {'Occasion': 'Daily', 'Pattern': 'Embroidered'...  \n",
       "1  {'Body Shape ID': '443,424,324', 'Body or Garm...  \n",
       "2  {'Bottom Fabric': 'Cotton Blend', 'Bottom Patt...  \n",
       "3  {'Add-Ons': 'NA', 'Body Shape ID': '424', 'Bod...  \n",
       "4  {'Add-Ons': 'NA', 'Brand Fit Name': 'NA', 'Clo...  "
      ]
     },
     "execution_count": 2,
     "metadata": {},
     "output_type": "execute_result"
    }
   ],
   "source": [
    "fashion_df = pd.read_csv(\"fashiondataset.csv\")\n",
    "fashion_df.head()"
   ]
  },
  {
   "cell_type": "code",
   "execution_count": 3,
   "metadata": {},
   "outputs": [
    {
     "data": {
      "text/html": [
       "<div>\n",
       "<style scoped>\n",
       "    .dataframe tbody tr th:only-of-type {\n",
       "        vertical-align: middle;\n",
       "    }\n",
       "\n",
       "    .dataframe tbody tr th {\n",
       "        vertical-align: top;\n",
       "    }\n",
       "\n",
       "    .dataframe thead th {\n",
       "        text-align: right;\n",
       "    }\n",
       "</style>\n",
       "<table border=\"1\" class=\"dataframe\">\n",
       "  <thead>\n",
       "    <tr style=\"text-align: right;\">\n",
       "      <th></th>\n",
       "      <th>brand_id</th>\n",
       "      <th>brand_name</th>\n",
       "    </tr>\n",
       "  </thead>\n",
       "  <tbody>\n",
       "    <tr>\n",
       "      <th>0</th>\n",
       "      <td>1</td>\n",
       "      <td>513</td>\n",
       "    </tr>\n",
       "    <tr>\n",
       "      <th>1</th>\n",
       "      <td>2</td>\n",
       "      <td>109F</td>\n",
       "    </tr>\n",
       "    <tr>\n",
       "      <th>2</th>\n",
       "      <td>3</td>\n",
       "      <td>20Dresses</td>\n",
       "    </tr>\n",
       "    <tr>\n",
       "      <th>3</th>\n",
       "      <td>4</td>\n",
       "      <td>250 Designs</td>\n",
       "    </tr>\n",
       "    <tr>\n",
       "      <th>4</th>\n",
       "      <td>5</td>\n",
       "      <td>3Pin</td>\n",
       "    </tr>\n",
       "  </tbody>\n",
       "</table>\n",
       "</div>"
      ],
      "text/plain": [
       "   brand_id   brand_name\n",
       "0         1          513\n",
       "1         2         109F\n",
       "2         3    20Dresses\n",
       "3         4  250 Designs\n",
       "4         5         3Pin"
      ]
     },
     "execution_count": 3,
     "metadata": {},
     "output_type": "execute_result"
    }
   ],
   "source": [
    "brand_df = pd.read_excel('fashion_brand_details.xlsx')\n",
    "brand_df.head()"
   ]
  },
  {
   "attachments": {},
   "cell_type": "markdown",
   "metadata": {},
   "source": [
    "### 1. SQL implementation to create a main dataframe from the two csv files"
   ]
  },
  {
   "cell_type": "code",
   "execution_count": 4,
   "metadata": {},
   "outputs": [],
   "source": [
    "# convert pandas dataframe to sqlite table\n",
    "import sqlite3\n",
    "\n",
    "conn = sqlite3.connect('fashion.db')\n",
    "c = conn.cursor()\n",
    "\n",
    "# creating the fashion table in the database\n",
    "fashion_df.to_sql('fashion', conn, if_exists='replace', index = False)\n",
    "\n",
    "# creating the brand table in the database\n",
    "brand_df.to_sql('brand', conn, if_exists='replace', index = False)\n",
    "\n"
   ]
  },
  {
   "cell_type": "code",
   "execution_count": 5,
   "metadata": {},
   "outputs": [
    {
     "name": "stdout",
     "output_type": "stream",
     "text": [
      "[('fashion',), ('brand',)]\n"
     ]
    }
   ],
   "source": [
    "# check if the tables are created in the database\n",
    "p = \"\"\"\n",
    "SELECT name FROM sqlite_master WHERE type='table';\n",
    "\"\"\"\n",
    "#conn = sqlite3.connect('fashion.db')\n",
    "#c = conn.cursor()\n",
    "c.execute(p)\n",
    "print(c.fetchall())"
   ]
  },
  {
   "cell_type": "code",
   "execution_count": 6,
   "metadata": {},
   "outputs": [
    {
     "data": {
      "text/html": [
       "<div>\n",
       "<style scoped>\n",
       "    .dataframe tbody tr th:only-of-type {\n",
       "        vertical-align: middle;\n",
       "    }\n",
       "\n",
       "    .dataframe tbody tr th {\n",
       "        vertical-align: top;\n",
       "    }\n",
       "\n",
       "    .dataframe thead th {\n",
       "        text-align: right;\n",
       "    }\n",
       "</style>\n",
       "<table border=\"1\" class=\"dataframe\">\n",
       "  <thead>\n",
       "    <tr style=\"text-align: right;\">\n",
       "      <th></th>\n",
       "      <th>p_id</th>\n",
       "      <th>name</th>\n",
       "      <th>price</th>\n",
       "      <th>colour</th>\n",
       "      <th>brand</th>\n",
       "      <th>ratingCount</th>\n",
       "      <th>avg_rating</th>\n",
       "      <th>description</th>\n",
       "      <th>p_attributes</th>\n",
       "    </tr>\n",
       "  </thead>\n",
       "  <tbody>\n",
       "    <tr>\n",
       "      <th>0</th>\n",
       "      <td>1518329.0</td>\n",
       "      <td>Dupatta Bazaar White Embroidered Chiffon Dupatta</td>\n",
       "      <td>899.0</td>\n",
       "      <td>White</td>\n",
       "      <td>Dupatta Bazaar</td>\n",
       "      <td>1321.0</td>\n",
       "      <td>4.548827</td>\n",
       "      <td>White embroidered&amp;nbsp;dupattaChiffon&lt;br&gt;Hand-...</td>\n",
       "      <td>{'Occasion': 'Daily', 'Pattern': 'Embroidered'...</td>\n",
       "    </tr>\n",
       "    <tr>\n",
       "      <th>1</th>\n",
       "      <td>5829334.0</td>\n",
       "      <td>Roadster Women Mustard Yellow Solid Hooded Swe...</td>\n",
       "      <td>1199.0</td>\n",
       "      <td>Mustard</td>\n",
       "      <td>Roadster</td>\n",
       "      <td>5462.0</td>\n",
       "      <td>4.313255</td>\n",
       "      <td>Mustard yellow solid sweatshirt, has a hood, t...</td>\n",
       "      <td>{'Body Shape ID': '443,424,324', 'Body or Garm...</td>\n",
       "    </tr>\n",
       "    <tr>\n",
       "      <th>2</th>\n",
       "      <td>10340119.0</td>\n",
       "      <td>Inddus Peach-Coloured &amp; Beige Unstitched Dress...</td>\n",
       "      <td>5799.0</td>\n",
       "      <td>Peach</td>\n",
       "      <td>Inddus</td>\n",
       "      <td>145.0</td>\n",
       "      <td>4.068966</td>\n",
       "      <td>Peach-Coloured and beige woven design unstitch...</td>\n",
       "      <td>{'Bottom Fabric': 'Cotton Blend', 'Bottom Patt...</td>\n",
       "    </tr>\n",
       "    <tr>\n",
       "      <th>3</th>\n",
       "      <td>10856380.0</td>\n",
       "      <td>SASSAFRAS Women Black Parallel Trousers</td>\n",
       "      <td>1499.0</td>\n",
       "      <td>Black</td>\n",
       "      <td>SASSAFRAS</td>\n",
       "      <td>9124.0</td>\n",
       "      <td>4.147523</td>\n",
       "      <td>Black solid woven high-rise parallel trousers,...</td>\n",
       "      <td>{'Add-Ons': 'NA', 'Body Shape ID': '424', 'Bod...</td>\n",
       "    </tr>\n",
       "    <tr>\n",
       "      <th>4</th>\n",
       "      <td>12384822.0</td>\n",
       "      <td>Kotty Women Black Wide Leg High-Rise Clean Loo...</td>\n",
       "      <td>1999.0</td>\n",
       "      <td>Black</td>\n",
       "      <td>Kotty</td>\n",
       "      <td>12260.0</td>\n",
       "      <td>4.078467</td>\n",
       "      <td>Black dark wash 4-pocket high-rise jeans, clea...</td>\n",
       "      <td>{'Add-Ons': 'NA', 'Brand Fit Name': 'NA', 'Clo...</td>\n",
       "    </tr>\n",
       "  </tbody>\n",
       "</table>\n",
       "</div>"
      ],
      "text/plain": [
       "         p_id                                               name   price  \\\n",
       "0   1518329.0   Dupatta Bazaar White Embroidered Chiffon Dupatta   899.0   \n",
       "1   5829334.0  Roadster Women Mustard Yellow Solid Hooded Swe...  1199.0   \n",
       "2  10340119.0  Inddus Peach-Coloured & Beige Unstitched Dress...  5799.0   \n",
       "3  10856380.0            SASSAFRAS Women Black Parallel Trousers  1499.0   \n",
       "4  12384822.0  Kotty Women Black Wide Leg High-Rise Clean Loo...  1999.0   \n",
       "\n",
       "    colour           brand  ratingCount  avg_rating  \\\n",
       "0    White  Dupatta Bazaar       1321.0    4.548827   \n",
       "1  Mustard        Roadster       5462.0    4.313255   \n",
       "2    Peach          Inddus        145.0    4.068966   \n",
       "3    Black       SASSAFRAS       9124.0    4.147523   \n",
       "4    Black           Kotty      12260.0    4.078467   \n",
       "\n",
       "                                         description  \\\n",
       "0  White embroidered&nbsp;dupattaChiffon<br>Hand-...   \n",
       "1  Mustard yellow solid sweatshirt, has a hood, t...   \n",
       "2  Peach-Coloured and beige woven design unstitch...   \n",
       "3  Black solid woven high-rise parallel trousers,...   \n",
       "4  Black dark wash 4-pocket high-rise jeans, clea...   \n",
       "\n",
       "                                        p_attributes  \n",
       "0  {'Occasion': 'Daily', 'Pattern': 'Embroidered'...  \n",
       "1  {'Body Shape ID': '443,424,324', 'Body or Garm...  \n",
       "2  {'Bottom Fabric': 'Cotton Blend', 'Bottom Patt...  \n",
       "3  {'Add-Ons': 'NA', 'Body Shape ID': '424', 'Bod...  \n",
       "4  {'Add-Ons': 'NA', 'Brand Fit Name': 'NA', 'Clo...  "
      ]
     },
     "execution_count": 6,
     "metadata": {},
     "output_type": "execute_result"
    }
   ],
   "source": [
    "# select from the fashion table\n",
    "\n",
    "q = \"\"\"\n",
    "SELECT * FROM fashion LIMIT 5;\n",
    "\"\"\"\n",
    "pd.read_sql(q, conn)"
   ]
  },
  {
   "cell_type": "code",
   "execution_count": 7,
   "metadata": {},
   "outputs": [
    {
     "data": {
      "text/html": [
       "<div>\n",
       "<style scoped>\n",
       "    .dataframe tbody tr th:only-of-type {\n",
       "        vertical-align: middle;\n",
       "    }\n",
       "\n",
       "    .dataframe tbody tr th {\n",
       "        vertical-align: top;\n",
       "    }\n",
       "\n",
       "    .dataframe thead th {\n",
       "        text-align: right;\n",
       "    }\n",
       "</style>\n",
       "<table border=\"1\" class=\"dataframe\">\n",
       "  <thead>\n",
       "    <tr style=\"text-align: right;\">\n",
       "      <th></th>\n",
       "      <th>brand_id</th>\n",
       "      <th>brand_name</th>\n",
       "    </tr>\n",
       "  </thead>\n",
       "  <tbody>\n",
       "    <tr>\n",
       "      <th>0</th>\n",
       "      <td>1</td>\n",
       "      <td>513</td>\n",
       "    </tr>\n",
       "    <tr>\n",
       "      <th>1</th>\n",
       "      <td>2</td>\n",
       "      <td>109F</td>\n",
       "    </tr>\n",
       "    <tr>\n",
       "      <th>2</th>\n",
       "      <td>3</td>\n",
       "      <td>20Dresses</td>\n",
       "    </tr>\n",
       "    <tr>\n",
       "      <th>3</th>\n",
       "      <td>4</td>\n",
       "      <td>250 Designs</td>\n",
       "    </tr>\n",
       "    <tr>\n",
       "      <th>4</th>\n",
       "      <td>5</td>\n",
       "      <td>3Pin</td>\n",
       "    </tr>\n",
       "  </tbody>\n",
       "</table>\n",
       "</div>"
      ],
      "text/plain": [
       "   brand_id   brand_name\n",
       "0         1          513\n",
       "1         2         109F\n",
       "2         3    20Dresses\n",
       "3         4  250 Designs\n",
       "4         5         3Pin"
      ]
     },
     "execution_count": 7,
     "metadata": {},
     "output_type": "execute_result"
    }
   ],
   "source": [
    "# select the  brand table  \n",
    "\n",
    "b = \"\"\"\n",
    "SELECT * FROM brand LIMIT 5;\n",
    "\"\"\"\n",
    "pd.read_sql(b, conn)"
   ]
  },
  {
   "cell_type": "code",
   "execution_count": 8,
   "metadata": {},
   "outputs": [
    {
     "data": {
      "text/html": [
       "<div>\n",
       "<style scoped>\n",
       "    .dataframe tbody tr th:only-of-type {\n",
       "        vertical-align: middle;\n",
       "    }\n",
       "\n",
       "    .dataframe tbody tr th {\n",
       "        vertical-align: top;\n",
       "    }\n",
       "\n",
       "    .dataframe thead th {\n",
       "        text-align: right;\n",
       "    }\n",
       "</style>\n",
       "<table border=\"1\" class=\"dataframe\">\n",
       "  <thead>\n",
       "    <tr style=\"text-align: right;\">\n",
       "      <th></th>\n",
       "      <th>p_id</th>\n",
       "      <th>name</th>\n",
       "      <th>price</th>\n",
       "      <th>colour</th>\n",
       "      <th>brand</th>\n",
       "      <th>ratingCount</th>\n",
       "      <th>avg_rating</th>\n",
       "      <th>description</th>\n",
       "      <th>p_attributes</th>\n",
       "      <th>brand_id</th>\n",
       "      <th>brand_name</th>\n",
       "    </tr>\n",
       "  </thead>\n",
       "  <tbody>\n",
       "    <tr>\n",
       "      <th>0</th>\n",
       "      <td>1518329.0</td>\n",
       "      <td>Dupatta Bazaar White Embroidered Chiffon Dupatta</td>\n",
       "      <td>899.0</td>\n",
       "      <td>White</td>\n",
       "      <td>Dupatta Bazaar</td>\n",
       "      <td>1321.0</td>\n",
       "      <td>4.548827</td>\n",
       "      <td>White embroidered&amp;nbsp;dupattaChiffon&lt;br&gt;Hand-...</td>\n",
       "      <td>{'Occasion': 'Daily', 'Pattern': 'Embroidered'...</td>\n",
       "      <td>242</td>\n",
       "      <td>Dupatta Bazaar</td>\n",
       "    </tr>\n",
       "    <tr>\n",
       "      <th>1</th>\n",
       "      <td>5829334.0</td>\n",
       "      <td>Roadster Women Mustard Yellow Solid Hooded Swe...</td>\n",
       "      <td>1199.0</td>\n",
       "      <td>Mustard</td>\n",
       "      <td>Roadster</td>\n",
       "      <td>5462.0</td>\n",
       "      <td>4.313255</td>\n",
       "      <td>Mustard yellow solid sweatshirt, has a hood, t...</td>\n",
       "      <td>{'Body Shape ID': '443,424,324', 'Body or Garm...</td>\n",
       "      <td>750</td>\n",
       "      <td>Roadster</td>\n",
       "    </tr>\n",
       "    <tr>\n",
       "      <th>2</th>\n",
       "      <td>10340119.0</td>\n",
       "      <td>Inddus Peach-Coloured &amp; Beige Unstitched Dress...</td>\n",
       "      <td>5799.0</td>\n",
       "      <td>Peach</td>\n",
       "      <td>Inddus</td>\n",
       "      <td>145.0</td>\n",
       "      <td>4.068966</td>\n",
       "      <td>Peach-Coloured and beige woven design unstitch...</td>\n",
       "      <td>{'Bottom Fabric': 'Cotton Blend', 'Bottom Patt...</td>\n",
       "      <td>389</td>\n",
       "      <td>Inddus</td>\n",
       "    </tr>\n",
       "    <tr>\n",
       "      <th>3</th>\n",
       "      <td>12384822.0</td>\n",
       "      <td>Kotty Women Black Wide Leg High-Rise Clean Loo...</td>\n",
       "      <td>1999.0</td>\n",
       "      <td>Black</td>\n",
       "      <td>Kotty</td>\n",
       "      <td>12260.0</td>\n",
       "      <td>4.078467</td>\n",
       "      <td>Black dark wash 4-pocket high-rise jeans, clea...</td>\n",
       "      <td>{'Add-Ons': 'NA', 'Brand Fit Name': 'NA', 'Clo...</td>\n",
       "      <td>482</td>\n",
       "      <td>Kotty</td>\n",
       "    </tr>\n",
       "    <tr>\n",
       "      <th>4</th>\n",
       "      <td>14021452.0</td>\n",
       "      <td>Sera Women Multicoloured  Printed Tie-Up Shrug</td>\n",
       "      <td>1494.0</td>\n",
       "      <td>Multi</td>\n",
       "      <td>Sera</td>\n",
       "      <td>750.0</td>\n",
       "      <td>4.288000</td>\n",
       "      <td>Brown and blue printed tie-up longline shrug, ...</td>\n",
       "      <td>{'Body or Garment Size': 'To-Fit Denotes Body ...</td>\n",
       "      <td>793</td>\n",
       "      <td>Sera</td>\n",
       "    </tr>\n",
       "  </tbody>\n",
       "</table>\n",
       "</div>"
      ],
      "text/plain": [
       "         p_id                                               name   price  \\\n",
       "0   1518329.0   Dupatta Bazaar White Embroidered Chiffon Dupatta   899.0   \n",
       "1   5829334.0  Roadster Women Mustard Yellow Solid Hooded Swe...  1199.0   \n",
       "2  10340119.0  Inddus Peach-Coloured & Beige Unstitched Dress...  5799.0   \n",
       "3  12384822.0  Kotty Women Black Wide Leg High-Rise Clean Loo...  1999.0   \n",
       "4  14021452.0     Sera Women Multicoloured  Printed Tie-Up Shrug  1494.0   \n",
       "\n",
       "    colour           brand  ratingCount  avg_rating  \\\n",
       "0    White  Dupatta Bazaar       1321.0    4.548827   \n",
       "1  Mustard        Roadster       5462.0    4.313255   \n",
       "2    Peach          Inddus        145.0    4.068966   \n",
       "3    Black           Kotty      12260.0    4.078467   \n",
       "4    Multi            Sera        750.0    4.288000   \n",
       "\n",
       "                                         description  \\\n",
       "0  White embroidered&nbsp;dupattaChiffon<br>Hand-...   \n",
       "1  Mustard yellow solid sweatshirt, has a hood, t...   \n",
       "2  Peach-Coloured and beige woven design unstitch...   \n",
       "3  Black dark wash 4-pocket high-rise jeans, clea...   \n",
       "4  Brown and blue printed tie-up longline shrug, ...   \n",
       "\n",
       "                                        p_attributes  brand_id      brand_name  \n",
       "0  {'Occasion': 'Daily', 'Pattern': 'Embroidered'...       242  Dupatta Bazaar  \n",
       "1  {'Body Shape ID': '443,424,324', 'Body or Garm...       750        Roadster  \n",
       "2  {'Bottom Fabric': 'Cotton Blend', 'Bottom Patt...       389          Inddus  \n",
       "3  {'Add-Ons': 'NA', 'Brand Fit Name': 'NA', 'Clo...       482           Kotty  \n",
       "4  {'Body or Garment Size': 'To-Fit Denotes Body ...       793            Sera  "
      ]
     },
     "execution_count": 8,
     "metadata": {},
     "output_type": "execute_result"
    }
   ],
   "source": [
    "# select data from both tables and create a main dataframe to be used for analysis\n",
    "\n",
    "r = \"\"\"\n",
    "SELECT * FROM fashion\n",
    "INNER JOIN brand\n",
    "ON fashion.brand = brand.brand_name\n",
    "LIMIT 10;\n",
    "\"\"\"\n",
    "main_df = pd.read_sql(r, conn)\n",
    "main_df.head()"
   ]
  },
  {
   "cell_type": "code",
   "execution_count": 9,
   "metadata": {},
   "outputs": [],
   "source": [
    "# close the connection\n",
    "conn.close()"
   ]
  },
  {
   "attachments": {},
   "cell_type": "markdown",
   "metadata": {},
   "source": [
    "### 2. Data Analysis of the new dataframe"
   ]
  },
  {
   "cell_type": "code",
   "execution_count": 10,
   "metadata": {},
   "outputs": [
    {
     "data": {
      "text/html": [
       "<div>\n",
       "<style scoped>\n",
       "    .dataframe tbody tr th:only-of-type {\n",
       "        vertical-align: middle;\n",
       "    }\n",
       "\n",
       "    .dataframe tbody tr th {\n",
       "        vertical-align: top;\n",
       "    }\n",
       "\n",
       "    .dataframe thead th {\n",
       "        text-align: right;\n",
       "    }\n",
       "</style>\n",
       "<table border=\"1\" class=\"dataframe\">\n",
       "  <thead>\n",
       "    <tr style=\"text-align: right;\">\n",
       "      <th></th>\n",
       "      <th>p_id</th>\n",
       "      <th>name</th>\n",
       "      <th>price</th>\n",
       "      <th>colour</th>\n",
       "      <th>brand</th>\n",
       "      <th>ratingCount</th>\n",
       "      <th>avg_rating</th>\n",
       "      <th>description</th>\n",
       "      <th>p_attributes</th>\n",
       "      <th>brand_id</th>\n",
       "      <th>brand_name</th>\n",
       "    </tr>\n",
       "  </thead>\n",
       "  <tbody>\n",
       "    <tr>\n",
       "      <th>0</th>\n",
       "      <td>1518329.0</td>\n",
       "      <td>Dupatta Bazaar White Embroidered Chiffon Dupatta</td>\n",
       "      <td>899.0</td>\n",
       "      <td>White</td>\n",
       "      <td>Dupatta Bazaar</td>\n",
       "      <td>1321.0</td>\n",
       "      <td>4.548827</td>\n",
       "      <td>White embroidered&amp;nbsp;dupattaChiffon&lt;br&gt;Hand-...</td>\n",
       "      <td>{'Occasion': 'Daily', 'Pattern': 'Embroidered'...</td>\n",
       "      <td>242</td>\n",
       "      <td>Dupatta Bazaar</td>\n",
       "    </tr>\n",
       "    <tr>\n",
       "      <th>1</th>\n",
       "      <td>5829334.0</td>\n",
       "      <td>Roadster Women Mustard Yellow Solid Hooded Swe...</td>\n",
       "      <td>1199.0</td>\n",
       "      <td>Mustard</td>\n",
       "      <td>Roadster</td>\n",
       "      <td>5462.0</td>\n",
       "      <td>4.313255</td>\n",
       "      <td>Mustard yellow solid sweatshirt, has a hood, t...</td>\n",
       "      <td>{'Body Shape ID': '443,424,324', 'Body or Garm...</td>\n",
       "      <td>750</td>\n",
       "      <td>Roadster</td>\n",
       "    </tr>\n",
       "    <tr>\n",
       "      <th>2</th>\n",
       "      <td>10340119.0</td>\n",
       "      <td>Inddus Peach-Coloured &amp; Beige Unstitched Dress...</td>\n",
       "      <td>5799.0</td>\n",
       "      <td>Peach</td>\n",
       "      <td>Inddus</td>\n",
       "      <td>145.0</td>\n",
       "      <td>4.068966</td>\n",
       "      <td>Peach-Coloured and beige woven design unstitch...</td>\n",
       "      <td>{'Bottom Fabric': 'Cotton Blend', 'Bottom Patt...</td>\n",
       "      <td>389</td>\n",
       "      <td>Inddus</td>\n",
       "    </tr>\n",
       "    <tr>\n",
       "      <th>3</th>\n",
       "      <td>12384822.0</td>\n",
       "      <td>Kotty Women Black Wide Leg High-Rise Clean Loo...</td>\n",
       "      <td>1999.0</td>\n",
       "      <td>Black</td>\n",
       "      <td>Kotty</td>\n",
       "      <td>12260.0</td>\n",
       "      <td>4.078467</td>\n",
       "      <td>Black dark wash 4-pocket high-rise jeans, clea...</td>\n",
       "      <td>{'Add-Ons': 'NA', 'Brand Fit Name': 'NA', 'Clo...</td>\n",
       "      <td>482</td>\n",
       "      <td>Kotty</td>\n",
       "    </tr>\n",
       "    <tr>\n",
       "      <th>4</th>\n",
       "      <td>14021452.0</td>\n",
       "      <td>Sera Women Multicoloured  Printed Tie-Up Shrug</td>\n",
       "      <td>1494.0</td>\n",
       "      <td>Multi</td>\n",
       "      <td>Sera</td>\n",
       "      <td>750.0</td>\n",
       "      <td>4.288000</td>\n",
       "      <td>Brown and blue printed tie-up longline shrug, ...</td>\n",
       "      <td>{'Body or Garment Size': 'To-Fit Denotes Body ...</td>\n",
       "      <td>793</td>\n",
       "      <td>Sera</td>\n",
       "    </tr>\n",
       "  </tbody>\n",
       "</table>\n",
       "</div>"
      ],
      "text/plain": [
       "         p_id                                               name   price  \\\n",
       "0   1518329.0   Dupatta Bazaar White Embroidered Chiffon Dupatta   899.0   \n",
       "1   5829334.0  Roadster Women Mustard Yellow Solid Hooded Swe...  1199.0   \n",
       "2  10340119.0  Inddus Peach-Coloured & Beige Unstitched Dress...  5799.0   \n",
       "3  12384822.0  Kotty Women Black Wide Leg High-Rise Clean Loo...  1999.0   \n",
       "4  14021452.0     Sera Women Multicoloured  Printed Tie-Up Shrug  1494.0   \n",
       "\n",
       "    colour           brand  ratingCount  avg_rating  \\\n",
       "0    White  Dupatta Bazaar       1321.0    4.548827   \n",
       "1  Mustard        Roadster       5462.0    4.313255   \n",
       "2    Peach          Inddus        145.0    4.068966   \n",
       "3    Black           Kotty      12260.0    4.078467   \n",
       "4    Multi            Sera        750.0    4.288000   \n",
       "\n",
       "                                         description  \\\n",
       "0  White embroidered&nbsp;dupattaChiffon<br>Hand-...   \n",
       "1  Mustard yellow solid sweatshirt, has a hood, t...   \n",
       "2  Peach-Coloured and beige woven design unstitch...   \n",
       "3  Black dark wash 4-pocket high-rise jeans, clea...   \n",
       "4  Brown and blue printed tie-up longline shrug, ...   \n",
       "\n",
       "                                        p_attributes  brand_id      brand_name  \n",
       "0  {'Occasion': 'Daily', 'Pattern': 'Embroidered'...       242  Dupatta Bazaar  \n",
       "1  {'Body Shape ID': '443,424,324', 'Body or Garm...       750        Roadster  \n",
       "2  {'Bottom Fabric': 'Cotton Blend', 'Bottom Patt...       389          Inddus  \n",
       "3  {'Add-Ons': 'NA', 'Brand Fit Name': 'NA', 'Clo...       482           Kotty  \n",
       "4  {'Body or Garment Size': 'To-Fit Denotes Body ...       793            Sera  "
      ]
     },
     "execution_count": 10,
     "metadata": {},
     "output_type": "execute_result"
    }
   ],
   "source": [
    "main_df.head()"
   ]
  },
  {
   "cell_type": "code",
   "execution_count": 11,
   "metadata": {},
   "outputs": [
    {
     "name": "stdout",
     "output_type": "stream",
     "text": [
      "<class 'pandas.core.frame.DataFrame'>\n",
      "RangeIndex: 10 entries, 0 to 9\n",
      "Data columns (total 11 columns):\n",
      " #   Column        Non-Null Count  Dtype  \n",
      "---  ------        --------------  -----  \n",
      " 0   p_id          10 non-null     float64\n",
      " 1   name          10 non-null     object \n",
      " 2   price         10 non-null     float64\n",
      " 3   colour        10 non-null     object \n",
      " 4   brand         10 non-null     object \n",
      " 5   ratingCount   10 non-null     float64\n",
      " 6   avg_rating    10 non-null     float64\n",
      " 7   description   10 non-null     object \n",
      " 8   p_attributes  10 non-null     object \n",
      " 9   brand_id      10 non-null     int64  \n",
      " 10  brand_name    10 non-null     object \n",
      "dtypes: float64(4), int64(1), object(6)\n",
      "memory usage: 1008.0+ bytes\n"
     ]
    }
   ],
   "source": [
    "main_df.info()"
   ]
  },
  {
   "attachments": {},
   "cell_type": "markdown",
   "metadata": {},
   "source": [
    "#### 2.1. Data Cleaning"
   ]
  },
  {
   "cell_type": "code",
   "execution_count": 12,
   "metadata": {},
   "outputs": [
    {
     "data": {
      "text/html": [
       "<div>\n",
       "<style scoped>\n",
       "    .dataframe tbody tr th:only-of-type {\n",
       "        vertical-align: middle;\n",
       "    }\n",
       "\n",
       "    .dataframe tbody tr th {\n",
       "        vertical-align: top;\n",
       "    }\n",
       "\n",
       "    .dataframe thead th {\n",
       "        text-align: right;\n",
       "    }\n",
       "</style>\n",
       "<table border=\"1\" class=\"dataframe\">\n",
       "  <thead>\n",
       "    <tr style=\"text-align: right;\">\n",
       "      <th></th>\n",
       "      <th>missing_values</th>\n",
       "      <th>percent_missing %</th>\n",
       "    </tr>\n",
       "  </thead>\n",
       "  <tbody>\n",
       "    <tr>\n",
       "      <th>p_id</th>\n",
       "      <td>0</td>\n",
       "      <td>0.0</td>\n",
       "    </tr>\n",
       "    <tr>\n",
       "      <th>name</th>\n",
       "      <td>0</td>\n",
       "      <td>0.0</td>\n",
       "    </tr>\n",
       "    <tr>\n",
       "      <th>price</th>\n",
       "      <td>0</td>\n",
       "      <td>0.0</td>\n",
       "    </tr>\n",
       "    <tr>\n",
       "      <th>colour</th>\n",
       "      <td>0</td>\n",
       "      <td>0.0</td>\n",
       "    </tr>\n",
       "    <tr>\n",
       "      <th>brand</th>\n",
       "      <td>0</td>\n",
       "      <td>0.0</td>\n",
       "    </tr>\n",
       "    <tr>\n",
       "      <th>ratingCount</th>\n",
       "      <td>0</td>\n",
       "      <td>0.0</td>\n",
       "    </tr>\n",
       "    <tr>\n",
       "      <th>avg_rating</th>\n",
       "      <td>0</td>\n",
       "      <td>0.0</td>\n",
       "    </tr>\n",
       "    <tr>\n",
       "      <th>description</th>\n",
       "      <td>0</td>\n",
       "      <td>0.0</td>\n",
       "    </tr>\n",
       "    <tr>\n",
       "      <th>p_attributes</th>\n",
       "      <td>0</td>\n",
       "      <td>0.0</td>\n",
       "    </tr>\n",
       "    <tr>\n",
       "      <th>brand_id</th>\n",
       "      <td>0</td>\n",
       "      <td>0.0</td>\n",
       "    </tr>\n",
       "    <tr>\n",
       "      <th>brand_name</th>\n",
       "      <td>0</td>\n",
       "      <td>0.0</td>\n",
       "    </tr>\n",
       "  </tbody>\n",
       "</table>\n",
       "</div>"
      ],
      "text/plain": [
       "              missing_values   percent_missing %\n",
       "p_id                        0                0.0\n",
       "name                        0                0.0\n",
       "price                       0                0.0\n",
       "colour                      0                0.0\n",
       "brand                       0                0.0\n",
       "ratingCount                 0                0.0\n",
       "avg_rating                  0                0.0\n",
       "description                 0                0.0\n",
       "p_attributes                0                0.0\n",
       "brand_id                    0                0.0\n",
       "brand_name                  0                0.0"
      ]
     },
     "execution_count": 12,
     "metadata": {},
     "output_type": "execute_result"
    }
   ],
   "source": [
    "# 1.check for missing data\n",
    "missing_values=main_df.isnull().sum()\n",
    "percent_missing = main_df.isnull().sum()/main_df.shape[0]*100\n",
    "\n",
    "value = {\n",
    "    'missing_values ':missing_values,\n",
    "    'percent_missing %':percent_missing\n",
    "}\n",
    "frame=pd.DataFrame(value)\n",
    "frame"
   ]
  },
  {
   "attachments": {},
   "cell_type": "markdown",
   "metadata": {},
   "source": [
    "The dataframe does not contain any missing values"
   ]
  },
  {
   "cell_type": "code",
   "execution_count": 13,
   "metadata": {},
   "outputs": [
    {
     "name": "stdout",
     "output_type": "stream",
     "text": [
      "no duplicated data\n"
     ]
    }
   ],
   "source": [
    "# 2.check if there any duplicated data in the dataframe\n",
    "duplicate_1 = main_df[main_df.duplicated()]\n",
    "if duplicate_1.empty== True:\n",
    "    print(\"no duplicated data\")\n",
    "else:\n",
    "    print(\"Duplicate Rows except first occurrence based on all columns are :\")\n",
    "    print(duplicate_1)"
   ]
  },
  {
   "cell_type": "code",
   "execution_count": 14,
   "metadata": {},
   "outputs": [
    {
     "data": {
      "text/plain": [
       "<AxesSubplot:>"
      ]
     },
     "execution_count": 14,
     "metadata": {},
     "output_type": "execute_result"
    },
    {
     "data": {
      "image/png": "[encoded data removed]",
      "text/plain": [
       "<Figure size 720x576 with 1 Axes>"
      ]
     },
     "metadata": {
      "needs_background": "light"
     },
     "output_type": "display_data"
    }
   ],
   "source": [
    "# 3. Checking for outliers \n",
    "main_df.boxplot(figsize=(10,8))"
   ]
  },
  {
   "cell_type": "code",
   "execution_count": 15,
   "metadata": {},
   "outputs": [
    {
     "data": {
      "text/html": [
       "<div>\n",
       "<style scoped>\n",
       "    .dataframe tbody tr th:only-of-type {\n",
       "        vertical-align: middle;\n",
       "    }\n",
       "\n",
       "    .dataframe tbody tr th {\n",
       "        vertical-align: top;\n",
       "    }\n",
       "\n",
       "    .dataframe thead th {\n",
       "        text-align: right;\n",
       "    }\n",
       "</style>\n",
       "<table border=\"1\" class=\"dataframe\">\n",
       "  <thead>\n",
       "    <tr style=\"text-align: right;\">\n",
       "      <th></th>\n",
       "      <th>p_id</th>\n",
       "      <th>price</th>\n",
       "      <th>ratingCount</th>\n",
       "      <th>avg_rating</th>\n",
       "      <th>brand_id</th>\n",
       "    </tr>\n",
       "  </thead>\n",
       "  <tbody>\n",
       "    <tr>\n",
       "      <th>count</th>\n",
       "      <td>1.000000e+01</td>\n",
       "      <td>10.000000</td>\n",
       "      <td>10.000000</td>\n",
       "      <td>10.000000</td>\n",
       "      <td>10.000000</td>\n",
       "    </tr>\n",
       "    <tr>\n",
       "      <th>mean</th>\n",
       "      <td>1.213127e+07</td>\n",
       "      <td>2588.500000</td>\n",
       "      <td>2727.700000</td>\n",
       "      <td>4.217958</td>\n",
       "      <td>575.400000</td>\n",
       "    </tr>\n",
       "    <tr>\n",
       "      <th>std</th>\n",
       "      <td>4.965914e+06</td>\n",
       "      <td>1896.778629</td>\n",
       "      <td>3837.643115</td>\n",
       "      <td>0.250240</td>\n",
       "      <td>286.693487</td>\n",
       "    </tr>\n",
       "    <tr>\n",
       "      <th>min</th>\n",
       "      <td>1.518329e+06</td>\n",
       "      <td>699.000000</td>\n",
       "      <td>84.000000</td>\n",
       "      <td>3.809524</td>\n",
       "      <td>75.000000</td>\n",
       "    </tr>\n",
       "    <tr>\n",
       "      <th>25%</th>\n",
       "      <td>1.085129e+07</td>\n",
       "      <td>1249.000000</td>\n",
       "      <td>296.250000</td>\n",
       "      <td>4.071341</td>\n",
       "      <td>408.500000</td>\n",
       "    </tr>\n",
       "    <tr>\n",
       "      <th>50%</th>\n",
       "      <td>1.404224e+07</td>\n",
       "      <td>1746.500000</td>\n",
       "      <td>1036.500000</td>\n",
       "      <td>4.249718</td>\n",
       "      <td>616.000000</td>\n",
       "    </tr>\n",
       "    <tr>\n",
       "      <th>75%</th>\n",
       "      <td>1.479750e+07</td>\n",
       "      <td>4174.000000</td>\n",
       "      <td>3855.500000</td>\n",
       "      <td>4.392113</td>\n",
       "      <td>782.250000</td>\n",
       "    </tr>\n",
       "    <tr>\n",
       "      <th>max</th>\n",
       "      <td>1.704861e+07</td>\n",
       "      <td>5799.000000</td>\n",
       "      <td>12260.000000</td>\n",
       "      <td>4.548827</td>\n",
       "      <td>903.000000</td>\n",
       "    </tr>\n",
       "  </tbody>\n",
       "</table>\n",
       "</div>"
      ],
      "text/plain": [
       "               p_id        price   ratingCount  avg_rating    brand_id\n",
       "count  1.000000e+01    10.000000     10.000000   10.000000   10.000000\n",
       "mean   1.213127e+07  2588.500000   2727.700000    4.217958  575.400000\n",
       "std    4.965914e+06  1896.778629   3837.643115    0.250240  286.693487\n",
       "min    1.518329e+06   699.000000     84.000000    3.809524   75.000000\n",
       "25%    1.085129e+07  1249.000000    296.250000    4.071341  408.500000\n",
       "50%    1.404224e+07  1746.500000   1036.500000    4.249718  616.000000\n",
       "75%    1.479750e+07  4174.000000   3855.500000    4.392113  782.250000\n",
       "max    1.704861e+07  5799.000000  12260.000000    4.548827  903.000000"
      ]
     },
     "execution_count": 15,
     "metadata": {},
     "output_type": "execute_result"
    }
   ],
   "source": [
    "main_df.describe()"
   ]
  },
  {
   "cell_type": "code",
   "execution_count": 16,
   "metadata": {},
   "outputs": [
    {
     "data": {
      "text/plain": [
       "Index(['p_id', 'name', 'price', 'colour', 'brand', 'ratingCount', 'avg_rating',\n",
       "       'description', 'p_attributes', 'brand_id', 'brand_name'],\n",
       "      dtype='object')"
      ]
     },
     "execution_count": 16,
     "metadata": {},
     "output_type": "execute_result"
    }
   ],
   "source": [
    "main_df.columns"
   ]
  },
  {
   "attachments": {},
   "cell_type": "markdown",
   "metadata": {},
   "source": [
    "### 3. Analysis of the data and visualization"
   ]
  },
  {
   "attachments": {},
   "cell_type": "markdown",
   "metadata": {},
   "source": [
    "Questions to answer:\n",
    "<ol start=1>\n",
    "<li> What is the most popular brand?</li>\n",
    "<li> what are the most expensive brands?</li>\n",
    "<li> what is the relationship between price and avg_rating?</li>\n",
    "<li> what is the relationship of the features to each other?</li>\n",
    "</ol>"
   ]
  },
  {
   "cell_type": "code",
   "execution_count": 17,
   "metadata": {},
   "outputs": [],
   "source": [
    "sns.set_style('darkgrid')"
   ]
  },
  {
   "cell_type": "code",
   "execution_count": 18,
   "metadata": {},
   "outputs": [
    {
     "data": {
      "text/plain": [
       "Roadster          2\n",
       "Tokyo Talkies     2\n",
       "Dupatta Bazaar    1\n",
       "Inddus            1\n",
       "Kotty             1\n",
       "Sera              1\n",
       "Anouk             1\n",
       "Khushal K         1\n",
       "Name: brand, dtype: int64"
      ]
     },
     "execution_count": 18,
     "metadata": {},
     "output_type": "execute_result"
    }
   ],
   "source": [
    "main_df['brand'].value_counts()"
   ]
  },
  {
   "cell_type": "code",
   "execution_count": 19,
   "metadata": {},
   "outputs": [
    {
     "data": {
      "image/png": "[encoded data removed]",
      "text/plain": [
       "<Figure size 720x576 with 1 Axes>"
      ]
     },
     "metadata": {},
     "output_type": "display_data"
    }
   ],
   "source": [
    "# What is the most popular brand?\n",
    "plt.figure(figsize=(10,8))\n",
    "sns.countplot(x='brand', data=main_df, order=main_df['brand'].value_counts().index[:12],palette='magma',orient='h')\n",
    "\n",
    "plt.title('The most popular brand',fontsize=20)\n",
    "plt.xlabel('Brand',fontsize=15)\n",
    "plt.ylabel('frequency',fontsize=15)\n",
    "plt.xticks(rotation=90,fontsize=12)\n",
    "plt.yticks(fontsize=12)\n",
    "plt.show()\n"
   ]
  },
  {
   "attachments": {},
   "cell_type": "markdown",
   "metadata": {},
   "source": [
    "The most popular brands are Roadster and Tokyo Talkies"
   ]
  },
  {
   "cell_type": "code",
   "execution_count": 20,
   "metadata": {},
   "outputs": [
    {
     "data": {
      "image/png": "[encoded data removed]",
      "text/plain": [
       "<Figure size 720x576 with 1 Axes>"
      ]
     },
     "metadata": {},
     "output_type": "display_data"
    }
   ],
   "source": [
    "# what are the most expensive brands?\n",
    "plt.figure(figsize=(10,8))\n",
    "sns.barplot(x=main_df['brand'], y=main_df['price'] , data=main_df ,order=main_df['brand'],palette='magma')\n",
    "plt.title(\"The Most Expensive brands\",fontsize=20)\n",
    "plt.xlabel(\"Brands\",fontsize=15)\n",
    "plt.ylabel(\"Prices\",fontsize=15)\n",
    "plt.xticks(rotation=65,fontsize=12)\n",
    "plt.yticks(fontsize=12)\n",
    "plt.show()"
   ]
  },
  {
   "attachments": {},
   "cell_type": "markdown",
   "metadata": {},
   "source": [
    "The most expensive brand is Inddus  "
   ]
  },
  {
   "cell_type": "code",
   "execution_count": 21,
   "metadata": {},
   "outputs": [
    {
     "data": {
      "image/png": "[encoded data removed]",
      "text/plain": [
       "<Figure size 720x576 with 1 Axes>"
      ]
     },
     "metadata": {},
     "output_type": "display_data"
    }
   ],
   "source": [
    "# what is the relationship between price and avg_rating\n",
    "plt.figure(figsize=(10,8))\n",
    "sns.scatterplot(data=main_df, x='price', y='avg_rating', hue='brand')\n",
    "plt.title(\"The Most Expensive brands\",fontsize=20)\n",
    "plt.xlabel(\"Prices\",fontsize=15)\n",
    "plt.ylabel(\"Average ratings\",fontsize=15)\n",
    "plt.xticks(rotation=0,fontsize=12)\n",
    "plt.yticks(fontsize=12)\n",
    "plt.show()"
   ]
  },
  {
   "cell_type": "code",
   "execution_count": 22,
   "metadata": {},
   "outputs": [
    {
     "data": {
      "image/png": "[encoded data removed]",
      "text/plain": [
       "<Figure size 720x576 with 2 Axes>"
      ]
     },
     "metadata": {},
     "output_type": "display_data"
    }
   ],
   "source": [
    "# what is the relationship of the features to each other?\n",
    "# plotting a heatmap \n",
    "fig , ax = plt.subplots(figsize=(10,8))\n",
    "sns.heatmap(main_df.corr(),annot=True,ax=ax, cmap='magma')\n",
    "\n",
    "plt.title(\"\")\n",
    "plt.xticks(fontsize=14)\n",
    "plt.yticks(fontsize=14)\n",
    "plt.show()"
   ]
  },
  {
   "attachments": {},
   "cell_type": "markdown",
   "metadata": {},
   "source": [
    "### 4. Preprocessing of the data"
   ]
  },
  {
   "cell_type": "code",
   "execution_count": 23,
   "metadata": {},
   "outputs": [
    {
     "data": {
      "text/plain": [
       "{'Occasion': 'Daily', 'Pattern': 'Embroidered', 'Print or Pattern Type': 'Floral'}                                                                                                                                                                                                                                                                                                                                                                                                                                                                                                                                                                                                                                                                                                                                                                                                                                                                                                                                                                                                          1\n",
       "{'Body Shape ID': '443,424,324', 'Body or Garment Size': 'To-Fit Denotes Body Measurements in', 'Closure': 'Zip', 'Fabric': 'Cotton', 'Hemline': 'Straight', 'Hood': 'Hooded', 'Length': 'Regular', 'Neck': 'Hood', 'Number of Pockets': '2', 'Occasion': 'Casual', 'Pattern': 'Solid', 'Pocket': 'Insert Pocket', 'Print or Pattern Type': 'Solid', 'Sleeve Length': 'Long Sleeves', 'Surface Styling': 'NA', 'Type': 'Front-Open', 'Wash Care': 'Machine Wash'}                                                                                                                                                                                                                                                                                                                                                                                                                                                                                                                                                                                                                           1\n",
       "{'Bottom Fabric': 'Cotton Blend', 'Bottom Pattern': 'Woven Design', 'Dupatta Border': 'Tassels', 'Dupatta Fabric': 'Cotton Blend', 'Dupatta Pattern': 'Woven Design', 'Kurta Fabric': 'Cotton Blend', 'Kurta Pattern': 'Woven Design', 'Occasion': 'Daily', 'Ornamentation': 'NA', 'Print or Pattern Type': 'Ethnic Motifs', 'Set Content': 'Kurta Fabric Bottom Fabric and Dupatta', 'Stitch': 'Unstitched', 'Technique': 'NA', 'Wash Care': 'Dry Clean'}                                                                                                                                                                                                                                                                                                                                                                                                                                                                                                                                                                                                                                  1\n",
       "{'Add-Ons': 'NA', 'Brand Fit Name': 'NA', 'Closure': 'Button and Zip', 'Distress': 'Clean Look', 'Effects': 'None', 'Fabric': 'Cotton', 'Fabric 2': 'NA', 'Fabric 3': 'NA', 'Fade': 'No Fade', 'Features': 'NA', 'Fit': 'Wide Leg', 'Length': 'Cropped', 'Number of Pockets': '4', 'Occasion': 'Casual', 'Reversible': 'No', 'Shade': 'Dark', 'Stretch': 'Non Stretchable', 'Type of Distress': 'NA', 'Waist Rise': 'High-Rise', 'Waistband': 'With belt loops', 'Wash Care': 'Machine Wash'}                                                                                                                                                                                                                                                                                                                                                                                                                                                                                                                                                                                               1\n",
       "{'Body or Garment Size': 'To-Fit Denotes Body Measurements in', 'Fabric': 'Poly Crepe', 'Front Styling': 'Tie-Up', 'Hemline': 'Straight', 'Length': 'Longline', 'Main Trend': 'Abstract', 'Occasion': 'Casual', 'Pattern': 'Printed', 'Sleeve Length': 'Three-Quarter Sleeves', 'Surface Styling': 'Gathers', 'Sustainable': 'Regular', 'Wash Care': 'Machine Wash'}                                                                                                                                                                                                                                                                                                                                                                                                                                                                                                                                                                                                                                                                                                                        1\n",
       "{'Body or Garment Size': 'To-Fit Denotes Body Measurements in', 'Character': 'NA', 'Closure': 'Drawstring', 'Fabric': 'Cotton', 'Fabric 2': 'NA', 'Fit': 'Regular Fit', 'Knit or Woven': 'Knitted', 'Length': 'Above Knee', 'Main Trend': 'New Basics', 'Number of Pockets': '2', 'Occasion': 'Casual', 'Pattern': 'Solid', 'Print or Pattern Type': 'Solid', 'Sport': 'NA', 'Surface Styling': 'NA', 'Sustainable': 'Regular', 'Technology': 'NA', 'Type': 'Regular Shorts', 'Waist Rise': 'Mid-Rise', 'Wash Care': 'Machine Wash'}                                                                                                                                                                                                                                                                                                                                                                                                                                                                                                                                                        1\n",
       "{'Blouse Closure': 'Zip', 'Blouse Fabric': 'Viscose Rayon', 'Body or Garment Size': 'To-Fit Denotes Body Measurements in', 'Bottom Pattern': 'Printed', 'Choli Stitch': 'Ready to Wear', 'Dupatta': 'With Dupatta', 'Dupatta Border': 'NA', 'Dupatta Fabric': 'Cotton', 'Dupatta Pattern': 'Solid', 'Hemline': 'Flared', 'Lehenga Closure': 'Zip', 'Lehenga Fabric': 'Viscose Rayon', 'Lehenga Lining Fabric': 'Shantoon', 'Lehenga Stitch': 'Ready to Wear', 'Neck': 'Round Neck', 'Ornamentation': 'NA', 'Regions': 'All', 'Sleeve Length': 'Short Sleeves', 'Sleeve Styling': 'Regular Sleeves', 'Style Tip': 'Lend an ethnic touch glittering chandelier earrings, beautifully crafted mojaris, and an elaborate kamarbandh', 'Sustainable': 'Regular', 'Technique': 'NA', 'Top Pattern': 'Solid', 'Where-to-wear': 'Look a cut above the rest at wedding festivities'}                                                                                                                                                                                                                 1\n",
       "{'Add-Ons': 'NA', 'Bottom Closure': 'Drawstring', 'Bottom Fabric': 'Cotton Blend', 'Bottom Pattern': 'Solid', 'Bottom Type': 'Trousers', 'Character': 'NA', 'Lining': 'NA', 'Neck': 'Round Neck', 'Number of Pockets': '2', 'Occasion': 'Casual', 'Sleeve Length': 'Short Sleeves', 'Sustainable': 'Regular', 'Top Fabric': 'Cotton Blend', 'Top Pattern': 'Solid', 'Top Type': 'T-shirt', 'Trends': 'NA', 'Wash Care': 'Machine Wash'}                                                                                                                                                                                                                                                                                                                                                                                                                                                                                                                                                                                                                                                     1\n",
       "{'Body Shape ID': '443,324,333,424', 'Body or Garment Size': 'Garment Measurements in', 'Closure': 'Button', 'Collar': 'Notched Lapel', 'Fabric': 'Polyviscose', 'Fabric Type': 'NA', 'Fit': 'Regular Fit', 'Front Styling': 'Single-Breasted', 'Length': 'Regular', 'Lining Fabric': 'Unlined', 'Occasion': 'Casual', 'Pattern': 'Solid', 'Sleeve Length': 'Long Sleeves', 'Sustainable': 'Regular', 'Wash Care': 'Machine Wash'}                                                                                                                                                                                                                                                                                                                                                                                                                                                                                                                                                                                                                                                          1\n",
       "{'Add-Ons': 'NA', 'Body Shape ID': '443,333,324,424', 'Body or Garment Size': 'Garment Measurements in', 'Bottom Closure': 'Slip-On', 'Bottom Fabric': 'Viscose Rayon', 'Bottom Pattern': 'Printed', 'Bottom Type': 'Palazzos', 'Character': 'NA', 'Dupatta': 'With Dupatta', 'Dupatta Border': 'Solid', 'Dupatta Fabric': 'Viscose Rayon', 'Dupatta Pattern': 'Printed', 'Main Trend': 'Indie Prints', 'Neck': 'Mandarin Collar', 'Number of Pockets': 'NA', 'Occasion': 'Festive', 'Ornamentation': 'NA', 'Pattern Coverage': 'Placement', 'Print or Pattern Type': 'Ethnic Motifs', 'Sleeve Length': 'Three-Quarter Sleeves', 'Sleeve Styling': 'Regular Sleeves', 'Slit Detail': 'NA', 'Stitch': 'Ready to Wear', 'Sustainable': 'Regular', 'Technique': 'Screen', 'Top Design Styling': 'Regular', 'Top Fabric': 'Viscose Rayon', 'Top Hemline': 'Flared', 'Top Length': 'Calf Length', 'Top Pattern': 'Printed', 'Top Shape': 'Anarkali', 'Top Type': 'Kurta', 'Waistband': 'Elasticated', 'Wash Care': 'Machine Wash', 'Weave Pattern': 'Regular', 'Weave Type': 'Machine Weave'}    1\n",
       "Name: p_attributes, dtype: int64"
      ]
     },
     "execution_count": 23,
     "metadata": {},
     "output_type": "execute_result"
    }
   ],
   "source": [
    "main_df['p_attributes'].value_counts()"
   ]
  },
  {
   "cell_type": "code",
   "execution_count": 24,
   "metadata": {},
   "outputs": [
    {
     "data": {
      "text/plain": [
       "White embroidered&nbsp;dupattaChiffon<br>Hand-wash coldLength: 2.5 metres Width: 1 metre                                                                                                                                                                                                                                                                                                                                                                                                                                                                                                                                                                                                                                                                                                                                         1\n",
       "Mustard yellow solid sweatshirt, has a hood, two pockets, long sleeves, zip closure, straight hemThe model (height 5'8\") is wearing a size S100% cotton<br>Machine-wash                                                                                                                                                                                                                                                                                                                                                                                                                                                                                                                                                                                                                                                          1\n",
       "Peach-Coloured and beige woven design unstitched dress material<br> Peach-Coloured and beige woven design kurta fabric<br> Peach-Coloured and beige woven design bottom fabric<br> Peach-Coloured and beige woven design dupatta, has tassels border<br> Disclaimer: Images are for referral purposes only. The actual product is unstitchedKurta fabric: banarasi cotton<br>Bottom fabric:&nbsp;banarasi cotton<br>Dupatta fabric:&nbsp;banarasi cotton<br>Dry-cleanKurta fabric length: 2.5 metres<br>Bottom fabric length: 2.25 metres<br>Dupatta length: 2.25 metres (approx.)                                                                                                                                                                                                                                               1\n",
       "Black dark wash 4-pocket high-rise jeans, clean look, no fade, has a button and zip closure, and waistband with belt loopsWide Leg<br>The model (height 5'8\") is wearing a size 28Material: Cotton<br>  Machine Wash                                                                                                                                                                                                                                                                                                                                                                                                                                                                                                                                                                                                             1\n",
       "Brown and blue printed tie-up longline shrug, has three-quarter sleeves, gathers detail, straight hemMaterial: Poly Crepe<br>  Machine WashThe model (height 5'8'') is wearing a size S                                                                                                                                                                                                                                                                                                                                                                                                                                                                                                                                                                                                                                          1\n",
       "Black solid mid-rise regular shorts, has 2 pockets, and drawstring closureMaterial: 60% Cotton, 40% Polyster<br>Machine WashRegular Fit<br> The model (height 5'8\") is wearing a size 28                                                                                                                                                                                                                                                                                                                                                                                                                                                                                                                                                                                                                                         1\n",
       "Stay fashionable in any season when you don this elegant lehenga choli. Impeccably crafted with a round neck, this lehenga choli also includes a beautiful flared bottom.&nbsp;<ul><li>Solid lehenga with printed choli</li><li>Round neck</li><li>Flared bottom</li><li>Solid dupatta</li><li>Viscose rayon</li></ul><b>Trend Alert</b><br>Lacework adds a delicate, feminine touch to any garment and looks immaculate when blended with sheer fabrics. Lacework includes dainty embroidery work adorned with floral or geometric designs, fine floral motifs outlined with silk threads, raised motifs with beads, and more.The model (height 5'8) is wearing a size SThe model (height 5'8) is wearing a size SBlouse fabric: Rayon<br>Lehenga fabric: Rayon<br>Lehenga lining fabric: Shantoon<br>Dupatta fabric: Cotton    1\n",
       "Add a hint of drama to your wardrobe with this set. Boasting a round neck, this set also comes with short sleeves to add a proper finishing touch.&nbsp;<ul><li>Elegant mauve shade</li><li>Solid pattern</li><li>Round neck</li><li>Short sleeves</li><li>Cotton blend, machine wash</li></ul><b>Trend Alert</b><br>Leisure sets are comfy and loose-fitting matching sets that are perfect to lounge around in at home on weekends or for casual outings. They are trendy and elevate your style statement.The model (height 5'8) is wearing a size S58% cotton, 42% polyester<br>Machine wash                                                                                                                                                                                                                                 1\n",
       "<p>Maroon solid regular-fit single-breasted formal blazer, has notched lapel collar, long sleeves, 2 pockets, single button closure and straight hem</p><p>Regular fit<br>The model (height 5'8'') is wearing a size S</p><p>70%Polyester 30%Viscose<br>Machine Wash</p>                                                                                                                                                                                                                                                                                                                                                                                                                                                                                                                                                         1\n",
       "Black printed Kurta with Palazzos with dupatta <br> <br> <b> Kurta design:  </b> <ul> <li> Ethnic motifs printed </li> <li> Anarkali shape </li> <li> Regular style </li> <li> Mandarin collar,  three-quarter regular sleeves </li> <li> Calf length with flared hem </li> <li> Viscose rayon machine weave fabric </li> </ul> <br> <b> Palazzos design:  </b> <ul> <li> Printed Palazzos </li> <li> Elasticated waistband </li> <li> Slip-on closure </li> </ul>Dupatta Length 2.43 meters Width:&nbsp;88 cm<br>The model (height 5'8) is wearing a size S100% Rayon<br>Machine wash                                                                                                                                                                                                                                           1\n",
       "Name: description, dtype: int64"
      ]
     },
     "execution_count": 24,
     "metadata": {},
     "output_type": "execute_result"
    }
   ],
   "source": [
    "main_df['description'].value_counts()"
   ]
  },
  {
   "cell_type": "code",
   "execution_count": 25,
   "metadata": {},
   "outputs": [],
   "source": [
    "# dropping both the column p_attributes and description as they are text data \n",
    "main_df.drop(['p_attributes','description'],axis=1,inplace=True)"
   ]
  },
  {
   "cell_type": "code",
   "execution_count": 26,
   "metadata": {},
   "outputs": [],
   "source": [
    "# dropping the brand_name column as it is a duplicate of the brand column\n",
    "main_df.drop(['brand_name'],axis=1,inplace=True)"
   ]
  },
  {
   "cell_type": "code",
   "execution_count": 27,
   "metadata": {},
   "outputs": [
    {
     "data": {
      "text/plain": [
       "p_id           float64\n",
       "name            object\n",
       "price          float64\n",
       "colour          object\n",
       "brand           object\n",
       "ratingCount    float64\n",
       "avg_rating     float64\n",
       "brand_id         int64\n",
       "dtype: object"
      ]
     },
     "execution_count": 27,
     "metadata": {},
     "output_type": "execute_result"
    }
   ],
   "source": [
    "main_df.dtypes"
   ]
  },
  {
   "cell_type": "code",
   "execution_count": 28,
   "metadata": {},
   "outputs": [],
   "source": [
    "# label encoding the categorical data\n",
    "\n",
    "from sklearn.preprocessing import LabelEncoder\n",
    "\n",
    "def label_encoder(df, column):\n",
    "    le = LabelEncoder()\n",
    "    if df[column].dtype == 'object':\n",
    "        df[column] = le.fit_transform(df[column])\n",
    "    return df\n",
    "\n",
    "main_df = label_encoder(main_df, 'brand')\n",
    "main_df = label_encoder(main_df, 'colour')\n",
    "main_df = label_encoder(main_df, 'name')"
   ]
  },
  {
   "cell_type": "code",
   "execution_count": 29,
   "metadata": {},
   "outputs": [
    {
     "data": {
      "text/plain": [
       "p_id           float64\n",
       "name             int64\n",
       "price          float64\n",
       "colour           int64\n",
       "brand            int64\n",
       "ratingCount    float64\n",
       "avg_rating     float64\n",
       "brand_id         int64\n",
       "dtype: object"
      ]
     },
     "execution_count": 29,
     "metadata": {},
     "output_type": "execute_result"
    }
   ],
   "source": [
    "main_df.dtypes"
   ]
  },
  {
   "cell_type": "code",
   "execution_count": 30,
   "metadata": {},
   "outputs": [],
   "source": [
    "# feature scaling \n",
    "from sklearn.preprocessing import StandardScaler\n",
    "\n",
    "def scale_features(df, columns):\n",
    "    sc = StandardScaler()\n",
    "    for col in columns:\n",
    "        if col in df.columns and df[col].dtype != 'object':\n",
    "            df[col] = sc.fit_transform(df[col].values.reshape(-1,1))\n",
    "    return df\n",
    "\n",
    "main_df = scale_features(main_df, main_df.columns)"
   ]
  },
  {
   "cell_type": "code",
   "execution_count": 31,
   "metadata": {},
   "outputs": [
    {
     "data": {
      "text/plain": [
       "Index(['colour', 'brand', 'ratingCount', 'avg_rating', 'brand_id'], dtype='object')"
      ]
     },
     "execution_count": 31,
     "metadata": {},
     "output_type": "execute_result"
    }
   ],
   "source": [
    "# feature selection\n",
    "from sklearn.feature_selection import SelectKBest\n",
    "\n",
    "def feature_selection(df, target, k):\n",
    "    X = df.drop(target, axis=1)\n",
    "    y = df[target]\n",
    "    selector = SelectKBest(k=k)\n",
    "    selector.fit(X, y)\n",
    "    return X.columns[selector.get_support()]\n",
    "\n",
    "features = feature_selection(main_df, 'price', 5)\n",
    "features"
   ]
  },
  {
   "cell_type": "code",
   "execution_count": 32,
   "metadata": {},
   "outputs": [],
   "source": [
    "# log transformation \n",
    "\n",
    "# def log_transformer(main_df, col):\n",
    "    #for column in col:\n",
    "        #main_df[column] = np.log(main_df[column])\n",
    "    #return main_df\n",
    "\n",
    "# main_df = log_transformer(main_df, main_df.columns)"
   ]
  },
  {
   "cell_type": "code",
   "execution_count": 33,
   "metadata": {},
   "outputs": [],
   "source": [
    "# dropping unnecessary features\n",
    "main_df.drop(['p_id'],axis=1,inplace=True)"
   ]
  },
  {
   "cell_type": "code",
   "execution_count": 34,
   "metadata": {},
   "outputs": [],
   "source": [
    "# splitting the data into train and test set\n",
    "from sklearn.model_selection import train_test_split\n",
    "\n",
    "X = main_df.drop('price', axis=1)\n",
    "y = main_df['price']\n",
    "\n",
    "X_train, X_test, y_train, y_test = train_test_split(X, y, test_size=0.2, random_state=42)"
   ]
  },
  {
   "attachments": {},
   "cell_type": "markdown",
   "metadata": {},
   "source": [
    "### Machine Learning Models"
   ]
  },
  {
   "cell_type": "code",
   "execution_count": 35,
   "metadata": {},
   "outputs": [],
   "source": [
    "# Linear Regression\n",
    "from sklearn.linear_model import LinearRegression\n",
    "\n",
    "def Modelling(model, X_train, y_train, X_test, y_test):\n",
    "    model.fit(X_train, y_train)\n",
    "    y_pred = model.predict(X_test)\n",
    "    return y_pred\n",
    "\n",
    "def Evaluation(y_test, y_pred):\n",
    "    from sklearn.metrics import mean_squared_error, r2_score\n",
    "    print('Mean Squared Error: ', mean_squared_error(y_test, y_pred))\n",
    "    print('R2 Score: ', r2_score(y_test, y_pred))\n",
    "\n",
    "y_pred  = Modelling(LinearRegression(), X_train, y_train, X_test, y_test)"
   ]
  },
  {
   "cell_type": "code",
   "execution_count": 36,
   "metadata": {},
   "outputs": [
    {
     "name": "stdout",
     "output_type": "stream",
     "text": [
      "Mean Squared Error:  76.23715033210219\n",
      "R2 Score:  -24684.53019374315\n"
     ]
    }
   ],
   "source": [
    "# Evaluation of the base linear regression model\n",
    "Evaluation(y_test, y_pred)"
   ]
  },
  {
   "cell_type": "code",
   "execution_count": 37,
   "metadata": {},
   "outputs": [
    {
     "data": {
      "text/plain": [
       "array([1.17286345, 1.39515456])"
      ]
     },
     "execution_count": 37,
     "metadata": {},
     "output_type": "execute_result"
    }
   ],
   "source": [
    "# Decision Tree\n",
    "from sklearn.tree import DecisionTreeRegressor\n",
    "\n",
    "y_pred1  = Modelling(DecisionTreeRegressor(), X_train, y_train, X_test, y_test)\n",
    "y_pred1"
   ]
  },
  {
   "cell_type": "code",
   "execution_count": 38,
   "metadata": {},
   "outputs": [
    {
     "name": "stdout",
     "output_type": "stream",
     "text": [
      "Mean Squared Error:  4.030275242320299\n",
      "R2 Score:  -1303.9999999999986\n"
     ]
    }
   ],
   "source": [
    "# Evaluation of the decision tree model\n",
    "Evaluation(y_test, y_pred1)"
   ]
  },
  {
   "cell_type": "code",
   "execution_count": 39,
   "metadata": {},
   "outputs": [
    {
     "data": {
      "text/plain": [
       "array([ 0.38714775, -0.13548643])"
      ]
     },
     "execution_count": 39,
     "metadata": {},
     "output_type": "execute_result"
    }
   ],
   "source": [
    "# Random Forest\n",
    "from sklearn.ensemble import RandomForestRegressor\n",
    "\n",
    "y_pred2  = Modelling(RandomForestRegressor(), X_train, y_train, X_test, y_test)\n",
    "y_pred2"
   ]
  },
  {
   "cell_type": "code",
   "execution_count": 40,
   "metadata": {},
   "outputs": [
    {
     "name": "stdout",
     "output_type": "stream",
     "text": [
      "Mean Squared Error:  0.7520385993048624\n",
      "R2 Score:  -242.5095156249997\n"
     ]
    }
   ],
   "source": [
    "# Evaluation of the Random forest model\n",
    "Evaluation(y_test, y_pred2)"
   ]
  },
  {
   "cell_type": "code",
   "execution_count": 41,
   "metadata": {},
   "outputs": [
    {
     "name": "stdout",
     "output_type": "stream",
     "text": [
      "Fitting 3 folds for each of 600 candidates, totalling 1800 fits\n"
     ]
    },
    {
     "data": {
      "text/plain": [
       "{'max_depth': 25,\n",
       " 'min_samples_leaf': 2,\n",
       " 'min_samples_split': 2,\n",
       " 'n_estimators': 100}"
      ]
     },
     "execution_count": 41,
     "metadata": {},
     "output_type": "execute_result"
    }
   ],
   "source": [
    "# tuning Random forest model\n",
    "from sklearn.model_selection import GridSearchCV\n",
    "\n",
    "params = {\n",
    "    'n_estimators': [100, 200, 300, 400, 500],\n",
    "    'max_depth': [5, 10, 15, 20, 25, 30],\n",
    "    'min_samples_split': [2, 5, 10, 15, 100],\n",
    "    'min_samples_leaf': [1, 2, 5, 10]   \n",
    "}\n",
    "\n",
    "grid = GridSearchCV(RandomForestRegressor(), params, verbose=1, cv=3, n_jobs=-1)\n",
    "grid.fit(X_train, y_train)\n",
    "\n",
    "grid.best_params_"
   ]
  },
  {
   "cell_type": "code",
   "execution_count": 42,
   "metadata": {},
   "outputs": [
    {
     "data": {
      "text/plain": [
       "array([ 0.28253223, -0.32256547])"
      ]
     },
     "execution_count": 42,
     "metadata": {},
     "output_type": "execute_result"
    }
   ],
   "source": [
    "# tuned Random forest model\n",
    "y_pred3  = Modelling(RandomForestRegressor(n_estimators= 100, min_samples_split= 2, min_samples_leaf= 2, max_depth= 10), X_train, y_train, X_test, y_test)\n",
    "y_pred3"
   ]
  },
  {
   "cell_type": "code",
   "execution_count": 43,
   "metadata": {},
   "outputs": [
    {
     "name": "stdout",
     "output_type": "stream",
     "text": [
      "Mean Squared Error:  0.5462408502683282\n",
      "R2 Score:  -175.87236398022551\n"
     ]
    }
   ],
   "source": [
    "# Evaluation of the tuned Random forest model\n",
    "Evaluation(y_test, y_pred3)"
   ]
  },
  {
   "cell_type": "code",
   "execution_count": 44,
   "metadata": {},
   "outputs": [
    {
     "data": {
      "text/plain": [
       "array([3, 2, 0, 1, 2, 2, 0, 2, 2, 4], dtype=int32)"
      ]
     },
     "execution_count": 44,
     "metadata": {},
     "output_type": "execute_result"
    }
   ],
   "source": [
    "# clustering\n",
    "from sklearn.cluster import KMeans\n",
    "\n",
    "def clustering(df, n_clusters):\n",
    "    kmeans = KMeans(n_clusters=n_clusters)\n",
    "    kmeans.fit(df)\n",
    "    return kmeans\n",
    "\n",
    "kmeans = clustering(main_df, 5)\n",
    "kmeans.labels_\n"
   ]
  },
  {
   "cell_type": "code",
   "execution_count": 45,
   "metadata": {},
   "outputs": [
    {
     "data": {
      "text/plain": [
       "array([[-1.21854359,  1.47851373,  0.18470284, -1.29099445, -0.71777249,\n",
       "        -1.17403318, -1.2625867 ],\n",
       "       [-0.17407766, -0.32760152, -0.9696899 ,  0.        ,  2.61825452,\n",
       "        -0.58758516, -0.34340593],\n",
       "       [ 0.87038828, -0.61713569, -0.04617571,  0.86066297, -0.25783447,\n",
       "         0.13952114,  0.89859111],\n",
       "       [-1.21854359, -0.93890206,  1.80085268, -1.29099445, -0.3863809 ,\n",
       "         1.39372493, -1.22581947],\n",
       "       [-0.52223297,  1.39515456, -0.9696899 , -0.43033148,  0.49284371,\n",
       "         0.84432089, -0.39855678]])"
      ]
     },
     "execution_count": 45,
     "metadata": {},
     "output_type": "execute_result"
    }
   ],
   "source": [
    "kmeans.cluster_centers_"
   ]
  },
  {
   "cell_type": "code",
   "execution_count": 46,
   "metadata": {},
   "outputs": [
    {
     "data": {
      "image/png": "[encoded data removed]",
      "text/plain": [
       "<Figure size 720x576 with 1 Axes>"
      ]
     },
     "metadata": {},
     "output_type": "display_data"
    }
   ],
   "source": [
    "# plotting the clusters\n",
    "plt.figure(figsize=(10,8))\n",
    "plt.scatter(main_df['avg_rating'], main_df['price'], c=kmeans.labels_, cmap='rainbow')\n",
    "plt.scatter(kmeans.cluster_centers_[:,0] ,kmeans.cluster_centers_[:,1], color='black')\n",
    "plt.title(\"Clusters of the products\",fontsize=20)\n",
    "plt.xlabel(\"Average ratings\",fontsize=15)\n",
    "plt.ylabel(\"Prices\",fontsize=15)\n",
    "plt.xticks(rotation=0,fontsize=12)\n",
    "plt.yticks(fontsize=12)\n",
    "plt.show()"
   ]
  },
  {
   "cell_type": "code",
   "execution_count": null,
   "metadata": {},
   "outputs": [],
   "source": []
  },
  {
   "cell_type": "code",
   "execution_count": null,
   "metadata": {},
   "outputs": [],
   "source": []
  }
 ],
 "metadata": {
  "kernelspec": {
   "display_name": "data",
   "language": "python",
   "name": "python3"
  },
  "language_info": {
   "codemirror_mode": {
    "name": "ipython",
    "version": 3
   },
   "file_extension": ".py",
   "mimetype": "text/x-python",
   "name": "python",
   "nbconvert_exporter": "python",
   "pygments_lexer": "ipython3",
   "version": "3.9.7"
  },
  "orig_nbformat": 4,
  "vscode": {
   "interpreter": {
    "hash": "4b5221f7fd568601ffb692ded55cc6a8f9f720c6422993e13b3964f3c2d5ea0a"
   }
  }
 },
 "nbformat": 4,
 "nbformat_minor": 2
}
