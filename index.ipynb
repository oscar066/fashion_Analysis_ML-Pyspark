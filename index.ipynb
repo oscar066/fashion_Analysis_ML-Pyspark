{
 "cells": [
  {
   "attachments": {},
   "cell_type": "markdown",
   "metadata": {},
   "source": [
    "# Fashion Analysis "
   ]
  },
  {
   "cell_type": "code",
   "execution_count": 1,
   "metadata": {},
   "outputs": [],
   "source": [
    "import pandas as pd\n",
    "import numpy as np\n",
    "import matplotlib.pyplot as  plt\n",
    "import seaborn as sns\n",
    "%matplotlib inline\n",
    "\n",
    "import warnings\n",
    "warnings.filterwarnings('ignore')"
   ]
  },
  {
   "cell_type": "code",
   "execution_count": 2,
   "metadata": {},
   "outputs": [
    {
     "data": {
      "text/html": [
       "<div>\n",
       "<style scoped>\n",
       "    .dataframe tbody tr th:only-of-type {\n",
       "        vertical-align: middle;\n",
       "    }\n",
       "\n",
       "    .dataframe tbody tr th {\n",
       "        vertical-align: top;\n",
       "    }\n",
       "\n",
       "    .dataframe thead th {\n",
       "        text-align: right;\n",
       "    }\n",
       "</style>\n",
       "<table border=\"1\" class=\"dataframe\">\n",
       "  <thead>\n",
       "    <tr style=\"text-align: right;\">\n",
       "      <th></th>\n",
       "      <th>p_id</th>\n",
       "      <th>name</th>\n",
       "      <th>price</th>\n",
       "      <th>colour</th>\n",
       "      <th>brand</th>\n",
       "      <th>ratingCount</th>\n",
       "      <th>avg_rating</th>\n",
       "      <th>description</th>\n",
       "      <th>p_attributes</th>\n",
       "    </tr>\n",
       "  </thead>\n",
       "  <tbody>\n",
       "    <tr>\n",
       "      <th>0</th>\n",
       "      <td>1518329.0</td>\n",
       "      <td>Dupatta Bazaar White Embroidered Chiffon Dupatta</td>\n",
       "      <td>899.0</td>\n",
       "      <td>White</td>\n",
       "      <td>Dupatta Bazaar</td>\n",
       "      <td>1321.0</td>\n",
       "      <td>4.548827</td>\n",
       "      <td>White embroidered&amp;nbsp;dupattaChiffon&lt;br&gt;Hand-...</td>\n",
       "      <td>{'Occasion': 'Daily', 'Pattern': 'Embroidered'...</td>\n",
       "    </tr>\n",
       "    <tr>\n",
       "      <th>1</th>\n",
       "      <td>5829334.0</td>\n",
       "      <td>Roadster Women Mustard Yellow Solid Hooded Swe...</td>\n",
       "      <td>1199.0</td>\n",
       "      <td>Mustard</td>\n",
       "      <td>Roadster</td>\n",
       "      <td>5462.0</td>\n",
       "      <td>4.313255</td>\n",
       "      <td>Mustard yellow solid sweatshirt, has a hood, t...</td>\n",
       "      <td>{'Body Shape ID': '443,424,324', 'Body or Garm...</td>\n",
       "    </tr>\n",
       "    <tr>\n",
       "      <th>2</th>\n",
       "      <td>10340119.0</td>\n",
       "      <td>Inddus Peach-Coloured &amp; Beige Unstitched Dress...</td>\n",
       "      <td>5799.0</td>\n",
       "      <td>Peach</td>\n",
       "      <td>Inddus</td>\n",
       "      <td>145.0</td>\n",
       "      <td>4.068966</td>\n",
       "      <td>Peach-Coloured and beige woven design unstitch...</td>\n",
       "      <td>{'Bottom Fabric': 'Cotton Blend', 'Bottom Patt...</td>\n",
       "    </tr>\n",
       "    <tr>\n",
       "      <th>3</th>\n",
       "      <td>10856380.0</td>\n",
       "      <td>SASSAFRAS Women Black Parallel Trousers</td>\n",
       "      <td>1499.0</td>\n",
       "      <td>Black</td>\n",
       "      <td>SASSAFRAS</td>\n",
       "      <td>9124.0</td>\n",
       "      <td>4.147523</td>\n",
       "      <td>Black solid woven high-rise parallel trousers,...</td>\n",
       "      <td>{'Add-Ons': 'NA', 'Body Shape ID': '424', 'Bod...</td>\n",
       "    </tr>\n",
       "    <tr>\n",
       "      <th>4</th>\n",
       "      <td>12384822.0</td>\n",
       "      <td>Kotty Women Black Wide Leg High-Rise Clean Loo...</td>\n",
       "      <td>1999.0</td>\n",
       "      <td>Black</td>\n",
       "      <td>Kotty</td>\n",
       "      <td>12260.0</td>\n",
       "      <td>4.078467</td>\n",
       "      <td>Black dark wash 4-pocket high-rise jeans, clea...</td>\n",
       "      <td>{'Add-Ons': 'NA', 'Brand Fit Name': 'NA', 'Clo...</td>\n",
       "    </tr>\n",
       "  </tbody>\n",
       "</table>\n",
       "</div>"
      ],
      "text/plain": [
       "         p_id                                               name   price  \\\n",
       "0   1518329.0   Dupatta Bazaar White Embroidered Chiffon Dupatta   899.0   \n",
       "1   5829334.0  Roadster Women Mustard Yellow Solid Hooded Swe...  1199.0   \n",
       "2  10340119.0  Inddus Peach-Coloured & Beige Unstitched Dress...  5799.0   \n",
       "3  10856380.0            SASSAFRAS Women Black Parallel Trousers  1499.0   \n",
       "4  12384822.0  Kotty Women Black Wide Leg High-Rise Clean Loo...  1999.0   \n",
       "\n",
       "    colour           brand  ratingCount  avg_rating  \\\n",
       "0    White  Dupatta Bazaar       1321.0    4.548827   \n",
       "1  Mustard        Roadster       5462.0    4.313255   \n",
       "2    Peach          Inddus        145.0    4.068966   \n",
       "3    Black       SASSAFRAS       9124.0    4.147523   \n",
       "4    Black           Kotty      12260.0    4.078467   \n",
       "\n",
       "                                         description  \\\n",
       "0  White embroidered&nbsp;dupattaChiffon<br>Hand-...   \n",
       "1  Mustard yellow solid sweatshirt, has a hood, t...   \n",
       "2  Peach-Coloured and beige woven design unstitch...   \n",
       "3  Black solid woven high-rise parallel trousers,...   \n",
       "4  Black dark wash 4-pocket high-rise jeans, clea...   \n",
       "\n",
       "                                        p_attributes  \n",
       "0  {'Occasion': 'Daily', 'Pattern': 'Embroidered'...  \n",
       "1  {'Body Shape ID': '443,424,324', 'Body or Garm...  \n",
       "2  {'Bottom Fabric': 'Cotton Blend', 'Bottom Patt...  \n",
       "3  {'Add-Ons': 'NA', 'Body Shape ID': '424', 'Bod...  \n",
       "4  {'Add-Ons': 'NA', 'Brand Fit Name': 'NA', 'Clo...  "
      ]
     },
     "execution_count": 2,
     "metadata": {},
     "output_type": "execute_result"
    }
   ],
   "source": [
    "fashion_df = pd.read_csv(\"fashiondataset.csv\")\n",
    "fashion_df.head()"
   ]
  },
  {
   "cell_type": "code",
   "execution_count": 3,
   "metadata": {},
   "outputs": [
    {
     "data": {
      "text/plain": [
       "Roadster                      346\n",
       "Tokyo Talkies                 287\n",
       "MANGO                         264\n",
       "SASSAFRAS                     246\n",
       "Clora Creation                236\n",
       "                             ... \n",
       "PrettyPlus by Desinoor.com      1\n",
       "MISHRI COLLECTION               1\n",
       "Fabcartz                        1\n",
       "Rivana                          1\n",
       "tantkatha                       1\n",
       "Name: brand, Length: 1020, dtype: int64"
      ]
     },
     "execution_count": 3,
     "metadata": {},
     "output_type": "execute_result"
    }
   ],
   "source": [
    "fashion_df.brand.value_counts()"
   ]
  },
  {
   "cell_type": "code",
   "execution_count": 4,
   "metadata": {},
   "outputs": [
    {
     "data": {
      "text/html": [
       "<div>\n",
       "<style scoped>\n",
       "    .dataframe tbody tr th:only-of-type {\n",
       "        vertical-align: middle;\n",
       "    }\n",
       "\n",
       "    .dataframe tbody tr th {\n",
       "        vertical-align: top;\n",
       "    }\n",
       "\n",
       "    .dataframe thead th {\n",
       "        text-align: right;\n",
       "    }\n",
       "</style>\n",
       "<table border=\"1\" class=\"dataframe\">\n",
       "  <thead>\n",
       "    <tr style=\"text-align: right;\">\n",
       "      <th></th>\n",
       "      <th>brand_id</th>\n",
       "      <th>brand_name</th>\n",
       "    </tr>\n",
       "  </thead>\n",
       "  <tbody>\n",
       "    <tr>\n",
       "      <th>0</th>\n",
       "      <td>1</td>\n",
       "      <td>513</td>\n",
       "    </tr>\n",
       "    <tr>\n",
       "      <th>1</th>\n",
       "      <td>2</td>\n",
       "      <td>109F</td>\n",
       "    </tr>\n",
       "    <tr>\n",
       "      <th>2</th>\n",
       "      <td>3</td>\n",
       "      <td>20Dresses</td>\n",
       "    </tr>\n",
       "    <tr>\n",
       "      <th>3</th>\n",
       "      <td>4</td>\n",
       "      <td>250 Designs</td>\n",
       "    </tr>\n",
       "    <tr>\n",
       "      <th>4</th>\n",
       "      <td>5</td>\n",
       "      <td>3Pin</td>\n",
       "    </tr>\n",
       "  </tbody>\n",
       "</table>\n",
       "</div>"
      ],
      "text/plain": [
       "   brand_id   brand_name\n",
       "0         1          513\n",
       "1         2         109F\n",
       "2         3    20Dresses\n",
       "3         4  250 Designs\n",
       "4         5         3Pin"
      ]
     },
     "execution_count": 4,
     "metadata": {},
     "output_type": "execute_result"
    }
   ],
   "source": [
    "brand_df = pd.read_excel('fashion_brand_details.xlsx')\n",
    "brand_df.head()"
   ]
  },
  {
   "cell_type": "code",
   "execution_count": 5,
   "metadata": {},
   "outputs": [
    {
     "data": {
      "text/plain": [
       "513                      1\n",
       "Pisara                   1\n",
       "Pashmoda                 1\n",
       "Pashtush                 1\n",
       "Patrorna                 1\n",
       "                        ..\n",
       "Grass By Gitika Goyal    1\n",
       "Griffel                  1\n",
       "Gritstones               1\n",
       "Grubstaker               1\n",
       "Zola                     1\n",
       "Name: brand_name, Length: 1020, dtype: int64"
      ]
     },
     "execution_count": 5,
     "metadata": {},
     "output_type": "execute_result"
    }
   ],
   "source": [
    "brand_df.brand_name.value_counts()"
   ]
  },
  {
   "attachments": {},
   "cell_type": "markdown",
   "metadata": {},
   "source": [
    "### 1. SQL implementation to create a main dataframe from the two csv files"
   ]
  },
  {
   "cell_type": "code",
   "execution_count": 6,
   "metadata": {},
   "outputs": [],
   "source": [
    "# convert pandas dataframe to sqlite table\n",
    "import sqlite3\n",
    "\n",
    "conn = sqlite3.connect('fashion.db')\n",
    "c = conn.cursor()\n",
    "\n",
    "# creating the fashion table in the database\n",
    "fashion_df.to_sql('fashion', conn, if_exists='replace', index = False)\n",
    "\n",
    "# creating the brand table in the database\n",
    "brand_df.to_sql('brand', conn, if_exists='replace', index = False)\n",
    "\n"
   ]
  },
  {
   "cell_type": "code",
   "execution_count": 7,
   "metadata": {},
   "outputs": [
    {
     "name": "stdout",
     "output_type": "stream",
     "text": [
      "[('fashion',), ('brand',)]\n"
     ]
    }
   ],
   "source": [
    "# check if the tables are created in the database\n",
    "p = \"\"\"\n",
    "SELECT name FROM sqlite_master WHERE type='table';\n",
    "\"\"\"\n",
    "#conn = sqlite3.connect('fashion.db')\n",
    "#c = conn.cursor()\n",
    "c.execute(p)\n",
    "print(c.fetchall())"
   ]
  },
  {
   "cell_type": "code",
   "execution_count": 8,
   "metadata": {},
   "outputs": [
    {
     "data": {
      "text/html": [
       "<div>\n",
       "<style scoped>\n",
       "    .dataframe tbody tr th:only-of-type {\n",
       "        vertical-align: middle;\n",
       "    }\n",
       "\n",
       "    .dataframe tbody tr th {\n",
       "        vertical-align: top;\n",
       "    }\n",
       "\n",
       "    .dataframe thead th {\n",
       "        text-align: right;\n",
       "    }\n",
       "</style>\n",
       "<table border=\"1\" class=\"dataframe\">\n",
       "  <thead>\n",
       "    <tr style=\"text-align: right;\">\n",
       "      <th></th>\n",
       "      <th>p_id</th>\n",
       "      <th>name</th>\n",
       "      <th>price</th>\n",
       "      <th>colour</th>\n",
       "      <th>brand</th>\n",
       "      <th>ratingCount</th>\n",
       "      <th>avg_rating</th>\n",
       "      <th>description</th>\n",
       "      <th>p_attributes</th>\n",
       "    </tr>\n",
       "  </thead>\n",
       "  <tbody>\n",
       "    <tr>\n",
       "      <th>0</th>\n",
       "      <td>1518329.0</td>\n",
       "      <td>Dupatta Bazaar White Embroidered Chiffon Dupatta</td>\n",
       "      <td>899.0</td>\n",
       "      <td>White</td>\n",
       "      <td>Dupatta Bazaar</td>\n",
       "      <td>1321.0</td>\n",
       "      <td>4.548827</td>\n",
       "      <td>White embroidered&amp;nbsp;dupattaChiffon&lt;br&gt;Hand-...</td>\n",
       "      <td>{'Occasion': 'Daily', 'Pattern': 'Embroidered'...</td>\n",
       "    </tr>\n",
       "    <tr>\n",
       "      <th>1</th>\n",
       "      <td>5829334.0</td>\n",
       "      <td>Roadster Women Mustard Yellow Solid Hooded Swe...</td>\n",
       "      <td>1199.0</td>\n",
       "      <td>Mustard</td>\n",
       "      <td>Roadster</td>\n",
       "      <td>5462.0</td>\n",
       "      <td>4.313255</td>\n",
       "      <td>Mustard yellow solid sweatshirt, has a hood, t...</td>\n",
       "      <td>{'Body Shape ID': '443,424,324', 'Body or Garm...</td>\n",
       "    </tr>\n",
       "    <tr>\n",
       "      <th>2</th>\n",
       "      <td>10340119.0</td>\n",
       "      <td>Inddus Peach-Coloured &amp; Beige Unstitched Dress...</td>\n",
       "      <td>5799.0</td>\n",
       "      <td>Peach</td>\n",
       "      <td>Inddus</td>\n",
       "      <td>145.0</td>\n",
       "      <td>4.068966</td>\n",
       "      <td>Peach-Coloured and beige woven design unstitch...</td>\n",
       "      <td>{'Bottom Fabric': 'Cotton Blend', 'Bottom Patt...</td>\n",
       "    </tr>\n",
       "    <tr>\n",
       "      <th>3</th>\n",
       "      <td>10856380.0</td>\n",
       "      <td>SASSAFRAS Women Black Parallel Trousers</td>\n",
       "      <td>1499.0</td>\n",
       "      <td>Black</td>\n",
       "      <td>SASSAFRAS</td>\n",
       "      <td>9124.0</td>\n",
       "      <td>4.147523</td>\n",
       "      <td>Black solid woven high-rise parallel trousers,...</td>\n",
       "      <td>{'Add-Ons': 'NA', 'Body Shape ID': '424', 'Bod...</td>\n",
       "    </tr>\n",
       "    <tr>\n",
       "      <th>4</th>\n",
       "      <td>12384822.0</td>\n",
       "      <td>Kotty Women Black Wide Leg High-Rise Clean Loo...</td>\n",
       "      <td>1999.0</td>\n",
       "      <td>Black</td>\n",
       "      <td>Kotty</td>\n",
       "      <td>12260.0</td>\n",
       "      <td>4.078467</td>\n",
       "      <td>Black dark wash 4-pocket high-rise jeans, clea...</td>\n",
       "      <td>{'Add-Ons': 'NA', 'Brand Fit Name': 'NA', 'Clo...</td>\n",
       "    </tr>\n",
       "    <tr>\n",
       "      <th>5</th>\n",
       "      <td>12742100.0</td>\n",
       "      <td>KASSUALLY Women Black &amp; Pink Printed Basic Jum...</td>\n",
       "      <td>2199.0</td>\n",
       "      <td>Black</td>\n",
       "      <td>KASSUALLY</td>\n",
       "      <td>6297.0</td>\n",
       "      <td>4.349214</td>\n",
       "      <td>Black printed basic jumpsuit, has a V-neck, lo...</td>\n",
       "      <td>{'Body or Garment Size': 'Garment Measurements...</td>\n",
       "    </tr>\n",
       "    <tr>\n",
       "      <th>6</th>\n",
       "      <td>13842966.0</td>\n",
       "      <td>Sassafras Brown &amp; Red Geometric Printed George...</td>\n",
       "      <td>1499.0</td>\n",
       "      <td>Brown</td>\n",
       "      <td>SASSAFRAS</td>\n",
       "      <td>7358.0</td>\n",
       "      <td>4.395352</td>\n",
       "      <td>&lt;ul&gt;&lt;li&gt;Brown and red crop wrap top&lt;/li&gt;&lt;li&gt;Pr...</td>\n",
       "      <td>{'Body Shape ID': '333,424', 'Body or Garment ...</td>\n",
       "    </tr>\n",
       "    <tr>\n",
       "      <th>7</th>\n",
       "      <td>14021452.0</td>\n",
       "      <td>Sera Women Multicoloured  Printed Tie-Up Shrug</td>\n",
       "      <td>1494.0</td>\n",
       "      <td>Multi</td>\n",
       "      <td>Sera</td>\n",
       "      <td>750.0</td>\n",
       "      <td>4.288000</td>\n",
       "      <td>Brown and blue printed tie-up longline shrug, ...</td>\n",
       "      <td>{'Body or Garment Size': 'To-Fit Denotes Body ...</td>\n",
       "    </tr>\n",
       "    <tr>\n",
       "      <th>8</th>\n",
       "      <td>14063026.0</td>\n",
       "      <td>Tokyo Talkies Women Black Solid Regular Shorts</td>\n",
       "      <td>699.0</td>\n",
       "      <td>Black</td>\n",
       "      <td>Tokyo Talkies</td>\n",
       "      <td>1856.0</td>\n",
       "      <td>4.530711</td>\n",
       "      <td>Black solid mid-rise regular shorts, has 2 poc...</td>\n",
       "      <td>{'Body or Garment Size': 'To-Fit Denotes Body ...</td>\n",
       "    </tr>\n",
       "    <tr>\n",
       "      <th>9</th>\n",
       "      <td>14324806.0</td>\n",
       "      <td>Anouk Stylish Black Solid Ready to Wear Leheng...</td>\n",
       "      <td>4699.0</td>\n",
       "      <td>Black</td>\n",
       "      <td>Anouk</td>\n",
       "      <td>84.0</td>\n",
       "      <td>3.809524</td>\n",
       "      <td>Stay fashionable in any season when you don th...</td>\n",
       "      <td>{'Blouse Closure': 'Zip', 'Blouse Fabric': 'Vi...</td>\n",
       "    </tr>\n",
       "  </tbody>\n",
       "</table>\n",
       "</div>"
      ],
      "text/plain": [
       "         p_id                                               name   price  \\\n",
       "0   1518329.0   Dupatta Bazaar White Embroidered Chiffon Dupatta   899.0   \n",
       "1   5829334.0  Roadster Women Mustard Yellow Solid Hooded Swe...  1199.0   \n",
       "2  10340119.0  Inddus Peach-Coloured & Beige Unstitched Dress...  5799.0   \n",
       "3  10856380.0            SASSAFRAS Women Black Parallel Trousers  1499.0   \n",
       "4  12384822.0  Kotty Women Black Wide Leg High-Rise Clean Loo...  1999.0   \n",
       "5  12742100.0  KASSUALLY Women Black & Pink Printed Basic Jum...  2199.0   \n",
       "6  13842966.0  Sassafras Brown & Red Geometric Printed George...  1499.0   \n",
       "7  14021452.0     Sera Women Multicoloured  Printed Tie-Up Shrug  1494.0   \n",
       "8  14063026.0     Tokyo Talkies Women Black Solid Regular Shorts   699.0   \n",
       "9  14324806.0  Anouk Stylish Black Solid Ready to Wear Leheng...  4699.0   \n",
       "\n",
       "    colour           brand  ratingCount  avg_rating  \\\n",
       "0    White  Dupatta Bazaar       1321.0    4.548827   \n",
       "1  Mustard        Roadster       5462.0    4.313255   \n",
       "2    Peach          Inddus        145.0    4.068966   \n",
       "3    Black       SASSAFRAS       9124.0    4.147523   \n",
       "4    Black           Kotty      12260.0    4.078467   \n",
       "5    Black       KASSUALLY       6297.0    4.349214   \n",
       "6    Brown       SASSAFRAS       7358.0    4.395352   \n",
       "7    Multi            Sera        750.0    4.288000   \n",
       "8    Black   Tokyo Talkies       1856.0    4.530711   \n",
       "9    Black           Anouk         84.0    3.809524   \n",
       "\n",
       "                                         description  \\\n",
       "0  White embroidered&nbsp;dupattaChiffon<br>Hand-...   \n",
       "1  Mustard yellow solid sweatshirt, has a hood, t...   \n",
       "2  Peach-Coloured and beige woven design unstitch...   \n",
       "3  Black solid woven high-rise parallel trousers,...   \n",
       "4  Black dark wash 4-pocket high-rise jeans, clea...   \n",
       "5  Black printed basic jumpsuit, has a V-neck, lo...   \n",
       "6  <ul><li>Brown and red crop wrap top</li><li>Pr...   \n",
       "7  Brown and blue printed tie-up longline shrug, ...   \n",
       "8  Black solid mid-rise regular shorts, has 2 poc...   \n",
       "9  Stay fashionable in any season when you don th...   \n",
       "\n",
       "                                        p_attributes  \n",
       "0  {'Occasion': 'Daily', 'Pattern': 'Embroidered'...  \n",
       "1  {'Body Shape ID': '443,424,324', 'Body or Garm...  \n",
       "2  {'Bottom Fabric': 'Cotton Blend', 'Bottom Patt...  \n",
       "3  {'Add-Ons': 'NA', 'Body Shape ID': '424', 'Bod...  \n",
       "4  {'Add-Ons': 'NA', 'Brand Fit Name': 'NA', 'Clo...  \n",
       "5  {'Body or Garment Size': 'Garment Measurements...  \n",
       "6  {'Body Shape ID': '333,424', 'Body or Garment ...  \n",
       "7  {'Body or Garment Size': 'To-Fit Denotes Body ...  \n",
       "8  {'Body or Garment Size': 'To-Fit Denotes Body ...  \n",
       "9  {'Blouse Closure': 'Zip', 'Blouse Fabric': 'Vi...  "
      ]
     },
     "execution_count": 8,
     "metadata": {},
     "output_type": "execute_result"
    }
   ],
   "source": [
    "# select from the fashion table\n",
    "\n",
    "q = \"\"\"\n",
    "SELECT * FROM fashion LIMIT 10;\n",
    "\"\"\"\n",
    "pd.read_sql(q, conn)"
   ]
  },
  {
   "cell_type": "code",
   "execution_count": 9,
   "metadata": {},
   "outputs": [
    {
     "data": {
      "text/html": [
       "<div>\n",
       "<style scoped>\n",
       "    .dataframe tbody tr th:only-of-type {\n",
       "        vertical-align: middle;\n",
       "    }\n",
       "\n",
       "    .dataframe tbody tr th {\n",
       "        vertical-align: top;\n",
       "    }\n",
       "\n",
       "    .dataframe thead th {\n",
       "        text-align: right;\n",
       "    }\n",
       "</style>\n",
       "<table border=\"1\" class=\"dataframe\">\n",
       "  <thead>\n",
       "    <tr style=\"text-align: right;\">\n",
       "      <th></th>\n",
       "      <th>brand_id</th>\n",
       "      <th>brand_name</th>\n",
       "    </tr>\n",
       "  </thead>\n",
       "  <tbody>\n",
       "    <tr>\n",
       "      <th>0</th>\n",
       "      <td>1</td>\n",
       "      <td>513</td>\n",
       "    </tr>\n",
       "    <tr>\n",
       "      <th>1</th>\n",
       "      <td>2</td>\n",
       "      <td>109F</td>\n",
       "    </tr>\n",
       "    <tr>\n",
       "      <th>2</th>\n",
       "      <td>3</td>\n",
       "      <td>20Dresses</td>\n",
       "    </tr>\n",
       "    <tr>\n",
       "      <th>3</th>\n",
       "      <td>4</td>\n",
       "      <td>250 Designs</td>\n",
       "    </tr>\n",
       "    <tr>\n",
       "      <th>4</th>\n",
       "      <td>5</td>\n",
       "      <td>3Pin</td>\n",
       "    </tr>\n",
       "    <tr>\n",
       "      <th>5</th>\n",
       "      <td>6</td>\n",
       "      <td>6Y Collective</td>\n",
       "    </tr>\n",
       "    <tr>\n",
       "      <th>6</th>\n",
       "      <td>7</td>\n",
       "      <td>98 Degree North</td>\n",
       "    </tr>\n",
       "    <tr>\n",
       "      <th>7</th>\n",
       "      <td>8</td>\n",
       "      <td>9Teenagain</td>\n",
       "    </tr>\n",
       "    <tr>\n",
       "      <th>8</th>\n",
       "      <td>9</td>\n",
       "      <td>A Little Fable</td>\n",
       "    </tr>\n",
       "    <tr>\n",
       "      <th>9</th>\n",
       "      <td>10</td>\n",
       "      <td>A.T.U.N.</td>\n",
       "    </tr>\n",
       "  </tbody>\n",
       "</table>\n",
       "</div>"
      ],
      "text/plain": [
       "   brand_id       brand_name\n",
       "0         1              513\n",
       "1         2             109F\n",
       "2         3        20Dresses\n",
       "3         4      250 Designs\n",
       "4         5             3Pin\n",
       "5         6    6Y Collective\n",
       "6         7  98 Degree North\n",
       "7         8       9Teenagain\n",
       "8         9   A Little Fable\n",
       "9        10         A.T.U.N."
      ]
     },
     "execution_count": 9,
     "metadata": {},
     "output_type": "execute_result"
    }
   ],
   "source": [
    "# select the  brand table  \n",
    "\n",
    "b = \"\"\"\n",
    "SELECT * FROM brand LIMIT 10;\n",
    "\"\"\"\n",
    "pd.read_sql(b, conn)"
   ]
  },
  {
   "cell_type": "code",
   "execution_count": 10,
   "metadata": {},
   "outputs": [
    {
     "data": {
      "text/html": [
       "<div>\n",
       "<style scoped>\n",
       "    .dataframe tbody tr th:only-of-type {\n",
       "        vertical-align: middle;\n",
       "    }\n",
       "\n",
       "    .dataframe tbody tr th {\n",
       "        vertical-align: top;\n",
       "    }\n",
       "\n",
       "    .dataframe thead th {\n",
       "        text-align: right;\n",
       "    }\n",
       "</style>\n",
       "<table border=\"1\" class=\"dataframe\">\n",
       "  <thead>\n",
       "    <tr style=\"text-align: right;\">\n",
       "      <th></th>\n",
       "      <th>p_id</th>\n",
       "      <th>name</th>\n",
       "      <th>price</th>\n",
       "      <th>colour</th>\n",
       "      <th>brand</th>\n",
       "      <th>ratingCount</th>\n",
       "      <th>avg_rating</th>\n",
       "      <th>description</th>\n",
       "      <th>p_attributes</th>\n",
       "      <th>brand_id</th>\n",
       "      <th>brand_name</th>\n",
       "    </tr>\n",
       "  </thead>\n",
       "  <tbody>\n",
       "    <tr>\n",
       "      <th>0</th>\n",
       "      <td>1518329.0</td>\n",
       "      <td>Dupatta Bazaar White Embroidered Chiffon Dupatta</td>\n",
       "      <td>899.0</td>\n",
       "      <td>White</td>\n",
       "      <td>Dupatta Bazaar</td>\n",
       "      <td>1321.0</td>\n",
       "      <td>4.548827</td>\n",
       "      <td>White embroidered&amp;nbsp;dupattaChiffon&lt;br&gt;Hand-...</td>\n",
       "      <td>{'Occasion': 'Daily', 'Pattern': 'Embroidered'...</td>\n",
       "      <td>242.0</td>\n",
       "      <td>Dupatta Bazaar</td>\n",
       "    </tr>\n",
       "    <tr>\n",
       "      <th>1</th>\n",
       "      <td>5829334.0</td>\n",
       "      <td>Roadster Women Mustard Yellow Solid Hooded Swe...</td>\n",
       "      <td>1199.0</td>\n",
       "      <td>Mustard</td>\n",
       "      <td>Roadster</td>\n",
       "      <td>5462.0</td>\n",
       "      <td>4.313255</td>\n",
       "      <td>Mustard yellow solid sweatshirt, has a hood, t...</td>\n",
       "      <td>{'Body Shape ID': '443,424,324', 'Body or Garm...</td>\n",
       "      <td>750.0</td>\n",
       "      <td>Roadster</td>\n",
       "    </tr>\n",
       "    <tr>\n",
       "      <th>2</th>\n",
       "      <td>10340119.0</td>\n",
       "      <td>Inddus Peach-Coloured &amp; Beige Unstitched Dress...</td>\n",
       "      <td>5799.0</td>\n",
       "      <td>Peach</td>\n",
       "      <td>Inddus</td>\n",
       "      <td>145.0</td>\n",
       "      <td>4.068966</td>\n",
       "      <td>Peach-Coloured and beige woven design unstitch...</td>\n",
       "      <td>{'Bottom Fabric': 'Cotton Blend', 'Bottom Patt...</td>\n",
       "      <td>389.0</td>\n",
       "      <td>Inddus</td>\n",
       "    </tr>\n",
       "    <tr>\n",
       "      <th>3</th>\n",
       "      <td>10856380.0</td>\n",
       "      <td>SASSAFRAS Women Black Parallel Trousers</td>\n",
       "      <td>1499.0</td>\n",
       "      <td>Black</td>\n",
       "      <td>SASSAFRAS</td>\n",
       "      <td>9124.0</td>\n",
       "      <td>4.147523</td>\n",
       "      <td>Black solid woven high-rise parallel trousers,...</td>\n",
       "      <td>{'Add-Ons': 'NA', 'Body Shape ID': '424', 'Bod...</td>\n",
       "      <td>NaN</td>\n",
       "      <td>None</td>\n",
       "    </tr>\n",
       "    <tr>\n",
       "      <th>4</th>\n",
       "      <td>12384822.0</td>\n",
       "      <td>Kotty Women Black Wide Leg High-Rise Clean Loo...</td>\n",
       "      <td>1999.0</td>\n",
       "      <td>Black</td>\n",
       "      <td>Kotty</td>\n",
       "      <td>12260.0</td>\n",
       "      <td>4.078467</td>\n",
       "      <td>Black dark wash 4-pocket high-rise jeans, clea...</td>\n",
       "      <td>{'Add-Ons': 'NA', 'Brand Fit Name': 'NA', 'Clo...</td>\n",
       "      <td>482.0</td>\n",
       "      <td>Kotty</td>\n",
       "    </tr>\n",
       "  </tbody>\n",
       "</table>\n",
       "</div>"
      ],
      "text/plain": [
       "         p_id                                               name   price  \\\n",
       "0   1518329.0   Dupatta Bazaar White Embroidered Chiffon Dupatta   899.0   \n",
       "1   5829334.0  Roadster Women Mustard Yellow Solid Hooded Swe...  1199.0   \n",
       "2  10340119.0  Inddus Peach-Coloured & Beige Unstitched Dress...  5799.0   \n",
       "3  10856380.0            SASSAFRAS Women Black Parallel Trousers  1499.0   \n",
       "4  12384822.0  Kotty Women Black Wide Leg High-Rise Clean Loo...  1999.0   \n",
       "\n",
       "    colour           brand  ratingCount  avg_rating  \\\n",
       "0    White  Dupatta Bazaar       1321.0    4.548827   \n",
       "1  Mustard        Roadster       5462.0    4.313255   \n",
       "2    Peach          Inddus        145.0    4.068966   \n",
       "3    Black       SASSAFRAS       9124.0    4.147523   \n",
       "4    Black           Kotty      12260.0    4.078467   \n",
       "\n",
       "                                         description  \\\n",
       "0  White embroidered&nbsp;dupattaChiffon<br>Hand-...   \n",
       "1  Mustard yellow solid sweatshirt, has a hood, t...   \n",
       "2  Peach-Coloured and beige woven design unstitch...   \n",
       "3  Black solid woven high-rise parallel trousers,...   \n",
       "4  Black dark wash 4-pocket high-rise jeans, clea...   \n",
       "\n",
       "                                        p_attributes  brand_id      brand_name  \n",
       "0  {'Occasion': 'Daily', 'Pattern': 'Embroidered'...     242.0  Dupatta Bazaar  \n",
       "1  {'Body Shape ID': '443,424,324', 'Body or Garm...     750.0        Roadster  \n",
       "2  {'Bottom Fabric': 'Cotton Blend', 'Bottom Patt...     389.0          Inddus  \n",
       "3  {'Add-Ons': 'NA', 'Body Shape ID': '424', 'Bod...       NaN            None  \n",
       "4  {'Add-Ons': 'NA', 'Brand Fit Name': 'NA', 'Clo...     482.0           Kotty  "
      ]
     },
     "execution_count": 10,
     "metadata": {},
     "output_type": "execute_result"
    }
   ],
   "source": [
    "# select data from both tables and create a main dataframe to be used for analysis\n",
    "\n",
    "r = \"\"\"\n",
    "SELECT * FROM fashion\n",
    "FULL OUTER JOIN brand\n",
    "ON fashion.brand = brand.brand_name;\n",
    "\"\"\"\n",
    "main_df = pd.read_sql(r, conn)\n",
    "main_df.head()"
   ]
  },
  {
   "cell_type": "code",
   "execution_count": 11,
   "metadata": {},
   "outputs": [
    {
     "data": {
      "text/plain": [
       "p_id             538\n",
       "name             539\n",
       "price            539\n",
       "colour           542\n",
       "brand            544\n",
       "ratingCount     8268\n",
       "avg_rating      8268\n",
       "description      539\n",
       "p_attributes     539\n",
       "brand_id        6231\n",
       "brand_name      6231\n",
       "dtype: int64"
      ]
     },
     "execution_count": 11,
     "metadata": {},
     "output_type": "execute_result"
    }
   ],
   "source": [
    "main_df.isna().sum()"
   ]
  },
  {
   "cell_type": "code",
   "execution_count": 12,
   "metadata": {},
   "outputs": [],
   "source": [
    "# close the connection\n",
    "conn.close()"
   ]
  },
  {
   "attachments": {},
   "cell_type": "markdown",
   "metadata": {},
   "source": [
    "### 2. Data Analysis of the new dataframe"
   ]
  },
  {
   "cell_type": "code",
   "execution_count": 17,
   "metadata": {},
   "outputs": [
    {
     "data": {
      "text/html": [
       "<div>\n",
       "<style scoped>\n",
       "    .dataframe tbody tr th:only-of-type {\n",
       "        vertical-align: middle;\n",
       "    }\n",
       "\n",
       "    .dataframe tbody tr th {\n",
       "        vertical-align: top;\n",
       "    }\n",
       "\n",
       "    .dataframe thead th {\n",
       "        text-align: right;\n",
       "    }\n",
       "</style>\n",
       "<table border=\"1\" class=\"dataframe\">\n",
       "  <thead>\n",
       "    <tr style=\"text-align: right;\">\n",
       "      <th></th>\n",
       "      <th>p_id</th>\n",
       "      <th>name</th>\n",
       "      <th>price</th>\n",
       "      <th>colour</th>\n",
       "      <th>brand</th>\n",
       "      <th>ratingCount</th>\n",
       "      <th>avg_rating</th>\n",
       "      <th>description</th>\n",
       "      <th>p_attributes</th>\n",
       "      <th>brand_id</th>\n",
       "      <th>brand_name</th>\n",
       "    </tr>\n",
       "  </thead>\n",
       "  <tbody>\n",
       "    <tr>\n",
       "      <th>0</th>\n",
       "      <td>1518329.0</td>\n",
       "      <td>Dupatta Bazaar White Embroidered Chiffon Dupatta</td>\n",
       "      <td>899.0</td>\n",
       "      <td>White</td>\n",
       "      <td>Dupatta Bazaar</td>\n",
       "      <td>1321.0</td>\n",
       "      <td>4.548827</td>\n",
       "      <td>White embroidered&amp;nbsp;dupattaChiffon&lt;br&gt;Hand-...</td>\n",
       "      <td>{'Occasion': 'Daily', 'Pattern': 'Embroidered'...</td>\n",
       "      <td>242.0</td>\n",
       "      <td>Dupatta Bazaar</td>\n",
       "    </tr>\n",
       "    <tr>\n",
       "      <th>1</th>\n",
       "      <td>5829334.0</td>\n",
       "      <td>Roadster Women Mustard Yellow Solid Hooded Swe...</td>\n",
       "      <td>1199.0</td>\n",
       "      <td>Mustard</td>\n",
       "      <td>Roadster</td>\n",
       "      <td>5462.0</td>\n",
       "      <td>4.313255</td>\n",
       "      <td>Mustard yellow solid sweatshirt, has a hood, t...</td>\n",
       "      <td>{'Body Shape ID': '443,424,324', 'Body or Garm...</td>\n",
       "      <td>750.0</td>\n",
       "      <td>Roadster</td>\n",
       "    </tr>\n",
       "    <tr>\n",
       "      <th>2</th>\n",
       "      <td>10340119.0</td>\n",
       "      <td>Inddus Peach-Coloured &amp; Beige Unstitched Dress...</td>\n",
       "      <td>5799.0</td>\n",
       "      <td>Peach</td>\n",
       "      <td>Inddus</td>\n",
       "      <td>145.0</td>\n",
       "      <td>4.068966</td>\n",
       "      <td>Peach-Coloured and beige woven design unstitch...</td>\n",
       "      <td>{'Bottom Fabric': 'Cotton Blend', 'Bottom Patt...</td>\n",
       "      <td>389.0</td>\n",
       "      <td>Inddus</td>\n",
       "    </tr>\n",
       "    <tr>\n",
       "      <th>3</th>\n",
       "      <td>10856380.0</td>\n",
       "      <td>SASSAFRAS Women Black Parallel Trousers</td>\n",
       "      <td>1499.0</td>\n",
       "      <td>Black</td>\n",
       "      <td>SASSAFRAS</td>\n",
       "      <td>9124.0</td>\n",
       "      <td>4.147523</td>\n",
       "      <td>Black solid woven high-rise parallel trousers,...</td>\n",
       "      <td>{'Add-Ons': 'NA', 'Body Shape ID': '424', 'Bod...</td>\n",
       "      <td>NaN</td>\n",
       "      <td>None</td>\n",
       "    </tr>\n",
       "    <tr>\n",
       "      <th>4</th>\n",
       "      <td>12384822.0</td>\n",
       "      <td>Kotty Women Black Wide Leg High-Rise Clean Loo...</td>\n",
       "      <td>1999.0</td>\n",
       "      <td>Black</td>\n",
       "      <td>Kotty</td>\n",
       "      <td>12260.0</td>\n",
       "      <td>4.078467</td>\n",
       "      <td>Black dark wash 4-pocket high-rise jeans, clea...</td>\n",
       "      <td>{'Add-Ons': 'NA', 'Brand Fit Name': 'NA', 'Clo...</td>\n",
       "      <td>482.0</td>\n",
       "      <td>Kotty</td>\n",
       "    </tr>\n",
       "  </tbody>\n",
       "</table>\n",
       "</div>"
      ],
      "text/plain": [
       "         p_id                                               name   price  \\\n",
       "0   1518329.0   Dupatta Bazaar White Embroidered Chiffon Dupatta   899.0   \n",
       "1   5829334.0  Roadster Women Mustard Yellow Solid Hooded Swe...  1199.0   \n",
       "2  10340119.0  Inddus Peach-Coloured & Beige Unstitched Dress...  5799.0   \n",
       "3  10856380.0            SASSAFRAS Women Black Parallel Trousers  1499.0   \n",
       "4  12384822.0  Kotty Women Black Wide Leg High-Rise Clean Loo...  1999.0   \n",
       "\n",
       "    colour           brand  ratingCount  avg_rating  \\\n",
       "0    White  Dupatta Bazaar       1321.0    4.548827   \n",
       "1  Mustard        Roadster       5462.0    4.313255   \n",
       "2    Peach          Inddus        145.0    4.068966   \n",
       "3    Black       SASSAFRAS       9124.0    4.147523   \n",
       "4    Black           Kotty      12260.0    4.078467   \n",
       "\n",
       "                                         description  \\\n",
       "0  White embroidered&nbsp;dupattaChiffon<br>Hand-...   \n",
       "1  Mustard yellow solid sweatshirt, has a hood, t...   \n",
       "2  Peach-Coloured and beige woven design unstitch...   \n",
       "3  Black solid woven high-rise parallel trousers,...   \n",
       "4  Black dark wash 4-pocket high-rise jeans, clea...   \n",
       "\n",
       "                                        p_attributes  brand_id      brand_name  \n",
       "0  {'Occasion': 'Daily', 'Pattern': 'Embroidered'...     242.0  Dupatta Bazaar  \n",
       "1  {'Body Shape ID': '443,424,324', 'Body or Garm...     750.0        Roadster  \n",
       "2  {'Bottom Fabric': 'Cotton Blend', 'Bottom Patt...     389.0          Inddus  \n",
       "3  {'Add-Ons': 'NA', 'Body Shape ID': '424', 'Bod...       NaN            None  \n",
       "4  {'Add-Ons': 'NA', 'Brand Fit Name': 'NA', 'Clo...     482.0           Kotty  "
      ]
     },
     "execution_count": 17,
     "metadata": {},
     "output_type": "execute_result"
    }
   ],
   "source": [
    "main_df.head()"
   ]
  },
  {
   "cell_type": "code",
   "execution_count": 18,
   "metadata": {},
   "outputs": [
    {
     "name": "stdout",
     "output_type": "stream",
     "text": [
      "<class 'pandas.core.frame.DataFrame'>\n",
      "RangeIndex: 14849 entries, 0 to 14848\n",
      "Data columns (total 11 columns):\n",
      " #   Column        Non-Null Count  Dtype  \n",
      "---  ------        --------------  -----  \n",
      " 0   p_id          14311 non-null  float64\n",
      " 1   name          14310 non-null  object \n",
      " 2   price         14310 non-null  float64\n",
      " 3   colour        14307 non-null  object \n",
      " 4   brand         14305 non-null  object \n",
      " 5   ratingCount   6581 non-null   float64\n",
      " 6   avg_rating    6581 non-null   float64\n",
      " 7   description   14310 non-null  object \n",
      " 8   p_attributes  14310 non-null  object \n",
      " 9   brand_id      8618 non-null   float64\n",
      " 10  brand_name    8618 non-null   object \n",
      "dtypes: float64(5), object(6)\n",
      "memory usage: 1.2+ MB\n"
     ]
    }
   ],
   "source": [
    "main_df.info()"
   ]
  },
  {
   "attachments": {},
   "cell_type": "markdown",
   "metadata": {},
   "source": [
    "#### 2.1. Data Cleaning"
   ]
  },
  {
   "cell_type": "code",
   "execution_count": 19,
   "metadata": {},
   "outputs": [
    {
     "data": {
      "text/html": [
       "<div>\n",
       "<style scoped>\n",
       "    .dataframe tbody tr th:only-of-type {\n",
       "        vertical-align: middle;\n",
       "    }\n",
       "\n",
       "    .dataframe tbody tr th {\n",
       "        vertical-align: top;\n",
       "    }\n",
       "\n",
       "    .dataframe thead th {\n",
       "        text-align: right;\n",
       "    }\n",
       "</style>\n",
       "<table border=\"1\" class=\"dataframe\">\n",
       "  <thead>\n",
       "    <tr style=\"text-align: right;\">\n",
       "      <th></th>\n",
       "      <th>missing_values</th>\n",
       "      <th>percent_missing %</th>\n",
       "    </tr>\n",
       "  </thead>\n",
       "  <tbody>\n",
       "    <tr>\n",
       "      <th>p_id</th>\n",
       "      <td>538</td>\n",
       "      <td>3.623140</td>\n",
       "    </tr>\n",
       "    <tr>\n",
       "      <th>name</th>\n",
       "      <td>539</td>\n",
       "      <td>3.629874</td>\n",
       "    </tr>\n",
       "    <tr>\n",
       "      <th>price</th>\n",
       "      <td>539</td>\n",
       "      <td>3.629874</td>\n",
       "    </tr>\n",
       "    <tr>\n",
       "      <th>colour</th>\n",
       "      <td>542</td>\n",
       "      <td>3.650077</td>\n",
       "    </tr>\n",
       "    <tr>\n",
       "      <th>brand</th>\n",
       "      <td>544</td>\n",
       "      <td>3.663546</td>\n",
       "    </tr>\n",
       "    <tr>\n",
       "      <th>ratingCount</th>\n",
       "      <td>8268</td>\n",
       "      <td>55.680517</td>\n",
       "    </tr>\n",
       "    <tr>\n",
       "      <th>avg_rating</th>\n",
       "      <td>8268</td>\n",
       "      <td>55.680517</td>\n",
       "    </tr>\n",
       "    <tr>\n",
       "      <th>description</th>\n",
       "      <td>539</td>\n",
       "      <td>3.629874</td>\n",
       "    </tr>\n",
       "    <tr>\n",
       "      <th>p_attributes</th>\n",
       "      <td>539</td>\n",
       "      <td>3.629874</td>\n",
       "    </tr>\n",
       "    <tr>\n",
       "      <th>brand_id</th>\n",
       "      <td>6231</td>\n",
       "      <td>41.962422</td>\n",
       "    </tr>\n",
       "    <tr>\n",
       "      <th>brand_name</th>\n",
       "      <td>6231</td>\n",
       "      <td>41.962422</td>\n",
       "    </tr>\n",
       "  </tbody>\n",
       "</table>\n",
       "</div>"
      ],
      "text/plain": [
       "              missing_values   percent_missing %\n",
       "p_id                      538           3.623140\n",
       "name                      539           3.629874\n",
       "price                     539           3.629874\n",
       "colour                    542           3.650077\n",
       "brand                     544           3.663546\n",
       "ratingCount              8268          55.680517\n",
       "avg_rating               8268          55.680517\n",
       "description               539           3.629874\n",
       "p_attributes              539           3.629874\n",
       "brand_id                 6231          41.962422\n",
       "brand_name               6231          41.962422"
      ]
     },
     "execution_count": 19,
     "metadata": {},
     "output_type": "execute_result"
    }
   ],
   "source": [
    "# 1.check for missing data\n",
    "missing_values=main_df.isnull().sum()\n",
    "percent_missing = main_df.isnull().sum()/main_df.shape[0]*100\n",
    "\n",
    "value = {\n",
    "    'missing_values ':missing_values,\n",
    "    'percent_missing %':percent_missing\n",
    "}\n",
    "frame=pd.DataFrame(value)\n",
    "frame"
   ]
  },
  {
   "attachments": {},
   "cell_type": "markdown",
   "metadata": {},
   "source": [
    "The dataframe does not contain any missing values"
   ]
  },
  {
   "cell_type": "code",
   "execution_count": 25,
   "metadata": {},
   "outputs": [],
   "source": [
    "# Dealing with missing data\n",
    "# Replace the missing values with 0\n",
    "main_df['p_id'] = main_df['p_id'].fillna(0)\n",
    "main_df['brand_id'] = main_df['brand_id'].fillna(0)\n",
    "\n",
    "# Replace the missing values with the mean\n",
    "main_df['price'] = main_df['price'].fillna(main_df['price'].mean())\n",
    "main_df['ratingCount'] = main_df['ratingCount'].fillna(main_df['ratingCount'].mean())\n",
    "main_df['avg_rating'] = main_df['avg_rating'].fillna(main_df['avg_rating'].mean())\n",
    "\n",
    "# Replace the missing values with a descriptive string \"Missing\"\n",
    "main_df['name'] = main_df['name'].fillna('Missing')\n",
    "main_df['brand'] = main_df['brand'].fillna('Missing')\n",
    "main_df['colour'] = main_df['colour'].fillna('Missing')\n",
    "main_df['description'] = main_df['description'].fillna('Missing')\n",
    "main_df['brand_name'] = main_df['brand_name'].fillna('Missing')\n",
    "main_df['p_attributes'] = main_df['p_attributes'].fillna('Missing')\n"
   ]
  },
  {
   "cell_type": "code",
   "execution_count": 27,
   "metadata": {},
   "outputs": [
    {
     "data": {
      "text/plain": [
       "p_id            0\n",
       "name            0\n",
       "price           0\n",
       "colour          0\n",
       "brand           0\n",
       "ratingCount     0\n",
       "avg_rating      0\n",
       "description     0\n",
       "p_attributes    0\n",
       "brand_id        0\n",
       "brand_name      0\n",
       "dtype: int64"
      ]
     },
     "execution_count": 27,
     "metadata": {},
     "output_type": "execute_result"
    }
   ],
   "source": [
    "# check for missing data\n",
    "main_df.isna().sum()"
   ]
  },
  {
   "cell_type": "code",
   "execution_count": 28,
   "metadata": {},
   "outputs": [
    {
     "name": "stdout",
     "output_type": "stream",
     "text": [
      "Duplicate Rows except first occurrence based on all columns are :\n",
      "             p_id                                               name  \\\n",
      "219    19215754.0                BoStreet Women Maroon Flared Skirts   \n",
      "437    18548534.0              MONTREZ Women Blue Denim Solid Skirts   \n",
      "696           0.0                                            Missing   \n",
      "847    18815858.0       Emprall Women Pink Solid Pleated Mini Skirts   \n",
      "3025   18841582.0               Styli Women Black Solid A-Line Skirt   \n",
      "3041   18485216.0      Hive91 Women Black Printed A-Line Maxi Skirts   \n",
      "3053   18604646.0  Zink London Women Blue Floral  Lace Design Skirts   \n",
      "3168   19235438.0  Oxolloxo Women Navy Blue Printed Knee-Length E...   \n",
      "3394   10604482.0  SASSAFRAS Blue Washed Midi Denim Pure Cotton A...   \n",
      "3426   13792358.0  U&F Red & White Printed Accordion Pleat Maxi F...   \n",
      "3461   13626148.0   SASSAFRAS Burgundy Dobby Weave Maxi Flared Skirt   \n",
      "3936   18879630.0           MANGO Lilac & Green Sequinned Mini Skirt   \n",
      "4032   18977844.0  Popwings Women Lavender-Colored & Black Stripe...   \n",
      "4049   19070006.0  Forever New Women Peach Satin Pleated Flared M...   \n",
      "4059   17445656.0               Vishudh Blue Floral Print Peplum Top   \n",
      "4501   14259558.0     AKIMIA Black Velvet Finish Maxi Straight Skirt   \n",
      "4626   12086086.0      Athena Women Burgundy Solid Pencil Midi Skirt   \n",
      "5201          0.0                                            Missing   \n",
      "5220   13496046.0       FableStreet Olive Green Knitted Pencil Skirt   \n",
      "5405   17189492.0  Clora Creation Women Yellow & Orange Floral Pr...   \n",
      "5745          0.0                                            Missing   \n",
      "6001   19148242.0                    H&M Women Blue Solid Mini Skirt   \n",
      "6224   18337264.0                  Akshatani Black Flared Mini Skirt   \n",
      "6259   12663978.0  Clora Creation Women Maroon & Gold Printed Fla...   \n",
      "6281   16604256.0  Allen Solly Woman Blue & White Striped Tie-Ups...   \n",
      "6384   18812390.0  Antheaa Women Pink & Maroon Printed Pleated A-...   \n",
      "6395   17364274.0              Sugr Women Blue Striped A- Line Skirt   \n",
      "6504          0.0                                            Missing   \n",
      "6999          0.0                                            Missing   \n",
      "7239          0.0                                            Missing   \n",
      "7254          0.0                                            Missing   \n",
      "7389          0.0                                            Missing   \n",
      "7524          0.0                                            Missing   \n",
      "7541   12785008.0  anayna Women Navy Blue & White Ditsy Dots Prin...   \n",
      "7665   16200858.0  Tokyo Talkies Women Olive Green A-Line Midi Sk...   \n",
      "7899          0.0                                            Missing   \n",
      "8409          0.0                                            Missing   \n",
      "9429   19157084.0  Disrupt Women Black Solid Slim-Fit Pencil Mini...   \n",
      "9828   14008468.0  Sera Women Brown & White Printed Flared Mini S...   \n",
      "10036  14855608.0  Cottinfab Women Brown Solid Crinkled Flared Skirt   \n",
      "10074         0.0                                            Missing   \n",
      "10084  16356060.0  Zink London Women Blue & White Striped Straigh...   \n",
      "10140  15956420.0  Missguided Women White ditsy floral print deni...   \n",
      "10267  15546904.0  Revolution Plus Size Women Purple Solid Pleate...   \n",
      "10321  17507832.0             H&M Women Beige Knitted Slit-Hem Skirt   \n",
      "10922         0.0                                            Missing   \n",
      "11333  18637088.0     KASSUALLY Women Pink Checked Flared Mini Skirt   \n",
      "11351  19160184.0  aturabi Women Black & White Checked Pencil Abo...   \n",
      "11451  18055626.0  Rue Collection Women White Ditsy Floral Printe...   \n",
      "11806         0.0                                            Missing   \n",
      "11836  13038972.0  STREET 9 Women Purple Solid A-line Mini Pure C...   \n",
      "12014         0.0                                            Missing   \n",
      "12148  17061024.0  Purple State Women Pink Printed Pure Cotton Fl...   \n",
      "12281  17063706.0  SOUNDARYA Women Olive Printed Wrap-Around Knee...   \n",
      "12290  17063720.0  SOUNDARYA Women White Printed Cotton Wrap-Arou...   \n",
      "12330         0.0                                            Missing   \n",
      "13756         0.0                                            Missing   \n",
      "14018  18098776.0           PATRORNA Women Fuchsia Solid Mini Skirts   \n",
      "14289  14572412.0  Shae by SASSAFRAS Peach-Coloured Regular Crop Top   \n",
      "\n",
      "             price     colour              brand  ratingCount  avg_rating  \\\n",
      "219    2499.000000     Maroon           BoStreet    184.47941    4.101226   \n",
      "437    1499.000000       Blue            MONTREZ     36.00000    4.194444   \n",
      "696    2964.168484    Missing            Missing    184.47941    4.101226   \n",
      "847    1299.000000       Pink            Emprall    184.47941    4.101226   \n",
      "3025   2149.000000      Black              Styli    184.47941    4.101226   \n",
      "3041   1349.000000      Black             Hive91    184.47941    4.101226   \n",
      "3053   1999.000000       Blue        Zink London    184.47941    4.101226   \n",
      "3168   1599.000000  Navy Blue           Oxolloxo    184.47941    4.101226   \n",
      "3394   1999.000000       Blue          SASSAFRAS    632.00000    4.143987   \n",
      "3426   1699.000000        Red                U&F    441.00000    4.074830   \n",
      "3461   1699.000000   Burgundy          SASSAFRAS    219.00000    4.337900   \n",
      "3936   3690.000000   Lavender              MANGO    184.47941    4.101226   \n",
      "4032   1299.000000   Lavender           Popwings      6.00000    4.833333   \n",
      "4049   4600.000000      Peach        Forever New    184.47941    4.101226   \n",
      "4059   1299.000000       Blue            Vishudh     54.00000    4.277778   \n",
      "4501   1299.000000      Black             AKIMIA    141.00000    3.070922   \n",
      "4626   1299.000000   Burgundy             Athena    304.00000    4.177632   \n",
      "5201   2964.168484    Missing            Missing    184.47941    4.101226   \n",
      "5220   1995.000000      Olive        FableStreet     11.00000    4.363636   \n",
      "5405   1399.000000     Yellow     Clora Creation    184.47941    4.101226   \n",
      "5745   2964.168484    Missing            Missing    184.47941    4.101226   \n",
      "6001   1499.000000       Blue                H&M    184.47941    4.101226   \n",
      "6224   1099.000000      Black          Akshatani    184.47941    4.101226   \n",
      "6259   1499.000000     Maroon     Clora Creation     31.00000    4.064516   \n",
      "6281   1899.000000       Blue  Allen Solly Woman    184.47941    4.101226   \n",
      "6384   1999.000000       Pink            Antheaa    184.47941    4.101226   \n",
      "6395    899.000000       Blue               Sugr    184.47941    4.101226   \n",
      "6504   2964.168484    Missing            Missing    184.47941    4.101226   \n",
      "6999   2964.168484    Missing            Missing    184.47941    4.101226   \n",
      "7239   2964.168484    Missing            Missing    184.47941    4.101226   \n",
      "7254   2964.168484    Missing            Missing    184.47941    4.101226   \n",
      "7389   2964.168484    Missing            Missing    184.47941    4.101226   \n",
      "7524   2964.168484    Missing            Missing    184.47941    4.101226   \n",
      "7541   1680.000000  Navy Blue             anayna    171.00000    4.105263   \n",
      "7665   1649.000000      Olive      Tokyo Talkies      8.00000    5.000000   \n",
      "7899   2964.168484    Missing            Missing    184.47941    4.101226   \n",
      "8409   2964.168484    Missing            Missing    184.47941    4.101226   \n",
      "9429   1299.000000      Black            Disrupt    184.47941    4.101226   \n",
      "9828   1294.000000      Brown               Sera     19.00000    3.894737   \n",
      "10036  1299.000000      Brown          Cottinfab     10.00000    4.600000   \n",
      "10074  2964.168484    Missing            Missing    184.47941    4.101226   \n",
      "10084  1599.000000       Blue        Zink London    184.47941    4.101226   \n",
      "10140  3340.000000      White         Missguided    184.47941    4.101226   \n",
      "10267  2500.000000     Purple         Revolution    184.47941    4.101226   \n",
      "10321  1999.000000      Beige                H&M    184.47941    4.101226   \n",
      "10922  2964.168484    Missing            Missing    184.47941    4.101226   \n",
      "11333  1999.000000       Pink          KASSUALLY    184.47941    4.101226   \n",
      "11351  1999.000000      Black            aturabi    184.47941    4.101226   \n",
      "11451  1899.000000      White     Rue Collection    184.47941    4.101226   \n",
      "11806  2964.168484    Missing            Missing    184.47941    4.101226   \n",
      "11836  1599.000000   Lavender           STREET 9     28.00000    4.035714   \n",
      "12014  2964.168484    Missing            Missing    184.47941    4.101226   \n",
      "12148  1499.000000       Pink       Purple State      5.00000    2.600000   \n",
      "12281   999.000000      Olive          SOUNDARYA      7.00000    3.714286   \n",
      "12290   999.000000      White          SOUNDARYA    184.47941    4.101226   \n",
      "12330  2964.168484    Missing            Missing    184.47941    4.101226   \n",
      "13756  2964.168484    Missing            Missing    184.47941    4.101226   \n",
      "14018  2499.000000    Fuchsia           PATRORNA    184.47941    4.101226   \n",
      "14289   999.000000      Peach  Shae by SASSAFRAS     47.00000    4.148936   \n",
      "\n",
      "                                             description  \\\n",
      "219    Maroon Flared Skirts, has slip-on closure and ...   \n",
      "437    <p>Blue solid  knitted midi denim A-line skirt...   \n",
      "696                                              Missing   \n",
      "847    <p>Pink pleated flared mini skirt, has an elas...   \n",
      "3025   <p>Black solid A-line skirt,  has a waistband ...   \n",
      "3041   <p>Black printed A-line midi skirt, has an ela...   \n",
      "3053   <p>Blue floral lace design A-line skirt  has a...   \n",
      "3168   <p>Navy blue printed flared knee length skirt,...   \n",
      "3394   Blue washed midi denim A-line skirt, has a par...   \n",
      "3426   Red and white printed accordion pleats woven m...   \n",
      "3461   Burgundy dobby weave maxi flared skirt, has an...   \n",
      "3936   Lilac and green sequinned straight mini skirt,...   \n",
      "4032   <p>Lavender-colored and black striped pencil k...   \n",
      "4049   <p>Peach solid flared midi party skirt with pl...   \n",
      "4059   <ul> <li> Blue regular peplum top </li> <li> F...   \n",
      "4501   Black solid maxi straight skirt, has a waistba...   \n",
      "4626   <p>Burgundy solid pencil skirt, has an elastic...   \n",
      "5201                                             Missing   \n",
      "5220   <p>Olive green solid mid-rise pencil skirt, ha...   \n",
      "5405   <p>Yellow and orange printed flared maxi skirt...   \n",
      "5745                                             Missing   \n",
      "6001   <ul><li>Blue solid denim 5-pocket skirt in a c...   \n",
      "6224   <p>Black solid flared mini skirt, has an elast...   \n",
      "6259   Maroona nd gold printed flared maxi skirt, has...   \n",
      "6281   Colour: Light blue and white<br>Vertical strip...   \n",
      "6384   Pink &amp; Maroon Printed Pleated A-Line Skirt...   \n",
      "6395   <p>Blue striped A-line skirt, has an elasticiz...   \n",
      "6504                                             Missing   \n",
      "6999                                             Missing   \n",
      "7239                                             Missing   \n",
      "7254                                             Missing   \n",
      "7389                                             Missing   \n",
      "7524                                             Missing   \n",
      "7541   Navy Blue and White ditsy dots print woven lon...   \n",
      "7665   Olive green solid a-line midi skirts, has a fr...   \n",
      "7899                                             Missing   \n",
      "8409                                             Missing   \n",
      "9429   <p>Black solid slim-fit mini pencil skirt has ...   \n",
      "9828   <p>Brown and white polka dot printed flared mi...   \n",
      "10036  Brown solid woven crinkled flared skirt, has a...   \n",
      "10074                                            Missing   \n",
      "10084  <p>Blue and white striped straight mini-skirt ...   \n",
      "10140  denim mini skirt in a ditsy floral print with ...   \n",
      "10267  Purple solid pleated flared skirt, has an elas...   \n",
      "10321  Knitted, calf-length skirt containing some woo...   \n",
      "10922                                            Missing   \n",
      "11333  Pink and white checked mini skirt, pleated fla...   \n",
      "11351  <p>Black and white checked pencil above knee-l...   \n",
      "11451  White ditsy floral printed above-knee A-line s...   \n",
      "11806                                            Missing   \n",
      "11836  Purple solid mini A-line skirt, has zip closur...   \n",
      "12014                                            Missing   \n",
      "12148  <p>Pink and black printed flared mini skirt, h...   \n",
      "12281  <p>Olive and Maroon printed wrap around knee l...   \n",
      "12290  <p>Black and White printed wrap around knee le...   \n",
      "12330                                            Missing   \n",
      "13756                                            Missing   \n",
      "14018  <p>Fuchsia solid skort having elastic waistban...   \n",
      "14289  <ul> <li> Peach-coloured crop regular top </li...   \n",
      "\n",
      "                                            p_attributes  brand_id  \\\n",
      "219    {'Add-Ons': 'NA', 'Body Shape ID': '443,324,33...       0.0   \n",
      "437    {'Add-Ons': 'NA', 'Body Shape ID': '443,324,33...       0.0   \n",
      "696                                              Missing       0.0   \n",
      "847    {'Add-Ons': 'NA', 'Body Shape ID': '443,333,42...     253.0   \n",
      "3025   {'Add-Ons': 'NA', 'Body Shape ID': '324,333,42...     848.0   \n",
      "3041   {'Add-Ons': 'NA', 'Body Shape ID': '324,333,42...     368.0   \n",
      "3053   {'Add-Ons': 'NA', 'Body Shape ID': '443,324,33...    1014.0   \n",
      "3168   {'Add-Ons': 'NA', 'Body Shape ID': '443,324,33...     660.0   \n",
      "3394   {'Add-Ons': 'NA', 'Body Shape ID': '443,324,33...       0.0   \n",
      "3426   {'Add-Ons': 'NA', 'Body Shape ID': '324,333,42...     921.0   \n",
      "3461   {'Add-Ons': 'Comes with a belt', 'Body Shape I...       0.0   \n",
      "3936   {'Add-Ons': 'NA', 'Body Shape ID': '443,424', ...       0.0   \n",
      "4032   {'Add-Ons': 'NA', 'Body Shape ID': '424', 'Bod...     692.0   \n",
      "4049   {'Add-Ons': 'NA', 'Body Shape ID': '443,324,33...     314.0   \n",
      "4059   {'Body Shape ID': '333,424', 'Body or Garment ...     962.0   \n",
      "4501   {'Add-Ons': 'NA', 'Body Shape ID': '324,424', ...       0.0   \n",
      "4626   {'Add-Ons': 'NA', 'Body Shape ID': '424', 'Bod...      95.0   \n",
      "5201                                             Missing       0.0   \n",
      "5220   {'Add-Ons': 'NA', 'Body Shape ID': '424', 'Bod...       0.0   \n",
      "5405   {'Add-Ons': 'NA', 'Body Shape ID': '324,333,42...     179.0   \n",
      "5745                                             Missing       0.0   \n",
      "6001   {'Add-Ons': 'NA', 'Body Shape ID': '443,333,42...     353.0   \n",
      "6224   {'Add-Ons': 'NA', 'Body Shape ID': '443,333,42...      45.0   \n",
      "6259   {'Add-Ons': 'NA', 'Body Shape ID': '324,333,42...     179.0   \n",
      "6281   {'Add-Ons': 'NA', 'Body Shape ID': '443,324,33...      52.0   \n",
      "6384   {'Add-Ons': 'NA', 'Body Shape ID': '443,324,33...      77.0   \n",
      "6395   {'Add-Ons': 'NA', 'Body Shape ID': '443,324,33...     853.0   \n",
      "6504                                             Missing       0.0   \n",
      "6999                                             Missing       0.0   \n",
      "7239                                             Missing       0.0   \n",
      "7254                                             Missing       0.0   \n",
      "7389                                             Missing       0.0   \n",
      "7524                                             Missing       0.0   \n",
      "7541   {'Body Shape ID': '443,324', 'Body or Garment ...       0.0   \n",
      "7665   {'Add-Ons': 'NA', 'Body Shape ID': '443,333,42...     903.0   \n",
      "7899                                             Missing       0.0   \n",
      "8409                                             Missing       0.0   \n",
      "9429   {'Add-Ons': 'NA', 'Body Shape ID': '424', 'Bod...     222.0   \n",
      "9828   {'Add-Ons': 'NA', 'Body Shape ID': '443,333,42...     793.0   \n",
      "10036  {'Add-Ons': 'NA', 'Body Shape ID': '443,333,42...     194.0   \n",
      "10074                                            Missing       0.0   \n",
      "10084  {'Add-Ons': 'Comes with a belt', 'Body Shape I...    1014.0   \n",
      "10140  {'Add-Ons': 'NA', 'Body Shape ID': '443,424', ...     581.0   \n",
      "10267  {'Add-Ons': 'NA', 'Body Shape ID': '443,324,33...     742.0   \n",
      "10321  {'Add-Ons': 'NA', 'Body Shape ID': '443,324,42...     353.0   \n",
      "10922                                            Missing       0.0   \n",
      "11333  {'Add-Ons': 'NA', 'Body Shape ID': '443,333,42...       0.0   \n",
      "11351  {'Add-Ons': 'NA', 'Body Shape ID': '424', 'Bod...       0.0   \n",
      "11451  {'Add-Ons': 'NA', 'Body Shape ID': '333,424', ...     757.0   \n",
      "11806                                            Missing       0.0   \n",
      "11836  {'Add-Ons': 'Comes with a belt', 'Body Shape I...       0.0   \n",
      "12014                                            Missing       0.0   \n",
      "12148  {'Add-Ons': 'Comes with a belt', 'Body Shape I...     708.0   \n",
      "12281  {'Add-Ons': 'NA', 'Body Shape ID': '443,324,33...       0.0   \n",
      "12290  {'Add-Ons': 'NA', 'Body Shape ID': '443,324,33...       0.0   \n",
      "12330                                            Missing       0.0   \n",
      "13756                                            Missing       0.0   \n",
      "14018  {'Add-Ons': 'Comes with a belt', 'Body or Garm...       0.0   \n",
      "14289  {'Body Shape ID': '333,424', 'Body or Garment ...       0.0   \n",
      "\n",
      "              brand_name  \n",
      "219              Missing  \n",
      "437              Missing  \n",
      "696              Missing  \n",
      "847              Emprall  \n",
      "3025               Styli  \n",
      "3041              Hive91  \n",
      "3053         Zink London  \n",
      "3168            Oxolloxo  \n",
      "3394             Missing  \n",
      "3426                 U&F  \n",
      "3461             Missing  \n",
      "3936             Missing  \n",
      "4032            Popwings  \n",
      "4049         Forever New  \n",
      "4059             Vishudh  \n",
      "4501             Missing  \n",
      "4626              Athena  \n",
      "5201             Missing  \n",
      "5220             Missing  \n",
      "5405      Clora Creation  \n",
      "5745             Missing  \n",
      "6001                 H&M  \n",
      "6224           Akshatani  \n",
      "6259      Clora Creation  \n",
      "6281   Allen Solly Woman  \n",
      "6384             Antheaa  \n",
      "6395                Sugr  \n",
      "6504             Missing  \n",
      "6999             Missing  \n",
      "7239             Missing  \n",
      "7254             Missing  \n",
      "7389             Missing  \n",
      "7524             Missing  \n",
      "7541             Missing  \n",
      "7665       Tokyo Talkies  \n",
      "7899             Missing  \n",
      "8409             Missing  \n",
      "9429             Disrupt  \n",
      "9828                Sera  \n",
      "10036          Cottinfab  \n",
      "10074            Missing  \n",
      "10084        Zink London  \n",
      "10140         Missguided  \n",
      "10267         Revolution  \n",
      "10321                H&M  \n",
      "10922            Missing  \n",
      "11333            Missing  \n",
      "11351            Missing  \n",
      "11451     Rue Collection  \n",
      "11806            Missing  \n",
      "11836            Missing  \n",
      "12014            Missing  \n",
      "12148       Purple State  \n",
      "12281            Missing  \n",
      "12290            Missing  \n",
      "12330            Missing  \n",
      "13756            Missing  \n",
      "14018            Missing  \n",
      "14289            Missing  \n"
     ]
    }
   ],
   "source": [
    "# 2.check if there any duplicated data in the dataframe\n",
    "duplicate_1 = main_df[main_df.duplicated()]\n",
    "if duplicate_1.empty== True:\n",
    "    print(\"no duplicated data\")\n",
    "else:\n",
    "    print(\"Duplicate Rows except first occurrence based on all columns are :\")\n",
    "    print(duplicate_1)"
   ]
  },
  {
   "cell_type": "code",
   "execution_count": 29,
   "metadata": {},
   "outputs": [],
   "source": [
    "# Dealing with duplicated data\n",
    "main_df.drop_duplicates(keep='first',inplace=True)"
   ]
  },
  {
   "cell_type": "code",
   "execution_count": 30,
   "metadata": {},
   "outputs": [
    {
     "data": {
      "text/plain": [
       "0"
      ]
     },
     "execution_count": 30,
     "metadata": {},
     "output_type": "execute_result"
    }
   ],
   "source": [
    "main_df.duplicated().sum()"
   ]
  },
  {
   "cell_type": "code",
   "execution_count": 31,
   "metadata": {},
   "outputs": [
    {
     "data": {
      "text/plain": [
       "<AxesSubplot:>"
      ]
     },
     "execution_count": 31,
     "metadata": {},
     "output_type": "execute_result"
    },
    {
     "data": {
      "image/png": "[encoded data removed]",
      "text/plain": [
       "<Figure size 720x576 with 1 Axes>"
      ]
     },
     "metadata": {
      "needs_background": "light"
     },
     "output_type": "display_data"
    }
   ],
   "source": [
    "# 3. Checking for outliers \n",
    "main_df.boxplot(figsize=(10,8))"
   ]
  },
  {
   "cell_type": "code",
   "execution_count": null,
   "metadata": {},
   "outputs": [],
   "source": [
    "# Dealing with outliers\n",
    "def remove_outliers(df, col):\n",
    "    q1 = df[col].quantile(0.25)\n",
    "    q3 = df[col].quantile(0.75)\n",
    "    iqr = q3 - q1\n",
    "    lower_bound = q1 - (1.5 * iqr)\n",
    "    upper_bound = q3 + (1.5 * iqr)\n",
    "    df = df[(df[col] > lower_bound) & (df[col] < upper_bound)]\n",
    "    return df\n",
    "\n",
    "# main_df = remove_outliers(main_df, 'p_id')"
   ]
  },
  {
   "cell_type": "code",
   "execution_count": 32,
   "metadata": {},
   "outputs": [
    {
     "data": {
      "text/html": [
       "<div>\n",
       "<style scoped>\n",
       "    .dataframe tbody tr th:only-of-type {\n",
       "        vertical-align: middle;\n",
       "    }\n",
       "\n",
       "    .dataframe tbody tr th {\n",
       "        vertical-align: top;\n",
       "    }\n",
       "\n",
       "    .dataframe thead th {\n",
       "        text-align: right;\n",
       "    }\n",
       "</style>\n",
       "<table border=\"1\" class=\"dataframe\">\n",
       "  <thead>\n",
       "    <tr style=\"text-align: right;\">\n",
       "      <th></th>\n",
       "      <th>p_id</th>\n",
       "      <th>price</th>\n",
       "      <th>ratingCount</th>\n",
       "      <th>avg_rating</th>\n",
       "      <th>brand_id</th>\n",
       "    </tr>\n",
       "  </thead>\n",
       "  <tbody>\n",
       "    <tr>\n",
       "      <th>count</th>\n",
       "      <td>1.479000e+04</td>\n",
       "      <td>14790.000000</td>\n",
       "      <td>14790.000000</td>\n",
       "      <td>14790.000000</td>\n",
       "      <td>14790.000000</td>\n",
       "    </tr>\n",
       "    <tr>\n",
       "      <th>mean</th>\n",
       "      <td>1.513582e+07</td>\n",
       "      <td>2967.534344</td>\n",
       "      <td>184.557208</td>\n",
       "      <td>4.101238</td>\n",
       "      <td>304.013117</td>\n",
       "    </tr>\n",
       "    <tr>\n",
       "      <th>std</th>\n",
       "      <td>4.239025e+06</td>\n",
       "      <td>2520.976470</td>\n",
       "      <td>521.910392</td>\n",
       "      <td>0.316697</td>\n",
       "      <td>344.553680</td>\n",
       "    </tr>\n",
       "    <tr>\n",
       "      <th>min</th>\n",
       "      <td>0.000000e+00</td>\n",
       "      <td>169.000000</td>\n",
       "      <td>1.000000</td>\n",
       "      <td>1.000000</td>\n",
       "      <td>0.000000</td>\n",
       "    </tr>\n",
       "    <tr>\n",
       "      <th>25%</th>\n",
       "      <td>1.390130e+07</td>\n",
       "      <td>1599.000000</td>\n",
       "      <td>29.000000</td>\n",
       "      <td>4.101226</td>\n",
       "      <td>0.000000</td>\n",
       "    </tr>\n",
       "    <tr>\n",
       "      <th>50%</th>\n",
       "      <td>1.623490e+07</td>\n",
       "      <td>2299.000000</td>\n",
       "      <td>184.479410</td>\n",
       "      <td>4.101226</td>\n",
       "      <td>133.000000</td>\n",
       "    </tr>\n",
       "    <tr>\n",
       "      <th>75%</th>\n",
       "      <td>1.800389e+07</td>\n",
       "      <td>3372.500000</td>\n",
       "      <td>184.479410</td>\n",
       "      <td>4.120000</td>\n",
       "      <td>595.000000</td>\n",
       "    </tr>\n",
       "    <tr>\n",
       "      <th>max</th>\n",
       "      <td>1.941576e+07</td>\n",
       "      <td>47999.000000</td>\n",
       "      <td>21274.000000</td>\n",
       "      <td>5.000000</td>\n",
       "      <td>1020.000000</td>\n",
       "    </tr>\n",
       "  </tbody>\n",
       "</table>\n",
       "</div>"
      ],
      "text/plain": [
       "               p_id         price   ratingCount    avg_rating      brand_id\n",
       "count  1.479000e+04  14790.000000  14790.000000  14790.000000  14790.000000\n",
       "mean   1.513582e+07   2967.534344    184.557208      4.101238    304.013117\n",
       "std    4.239025e+06   2520.976470    521.910392      0.316697    344.553680\n",
       "min    0.000000e+00    169.000000      1.000000      1.000000      0.000000\n",
       "25%    1.390130e+07   1599.000000     29.000000      4.101226      0.000000\n",
       "50%    1.623490e+07   2299.000000    184.479410      4.101226    133.000000\n",
       "75%    1.800389e+07   3372.500000    184.479410      4.120000    595.000000\n",
       "max    1.941576e+07  47999.000000  21274.000000      5.000000   1020.000000"
      ]
     },
     "execution_count": 32,
     "metadata": {},
     "output_type": "execute_result"
    }
   ],
   "source": [
    "main_df.describe()"
   ]
  },
  {
   "cell_type": "code",
   "execution_count": 33,
   "metadata": {},
   "outputs": [
    {
     "data": {
      "text/plain": [
       "Index(['p_id', 'name', 'price', 'colour', 'brand', 'ratingCount', 'avg_rating',\n",
       "       'description', 'p_attributes', 'brand_id', 'brand_name'],\n",
       "      dtype='object')"
      ]
     },
     "execution_count": 33,
     "metadata": {},
     "output_type": "execute_result"
    }
   ],
   "source": [
    "main_df.columns"
   ]
  },
  {
   "attachments": {},
   "cell_type": "markdown",
   "metadata": {},
   "source": [
    "### 3. Analysis of the data and visualization"
   ]
  },
  {
   "attachments": {},
   "cell_type": "markdown",
   "metadata": {},
   "source": [
    "Questions to answer:\n",
    "<ol start=1>\n",
    "<li> What is the most popular brand?</li>\n",
    "<li> what are the most expensive brands?</li>\n",
    "<li> what is the relationship between price and avg_rating?</li>\n",
    "<li> what is the relationship of the features to each other?</li>\n",
    "</ol>"
   ]
  },
  {
   "cell_type": "code",
   "execution_count": 34,
   "metadata": {},
   "outputs": [],
   "source": [
    "sns.set_style('darkgrid')"
   ]
  },
  {
   "cell_type": "code",
   "execution_count": 35,
   "metadata": {},
   "outputs": [
    {
     "data": {
      "text/plain": [
       "Missing          527\n",
       "Roadster         346\n",
       "Tokyo Talkies    286\n",
       "MANGO            263\n",
       "SASSAFRAS        244\n",
       "                ... \n",
       "Virah Fashion      1\n",
       "Color Trends       1\n",
       "Dollar Missy       1\n",
       "Nakshi             1\n",
       "tantkatha          1\n",
       "Name: brand, Length: 1021, dtype: int64"
      ]
     },
     "execution_count": 35,
     "metadata": {},
     "output_type": "execute_result"
    }
   ],
   "source": [
    "main_df['brand'].value_counts()"
   ]
  },
  {
   "cell_type": "code",
   "execution_count": 36,
   "metadata": {},
   "outputs": [
    {
     "data": {
      "image/png": "[encoded data removed]",
      "text/plain": [
       "<Figure size 720x576 with 1 Axes>"
      ]
     },
     "metadata": {},
     "output_type": "display_data"
    }
   ],
   "source": [
    "# What is the most popular brand?\n",
    "plt.figure(figsize=(12,10))\n",
    "sns.countplot(x='brand', data=main_df, order=main_df['brand'].value_counts().index[:12],palette='magma',orient='h')\n",
    "\n",
    "plt.title('The most popular brand',fontsize=20)\n",
    "plt.xlabel('Brand',fontsize=15)\n",
    "plt.ylabel('frequency',fontsize=15)\n",
    "plt.xticks(rotation=90,fontsize=12)\n",
    "plt.yticks(fontsize=12)\n",
    "plt.show()\n"
   ]
  },
  {
   "attachments": {},
   "cell_type": "markdown",
   "metadata": {},
   "source": [
    "The most popular brands are Roadster ,however, the number of missing values for brand is very high."
   ]
  },
  {
   "cell_type": "code",
   "execution_count": 40,
   "metadata": {},
   "outputs": [
    {
     "data": {
      "image/png": "[encoded data removed]",
      "text/plain": [
       "<Figure size 864x720 with 1 Axes>"
      ]
     },
     "metadata": {},
     "output_type": "display_data"
    }
   ],
   "source": [
    "# what are the most expensive brands?\n",
    "plt.figure(figsize=(12,10))\n",
    "sns.barplot(x=main_df['brand'], y=main_df['price'] , data=main_df ,order=main_df['brand'].value_counts().index[:12],palette='magma')\n",
    "plt.title(\"The Most Expensive brands\",fontsize=20)\n",
    "plt.xlabel(\"Brands\",fontsize=15)\n",
    "plt.ylabel(\"Prices\",fontsize=15)\n",
    "plt.xticks(rotation=75,fontsize=12)\n",
    "plt.yticks(fontsize=12)\n",
    "plt.show()"
   ]
  },
  {
   "attachments": {},
   "cell_type": "markdown",
   "metadata": {},
   "source": [
    "The most expensive brand is Mitera."
   ]
  },
  {
   "cell_type": "code",
   "execution_count": 42,
   "metadata": {},
   "outputs": [
    {
     "data": {
      "image/png": "[encoded data removed]",
      "text/plain": [
       "<Figure size 720x576 with 1 Axes>"
      ]
     },
     "metadata": {},
     "output_type": "display_data"
    }
   ],
   "source": [
    "# what is the relationship between price and avg_rating\n",
    "plt.figure(figsize=(10,8))\n",
    "sns.scatterplot(data=main_df, x='price', y='avg_rating',palette='magma')\n",
    "plt.title(\"The Most Expensive brands\",fontsize=20)\n",
    "plt.xlabel(\"Prices\",fontsize=15)\n",
    "plt.ylabel(\"Average ratings\",fontsize=15)\n",
    "plt.xticks(rotation=0,fontsize=12)\n",
    "plt.yticks(fontsize=12)\n",
    "plt.show()"
   ]
  },
  {
   "attachments": {},
   "cell_type": "markdown",
   "metadata": {},
   "source": [
    "There is no linear relationship between average rating and price of the products"
   ]
  },
  {
   "cell_type": "code",
   "execution_count": 44,
   "metadata": {},
   "outputs": [
    {
     "data": {
      "image/png": "[encoded data removed]",
      "text/plain": [
       "<Figure size 720x576 with 2 Axes>"
      ]
     },
     "metadata": {},
     "output_type": "display_data"
    }
   ],
   "source": [
    "# what is the relationship of the features to each other?\n",
    "# plotting a heatmap \n",
    "fig , ax = plt.subplots(figsize=(10,8))\n",
    "sns.heatmap(main_df.corr(),annot=True,ax=ax, cmap='viridis')\n",
    "\n",
    "plt.title(\"\")\n",
    "plt.xticks(fontsize=14)\n",
    "plt.yticks(fontsize=14)\n",
    "plt.show()"
   ]
  },
  {
   "attachments": {},
   "cell_type": "markdown",
   "metadata": {},
   "source": [
    "### 4. Preprocessing of the data"
   ]
  },
  {
   "cell_type": "code",
   "execution_count": null,
   "metadata": {},
   "outputs": [],
   "source": [
    "main_df['p_attributes'].value_counts().index[:5]"
   ]
  },
  {
   "cell_type": "code",
   "execution_count": 46,
   "metadata": {},
   "outputs": [
    {
     "data": {
      "text/plain": [
       "Missing                                                                                                                                                                                                                                                                                                                                                                                 522\n",
       "White light wash 5-pocket high-rise jeans, clean look with no fade, has a button and zip closure, waistband with belt loopsSlim fit<br>Stretchable<br>The model (height 5'8\") is wearing a size 28Cotton, polyester and elastane<br>Machine-wash                                                                                                                                          3\n",
       "Blue and gold-toned ethnic motifs embroidered dupatta chikankari,  fringed border<p>Dupatta length: 2.4 metres<br>Dupatta width: 0.9 metres</p>100% Net<br>Hand wash                                                                                                                                                                                                                      2\n",
       "Blue solid jacket, has a spread collar, 4 pockets, button closure, long sleeves, straight hem, and unlinedCotton<br> Machine-washThe model (height 5'8\") is wearing a size S                                                                                                                                                                                                              2\n",
       "Yellow and pink printed maxi flared skirt, has an elasticated waistband with drawstring closure, flared hem and an attached liningThe model (height 5'8\") is wearing a size 32Shell: 100% cotton<br>Lining: 100% cotton<br>Dry-clean                                                                                                                                                      2\n",
       "                                                                                                                                                                                                                                                                                                                                                                                       ... \n",
       "Beige and blue printed unstitched dress material <br> Beige and blue printed kurta fabric <br> Beige and blue solid bottom fabric <br> Beige and blue printed dupatta, has solid border <br> Disclaimer: Images are for referral purposes only. The actual product is unstitched<p>Dry Clean</p>Top fabric length: <br> Bottom fabric length: <br> Dupatta length: 2 metres (approx)      1\n",
       "Blue and orange abstract printed dupatta,  fringed borderViscose rayon <br> Hand washLength: 1.8 metres<br>Width: 60cm (0.6 metres)                                                                                                                                                                                                                                                       1\n",
       "<ul> <li> Yellow regular top </li> <li> Floral print </li> <li> Tie-up neck,  long,  bishop sleeves </li> <li> Woven crepe </li> <li> Tie-ups closure </li> </ul>Polyester<br>dry clean onlyThe model (height 5'8) is wearing a size S                                                                                                                                                    1\n",
       "Olive Green solid jacket, has a spread collar, 2 pockets, button closure, sleeveless, straight hem, and synthetic liningThe model (height 5'8\") is wearing a size SMaterial: Cotton<br> Machine Wash                                                                                                                                                                                      1\n",
       "<ul> <li> Navy blue knitted trousers </li> <li> Tapered fit </li> <li> Mid-rise </li> <li> Length:  regular </li> <li> Pattern: solid </li> <li> Flat-front, with no pleats design </li> <li> Feature:  plain </li> <li> Na pockets </li> </ul><br> Fit: Tapered Fit <br> The model (height 5'8) is wearing a size 28<p>100% Nylon,Normal Wash</p>                                        1\n",
       "Name: description, Length: 14234, dtype: int64"
      ]
     },
     "execution_count": 46,
     "metadata": {},
     "output_type": "execute_result"
    }
   ],
   "source": [
    "main_df['description'].value_counts().index[:5]"
   ]
  },
  {
   "cell_type": "code",
   "execution_count": 47,
   "metadata": {},
   "outputs": [],
   "source": [
    "# dropping both the column p_attributes and description as they are text data \n",
    "main_df.drop(['p_attributes','description'],axis=1,inplace=True)"
   ]
  },
  {
   "cell_type": "code",
   "execution_count": 48,
   "metadata": {},
   "outputs": [],
   "source": [
    "# dropping the brand_name column as it is a duplicate of the brand column\n",
    "main_df.drop(['brand_name'],axis=1,inplace=True)"
   ]
  },
  {
   "cell_type": "code",
   "execution_count": 49,
   "metadata": {},
   "outputs": [
    {
     "data": {
      "text/plain": [
       "p_id           float64\n",
       "name            object\n",
       "price          float64\n",
       "colour          object\n",
       "brand           object\n",
       "ratingCount    float64\n",
       "avg_rating     float64\n",
       "brand_id       float64\n",
       "dtype: object"
      ]
     },
     "execution_count": 49,
     "metadata": {},
     "output_type": "execute_result"
    }
   ],
   "source": [
    "main_df.dtypes"
   ]
  },
  {
   "cell_type": "code",
   "execution_count": 50,
   "metadata": {},
   "outputs": [],
   "source": [
    "# label encoding the categorical data\n",
    "\n",
    "from sklearn.preprocessing import LabelEncoder\n",
    "\n",
    "def label_encoder(df, column):\n",
    "    le = LabelEncoder()\n",
    "    if df[column].dtype == 'object':\n",
    "        df[column] = le.fit_transform(df[column])\n",
    "    return df\n",
    "\n",
    "main_df = label_encoder(main_df, 'brand')\n",
    "main_df = label_encoder(main_df, 'colour')\n",
    "main_df = label_encoder(main_df, 'name')"
   ]
  },
  {
   "cell_type": "code",
   "execution_count": 51,
   "metadata": {},
   "outputs": [
    {
     "data": {
      "text/plain": [
       "p_id           float64\n",
       "name             int64\n",
       "price          float64\n",
       "colour           int64\n",
       "brand            int64\n",
       "ratingCount    float64\n",
       "avg_rating     float64\n",
       "brand_id       float64\n",
       "dtype: object"
      ]
     },
     "execution_count": 51,
     "metadata": {},
     "output_type": "execute_result"
    }
   ],
   "source": [
    "main_df.dtypes"
   ]
  },
  {
   "cell_type": "code",
   "execution_count": 52,
   "metadata": {},
   "outputs": [],
   "source": [
    "# feature scaling \n",
    "from sklearn.preprocessing import StandardScaler\n",
    "\n",
    "def scale_features(df, columns):\n",
    "    sc = StandardScaler()\n",
    "    for col in columns:\n",
    "        if col in df.columns and df[col].dtype != 'object':\n",
    "            df[col] = sc.fit_transform(df[col].values.reshape(-1,1))\n",
    "    return df\n",
    "\n",
    "main_df = scale_features(main_df, main_df.columns)"
   ]
  },
  {
   "cell_type": "code",
   "execution_count": 53,
   "metadata": {},
   "outputs": [
    {
     "data": {
      "text/plain": [
       "Index(['p_id', 'name', 'brand', 'ratingCount', 'brand_id'], dtype='object')"
      ]
     },
     "execution_count": 53,
     "metadata": {},
     "output_type": "execute_result"
    }
   ],
   "source": [
    "# feature selection\n",
    "from sklearn.feature_selection import SelectKBest\n",
    "\n",
    "def feature_selection(df, target, k):\n",
    "    X = df.drop(target, axis=1)\n",
    "    y = df[target]\n",
    "    selector = SelectKBest(k=k)\n",
    "    selector.fit(X, y)\n",
    "    return X.columns[selector.get_support()]\n",
    "\n",
    "features = feature_selection(main_df, 'price', 5)\n",
    "features"
   ]
  },
  {
   "cell_type": "code",
   "execution_count": 54,
   "metadata": {},
   "outputs": [],
   "source": [
    "# log transformation \n",
    "\n",
    "# def log_transformer(main_df, col):\n",
    "    #for column in col:\n",
    "        #main_df[column] = np.log(main_df[column])\n",
    "    #return main_df\n",
    "\n",
    "# main_df = log_transformer(main_df, main_df.columns)"
   ]
  },
  {
   "cell_type": "code",
   "execution_count": 55,
   "metadata": {},
   "outputs": [],
   "source": [
    "# dropping unnecessary features\n",
    "main_df.drop(['p_id'],axis=1,inplace=True)"
   ]
  },
  {
   "cell_type": "code",
   "execution_count": 56,
   "metadata": {},
   "outputs": [],
   "source": [
    "# splitting the data into train and test set\n",
    "from sklearn.model_selection import train_test_split\n",
    "\n",
    "X = main_df.drop('price', axis=1)\n",
    "y = main_df['price']\n",
    "\n",
    "X_train, X_test, y_train, y_test = train_test_split(X, y, test_size=0.2, random_state=42)"
   ]
  },
  {
   "attachments": {},
   "cell_type": "markdown",
   "metadata": {},
   "source": [
    "### Machine Learning Models"
   ]
  },
  {
   "cell_type": "code",
   "execution_count": 57,
   "metadata": {},
   "outputs": [],
   "source": [
    "# Linear Regression\n",
    "from sklearn.linear_model import LinearRegression\n",
    "\n",
    "def Modelling(model, X_train, y_train, X_test, y_test):\n",
    "    model.fit(X_train, y_train)\n",
    "    y_pred = model.predict(X_test)\n",
    "    return y_pred\n",
    "\n",
    "def Evaluation(y_test, y_pred):\n",
    "    from sklearn.metrics import mean_squared_error, r2_score\n",
    "    print('Mean Squared Error: ', mean_squared_error(y_test, y_pred))\n",
    "    print('R2 Score: ', r2_score(y_test, y_pred))\n",
    "\n",
    "y_pred  = Modelling(LinearRegression(), X_train, y_train, X_test, y_test)"
   ]
  },
  {
   "cell_type": "code",
   "execution_count": 58,
   "metadata": {},
   "outputs": [
    {
     "name": "stdout",
     "output_type": "stream",
     "text": [
      "Mean Squared Error:  0.963195470724229\n",
      "R2 Score:  0.006742244986454704\n"
     ]
    }
   ],
   "source": [
    "# Evaluation of the base linear regression model\n",
    "Evaluation(y_test, y_pred)"
   ]
  },
  {
   "attachments": {},
   "cell_type": "markdown",
   "metadata": {},
   "source": [
    "The performance of the baseline linear regression model was not satisfactory, as indicated by its R2 score of 0.9632 and Mean Squared Error of 0.00674.\n",
    "\n",
    "The R2 score, also known as the coefficient of determination, is a measure of how well the model fits the data. It ranges from 0 to 1, with higher values indicating a better fit. A negative R2 score indicates that the model is performing worse than a model that simply predicts the mean of the target variable.\n",
    "\n",
    "The Mean Squared Error (MSE) is a measure of the average squared difference between the predicted values and the true values. It is used to evaluate the model's performance. A high MSE indicates that the model is not making accurate predictions."
   ]
  },
  {
   "cell_type": "code",
   "execution_count": 59,
   "metadata": {},
   "outputs": [
    {
     "data": {
      "text/plain": [
       "array([ 0.48850408, -0.50677884, -0.18546391, ..., -0.76105399,\n",
       "       -0.78088825, -0.30486612])"
      ]
     },
     "execution_count": 59,
     "metadata": {},
     "output_type": "execute_result"
    }
   ],
   "source": [
    "# Decision Tree\n",
    "from sklearn.tree import DecisionTreeRegressor\n",
    "\n",
    "y_pred1  = Modelling(DecisionTreeRegressor(), X_train, y_train, X_test, y_test)\n",
    "y_pred1"
   ]
  },
  {
   "cell_type": "code",
   "execution_count": 60,
   "metadata": {},
   "outputs": [
    {
     "name": "stdout",
     "output_type": "stream",
     "text": [
      "Mean Squared Error:  0.9726405327706834\n",
      "R2 Score:  -0.0029976067979096133\n"
     ]
    }
   ],
   "source": [
    "# Evaluation of the decision tree model\n",
    "Evaluation(y_test, y_pred1)"
   ]
  },
  {
   "attachments": {},
   "cell_type": "markdown",
   "metadata": {},
   "source": [
    "The Decision tree model performed worse than the linear regression model, as indicated by its lower R2 score of -0.0029976 and higher Mean Squared Error (MSE) of 0.97264."
   ]
  },
  {
   "cell_type": "code",
   "execution_count": 61,
   "metadata": {},
   "outputs": [
    {
     "data": {
      "text/plain": [
       "array([-0.20971724, -0.44172249, -0.23613646, ..., -0.5438689 ,\n",
       "       -0.55083469, -0.22433905])"
      ]
     },
     "execution_count": 61,
     "metadata": {},
     "output_type": "execute_result"
    }
   ],
   "source": [
    "# Random Forest\n",
    "from sklearn.ensemble import RandomForestRegressor\n",
    "\n",
    "y_pred2  = Modelling(RandomForestRegressor(), X_train, y_train, X_test, y_test)\n",
    "y_pred2"
   ]
  },
  {
   "cell_type": "code",
   "execution_count": 62,
   "metadata": {},
   "outputs": [
    {
     "name": "stdout",
     "output_type": "stream",
     "text": [
      "Mean Squared Error:  0.5824676466417393\n",
      "R2 Score:  0.3993529614125043\n"
     ]
    }
   ],
   "source": [
    "# Evaluation of the Random forest model\n",
    "Evaluation(y_test, y_pred2)"
   ]
  },
  {
   "attachments": {},
   "cell_type": "markdown",
   "metadata": {},
   "source": [
    "The Random forest model outperformed both the Decision tree model and the linear Regression model, as indicated by its higher R2 score and lower Mean Squared Error (MSE).In this case, the Random forest model had an R2 score of 0.39935 and an MSE of 0.5825"
   ]
  },
  {
   "cell_type": "code",
   "execution_count": 64,
   "metadata": {},
   "outputs": [
    {
     "name": "stdout",
     "output_type": "stream",
     "text": [
      "Fitting 3 folds for each of 10 candidates, totalling 30 fits\n"
     ]
    },
    {
     "data": {
      "text/plain": [
       "{'n_estimators': 300,\n",
       " 'min_samples_split': 5,\n",
       " 'min_samples_leaf': 2,\n",
       " 'max_depth': 20}"
      ]
     },
     "execution_count": 64,
     "metadata": {},
     "output_type": "execute_result"
    }
   ],
   "source": [
    "# tuning Random forest model\n",
    "from sklearn.model_selection import GridSearchCV,RandomizedSearchCV\n",
    "\n",
    "params = {\n",
    "    'n_estimators': [100, 200, 300, 400, 500],\n",
    "    'max_depth': [5, 10, 15, 20, 25, 30],\n",
    "    'min_samples_split': [2, 5, 10, 15, 100],\n",
    "    'min_samples_leaf': [1, 2, 5, 10]   \n",
    "}\n",
    "\n",
    "grid = RandomizedSearchCV(RandomForestRegressor(), params, verbose=1, cv=3, n_jobs=-1)\n",
    "grid.fit(X_train, y_train)\n",
    "\n",
    "grid.best_params_"
   ]
  },
  {
   "cell_type": "code",
   "execution_count": 65,
   "metadata": {},
   "outputs": [
    {
     "data": {
      "text/plain": [
       "array([-0.18301404, -0.33466642, -0.25958909, ..., -0.51331288,\n",
       "       -0.47286351, -0.15142897])"
      ]
     },
     "execution_count": 65,
     "metadata": {},
     "output_type": "execute_result"
    }
   ],
   "source": [
    "# tuned Random forest model\n",
    "y_pred3  = Modelling(RandomForestRegressor(n_estimators= 300, min_samples_split= 5, min_samples_leaf= 2, max_depth= 20), X_train, y_train, X_test, y_test)\n",
    "y_pred3"
   ]
  },
  {
   "cell_type": "code",
   "execution_count": 66,
   "metadata": {},
   "outputs": [
    {
     "name": "stdout",
     "output_type": "stream",
     "text": [
      "Mean Squared Error:  0.5433147001870865\n",
      "R2 Score:  0.43972791009085865\n"
     ]
    }
   ],
   "source": [
    "# Evaluation of the tuned Random forest model\n",
    "Evaluation(y_test, y_pred3)"
   ]
  },
  {
   "attachments": {},
   "cell_type": "markdown",
   "metadata": {},
   "source": [
    "After adjusting the hyperparameters of the Random forest model through a process called \"tuning,\" the model's performance improved. This was demonstrated by an increase in the R2 score to 0.43972 and a decrease in the Mean Squared Error (MSE) to 0.54331.\n",
    "\n",
    "Overall, the tuning process resulted in an improvement in the performance of the Random forest model, as indicated by the higher R2 score and lower MSE."
   ]
  },
  {
   "cell_type": "code",
   "execution_count": 67,
   "metadata": {},
   "outputs": [
    {
     "data": {
      "text/plain": [
       "array([0, 3, 0, ..., 1, 1, 1], dtype=int32)"
      ]
     },
     "execution_count": 67,
     "metadata": {},
     "output_type": "execute_result"
    }
   ],
   "source": [
    "# clustering\n",
    "from sklearn.cluster import KMeans\n",
    "\n",
    "def clustering(df, n_clusters):\n",
    "    kmeans = KMeans(n_clusters=n_clusters)\n",
    "    kmeans.fit(df)\n",
    "    return kmeans\n",
    "\n",
    "kmeans = clustering(main_df, 5)\n",
    "kmeans.labels_\n"
   ]
  },
  {
   "cell_type": "code",
   "execution_count": 68,
   "metadata": {},
   "outputs": [
    {
     "data": {
      "text/plain": [
       "array([[-9.60753458e-01, -9.63436118e-02,  7.00772661e-03,\n",
       "        -9.79378724e-01, -4.97365321e-02,  1.50808210e-01,\n",
       "        -5.10492782e-01],\n",
       "       [ 6.41798603e-01,  5.95752487e-02, -9.53817094e-03,\n",
       "         6.55584814e-01, -1.11770130e-03,  1.31705352e-01,\n",
       "         1.31468954e+00],\n",
       "       [ 9.10267525e-01,  9.89286206e-02, -2.34579050e-03,\n",
       "         9.24681426e-01, -3.42875973e-02,  1.12263155e-01,\n",
       "        -8.58604927e-01],\n",
       "       [-1.95307606e-01, -3.65880071e-01, -2.55780839e-02,\n",
       "        -1.66045759e-01,  1.45347597e+01,  2.30892463e-01,\n",
       "        -2.26080020e-01],\n",
       "       [-9.88031200e-02,  9.79569389e-03,  1.71170832e-02,\n",
       "        -9.52646183e-02, -3.18786839e-01, -3.36245695e+00,\n",
       "        -1.40228205e-01]])"
      ]
     },
     "execution_count": 68,
     "metadata": {},
     "output_type": "execute_result"
    }
   ],
   "source": [
    "kmeans.cluster_centers_"
   ]
  },
  {
   "cell_type": "code",
   "execution_count": 69,
   "metadata": {},
   "outputs": [
    {
     "data": {
      "image/png": "[encoded data removed]",
      "text/plain": [
       "<Figure size 720x576 with 1 Axes>"
      ]
     },
     "metadata": {},
     "output_type": "display_data"
    }
   ],
   "source": [
    "# plotting the clusters\n",
    "plt.figure(figsize=(10,8))\n",
    "plt.scatter(main_df['avg_rating'], main_df['price'], c=kmeans.labels_, cmap='rainbow')\n",
    "plt.scatter(kmeans.cluster_centers_[:,0] ,kmeans.cluster_centers_[:,1], color='black')\n",
    "plt.title(\"Clusters of the products\",fontsize=20)\n",
    "plt.xlabel(\"Average ratings\",fontsize=15)\n",
    "plt.ylabel(\"Prices\",fontsize=15)\n",
    "plt.xticks(rotation=0,fontsize=12)\n",
    "plt.yticks(fontsize=12)\n",
    "plt.show()"
   ]
  },
  {
   "cell_type": "code",
   "execution_count": null,
   "metadata": {},
   "outputs": [],
   "source": []
  }
 ],
 "metadata": {
  "kernelspec": {
   "display_name": "data",
   "language": "python",
   "name": "python3"
  },
  "language_info": {
   "codemirror_mode": {
    "name": "ipython",
    "version": 3
   },
   "file_extension": ".py",
   "mimetype": "text/x-python",
   "name": "python",
   "nbconvert_exporter": "python",
   "pygments_lexer": "ipython3",
   "version": "3.9.7 (default, Sep 16 2021, 08:50:36) \n[Clang 10.0.0 ]"
  },
  "orig_nbformat": 4,
  "vscode": {
   "interpreter": {
    "hash": "4b5221f7fd568601ffb692ded55cc6a8f9f720c6422993e13b3964f3c2d5ea0a"
   }
  }
 },
 "nbformat": 4,
 "nbformat_minor": 2
}
